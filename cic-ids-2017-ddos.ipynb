{
 "cells": [
  {
   "cell_type": "code",
   "execution_count": 1,
   "id": "aaab7924",
   "metadata": {
    "execution": {
     "iopub.execute_input": "2024-02-29T07:10:49.842920Z",
     "iopub.status.busy": "2024-02-29T07:10:49.842493Z",
     "iopub.status.idle": "2024-02-29T07:10:53.084227Z",
     "shell.execute_reply": "2024-02-29T07:10:53.083094Z"
    },
    "papermill": {
     "duration": 3.255157,
     "end_time": "2024-02-29T07:10:53.087106",
     "exception": false,
     "start_time": "2024-02-29T07:10:49.831949",
     "status": "completed"
    },
    "tags": []
   },
   "outputs": [],
   "source": [
    "import pandas as pd\n",
    "import seaborn as sns\n",
    "import numpy as np\n",
    "import matplotlib.pyplot as plt\n",
    "from sklearn.ensemble import BaggingClassifier, GradientBoostingClassifier, AdaBoostClassifier, RandomForestClassifier\n",
    "from sklearn.tree import DecisionTreeClassifier\n",
    "from sklearn.metrics import precision_recall_curve, accuracy_score, recall_score, precision_score, f1_score,log_loss ,matthews_corrcoef, confusion_matrix, accuracy_score, log_loss, roc_curve, auc, precision_recall_curve\n",
    "from sklearn.model_selection import train_test_split\n",
    "from sklearn.preprocessing import LabelBinarizer,LabelEncoder, StandardScaler\n",
    "from sklearn.linear_model import LinearRegression\n",
    "from sklearn.decomposition import PCA\n",
    "from sklearn.impute import SimpleImputer\n",
    "import IPython.display as ipd\n",
    "import warnings\n",
    "pd.set_option('future.no_silent_downcasting', True)\n",
    "%matplotlib inline"
   ]
  },
  {
   "cell_type": "code",
   "execution_count": 2,
   "id": "97e5d303",
   "metadata": {
    "execution": {
     "iopub.execute_input": "2024-02-29T07:10:53.109431Z",
     "iopub.status.busy": "2024-02-29T07:10:53.108892Z",
     "iopub.status.idle": "2024-02-29T07:10:53.114133Z",
     "shell.execute_reply": "2024-02-29T07:10:53.112591Z"
    },
    "papermill": {
     "duration": 0.020731,
     "end_time": "2024-02-29T07:10:53.116579",
     "exception": false,
     "start_time": "2024-02-29T07:10:53.095848",
     "status": "completed"
    },
    "tags": []
   },
   "outputs": [],
   "source": [
    "path = \"/kaggle/input/network-intrusion-dataset/Friday-WorkingHours-Afternoon-DDos.pcap_ISCX.csv\""
   ]
  },
  {
   "cell_type": "code",
   "execution_count": 3,
   "id": "7f2c20f6",
   "metadata": {
    "execution": {
     "iopub.execute_input": "2024-02-29T07:10:53.137388Z",
     "iopub.status.busy": "2024-02-29T07:10:53.136723Z",
     "iopub.status.idle": "2024-02-29T07:10:56.109246Z",
     "shell.execute_reply": "2024-02-29T07:10:56.108136Z"
    },
    "papermill": {
     "duration": 2.987124,
     "end_time": "2024-02-29T07:10:56.112365",
     "exception": false,
     "start_time": "2024-02-29T07:10:53.125241",
     "status": "completed"
    },
    "tags": []
   },
   "outputs": [],
   "source": [
    "df = pd.read_csv(path)"
   ]
  },
  {
   "cell_type": "code",
   "execution_count": 4,
   "id": "69e66d09",
   "metadata": {
    "execution": {
     "iopub.execute_input": "2024-02-29T07:10:56.132990Z",
     "iopub.status.busy": "2024-02-29T07:10:56.132522Z",
     "iopub.status.idle": "2024-02-29T07:10:56.172193Z",
     "shell.execute_reply": "2024-02-29T07:10:56.170209Z"
    },
    "papermill": {
     "duration": 0.052828,
     "end_time": "2024-02-29T07:10:56.174900",
     "exception": false,
     "start_time": "2024-02-29T07:10:56.122072",
     "status": "completed"
    },
    "tags": []
   },
   "outputs": [
    {
     "data": {
      "text/html": [
       "<div>\n",
       "<style scoped>\n",
       "    .dataframe tbody tr th:only-of-type {\n",
       "        vertical-align: middle;\n",
       "    }\n",
       "\n",
       "    .dataframe tbody tr th {\n",
       "        vertical-align: top;\n",
       "    }\n",
       "\n",
       "    .dataframe thead th {\n",
       "        text-align: right;\n",
       "    }\n",
       "</style>\n",
       "<table border=\"1\" class=\"dataframe\">\n",
       "  <thead>\n",
       "    <tr style=\"text-align: right;\">\n",
       "      <th></th>\n",
       "      <th>Destination Port</th>\n",
       "      <th>Flow Duration</th>\n",
       "      <th>Total Fwd Packets</th>\n",
       "      <th>Total Backward Packets</th>\n",
       "      <th>Total Length of Fwd Packets</th>\n",
       "      <th>Total Length of Bwd Packets</th>\n",
       "      <th>Fwd Packet Length Max</th>\n",
       "      <th>Fwd Packet Length Min</th>\n",
       "      <th>Fwd Packet Length Mean</th>\n",
       "      <th>Fwd Packet Length Std</th>\n",
       "      <th>...</th>\n",
       "      <th>min_seg_size_forward</th>\n",
       "      <th>Active Mean</th>\n",
       "      <th>Active Std</th>\n",
       "      <th>Active Max</th>\n",
       "      <th>Active Min</th>\n",
       "      <th>Idle Mean</th>\n",
       "      <th>Idle Std</th>\n",
       "      <th>Idle Max</th>\n",
       "      <th>Idle Min</th>\n",
       "      <th>Label</th>\n",
       "    </tr>\n",
       "  </thead>\n",
       "  <tbody>\n",
       "    <tr>\n",
       "      <th>0</th>\n",
       "      <td>54865</td>\n",
       "      <td>3</td>\n",
       "      <td>2</td>\n",
       "      <td>0</td>\n",
       "      <td>12</td>\n",
       "      <td>0</td>\n",
       "      <td>6</td>\n",
       "      <td>6</td>\n",
       "      <td>6.0</td>\n",
       "      <td>0.0</td>\n",
       "      <td>...</td>\n",
       "      <td>20</td>\n",
       "      <td>0.0</td>\n",
       "      <td>0.0</td>\n",
       "      <td>0</td>\n",
       "      <td>0</td>\n",
       "      <td>0.0</td>\n",
       "      <td>0.0</td>\n",
       "      <td>0</td>\n",
       "      <td>0</td>\n",
       "      <td>BENIGN</td>\n",
       "    </tr>\n",
       "    <tr>\n",
       "      <th>1</th>\n",
       "      <td>55054</td>\n",
       "      <td>109</td>\n",
       "      <td>1</td>\n",
       "      <td>1</td>\n",
       "      <td>6</td>\n",
       "      <td>6</td>\n",
       "      <td>6</td>\n",
       "      <td>6</td>\n",
       "      <td>6.0</td>\n",
       "      <td>0.0</td>\n",
       "      <td>...</td>\n",
       "      <td>20</td>\n",
       "      <td>0.0</td>\n",
       "      <td>0.0</td>\n",
       "      <td>0</td>\n",
       "      <td>0</td>\n",
       "      <td>0.0</td>\n",
       "      <td>0.0</td>\n",
       "      <td>0</td>\n",
       "      <td>0</td>\n",
       "      <td>BENIGN</td>\n",
       "    </tr>\n",
       "    <tr>\n",
       "      <th>2</th>\n",
       "      <td>55055</td>\n",
       "      <td>52</td>\n",
       "      <td>1</td>\n",
       "      <td>1</td>\n",
       "      <td>6</td>\n",
       "      <td>6</td>\n",
       "      <td>6</td>\n",
       "      <td>6</td>\n",
       "      <td>6.0</td>\n",
       "      <td>0.0</td>\n",
       "      <td>...</td>\n",
       "      <td>20</td>\n",
       "      <td>0.0</td>\n",
       "      <td>0.0</td>\n",
       "      <td>0</td>\n",
       "      <td>0</td>\n",
       "      <td>0.0</td>\n",
       "      <td>0.0</td>\n",
       "      <td>0</td>\n",
       "      <td>0</td>\n",
       "      <td>BENIGN</td>\n",
       "    </tr>\n",
       "    <tr>\n",
       "      <th>3</th>\n",
       "      <td>46236</td>\n",
       "      <td>34</td>\n",
       "      <td>1</td>\n",
       "      <td>1</td>\n",
       "      <td>6</td>\n",
       "      <td>6</td>\n",
       "      <td>6</td>\n",
       "      <td>6</td>\n",
       "      <td>6.0</td>\n",
       "      <td>0.0</td>\n",
       "      <td>...</td>\n",
       "      <td>20</td>\n",
       "      <td>0.0</td>\n",
       "      <td>0.0</td>\n",
       "      <td>0</td>\n",
       "      <td>0</td>\n",
       "      <td>0.0</td>\n",
       "      <td>0.0</td>\n",
       "      <td>0</td>\n",
       "      <td>0</td>\n",
       "      <td>BENIGN</td>\n",
       "    </tr>\n",
       "    <tr>\n",
       "      <th>4</th>\n",
       "      <td>54863</td>\n",
       "      <td>3</td>\n",
       "      <td>2</td>\n",
       "      <td>0</td>\n",
       "      <td>12</td>\n",
       "      <td>0</td>\n",
       "      <td>6</td>\n",
       "      <td>6</td>\n",
       "      <td>6.0</td>\n",
       "      <td>0.0</td>\n",
       "      <td>...</td>\n",
       "      <td>20</td>\n",
       "      <td>0.0</td>\n",
       "      <td>0.0</td>\n",
       "      <td>0</td>\n",
       "      <td>0</td>\n",
       "      <td>0.0</td>\n",
       "      <td>0.0</td>\n",
       "      <td>0</td>\n",
       "      <td>0</td>\n",
       "      <td>BENIGN</td>\n",
       "    </tr>\n",
       "  </tbody>\n",
       "</table>\n",
       "<p>5 rows × 79 columns</p>\n",
       "</div>"
      ],
      "text/plain": [
       "    Destination Port   Flow Duration   Total Fwd Packets  \\\n",
       "0              54865               3                   2   \n",
       "1              55054             109                   1   \n",
       "2              55055              52                   1   \n",
       "3              46236              34                   1   \n",
       "4              54863               3                   2   \n",
       "\n",
       "    Total Backward Packets  Total Length of Fwd Packets  \\\n",
       "0                        0                           12   \n",
       "1                        1                            6   \n",
       "2                        1                            6   \n",
       "3                        1                            6   \n",
       "4                        0                           12   \n",
       "\n",
       "    Total Length of Bwd Packets   Fwd Packet Length Max  \\\n",
       "0                             0                       6   \n",
       "1                             6                       6   \n",
       "2                             6                       6   \n",
       "3                             6                       6   \n",
       "4                             0                       6   \n",
       "\n",
       "    Fwd Packet Length Min   Fwd Packet Length Mean   Fwd Packet Length Std  \\\n",
       "0                       6                      6.0                     0.0   \n",
       "1                       6                      6.0                     0.0   \n",
       "2                       6                      6.0                     0.0   \n",
       "3                       6                      6.0                     0.0   \n",
       "4                       6                      6.0                     0.0   \n",
       "\n",
       "   ...   min_seg_size_forward  Active Mean   Active Std   Active Max  \\\n",
       "0  ...                     20          0.0          0.0            0   \n",
       "1  ...                     20          0.0          0.0            0   \n",
       "2  ...                     20          0.0          0.0            0   \n",
       "3  ...                     20          0.0          0.0            0   \n",
       "4  ...                     20          0.0          0.0            0   \n",
       "\n",
       "    Active Min  Idle Mean   Idle Std   Idle Max   Idle Min   Label  \n",
       "0            0        0.0        0.0          0          0  BENIGN  \n",
       "1            0        0.0        0.0          0          0  BENIGN  \n",
       "2            0        0.0        0.0          0          0  BENIGN  \n",
       "3            0        0.0        0.0          0          0  BENIGN  \n",
       "4            0        0.0        0.0          0          0  BENIGN  \n",
       "\n",
       "[5 rows x 79 columns]"
      ]
     },
     "execution_count": 4,
     "metadata": {},
     "output_type": "execute_result"
    }
   ],
   "source": [
    "df.head()"
   ]
  },
  {
   "cell_type": "code",
   "execution_count": 5,
   "id": "d3a32140",
   "metadata": {
    "execution": {
     "iopub.execute_input": "2024-02-29T07:10:56.194847Z",
     "iopub.status.busy": "2024-02-29T07:10:56.194381Z",
     "iopub.status.idle": "2024-02-29T07:10:56.261141Z",
     "shell.execute_reply": "2024-02-29T07:10:56.259452Z"
    },
    "papermill": {
     "duration": 0.081694,
     "end_time": "2024-02-29T07:10:56.265817",
     "exception": false,
     "start_time": "2024-02-29T07:10:56.184123",
     "status": "completed"
    },
    "tags": []
   },
   "outputs": [
    {
     "name": "stdout",
     "output_type": "stream",
     "text": [
      "<class 'pandas.core.frame.DataFrame'>\n",
      "RangeIndex: 225745 entries, 0 to 225744\n",
      "Data columns (total 79 columns):\n",
      " #   Column                        Non-Null Count   Dtype  \n",
      "---  ------                        --------------   -----  \n",
      " 0    Destination Port             225745 non-null  int64  \n",
      " 1    Flow Duration                225745 non-null  int64  \n",
      " 2    Total Fwd Packets            225745 non-null  int64  \n",
      " 3    Total Backward Packets       225745 non-null  int64  \n",
      " 4   Total Length of Fwd Packets   225745 non-null  int64  \n",
      " 5    Total Length of Bwd Packets  225745 non-null  int64  \n",
      " 6    Fwd Packet Length Max        225745 non-null  int64  \n",
      " 7    Fwd Packet Length Min        225745 non-null  int64  \n",
      " 8    Fwd Packet Length Mean       225745 non-null  float64\n",
      " 9    Fwd Packet Length Std        225745 non-null  float64\n",
      " 10  Bwd Packet Length Max         225745 non-null  int64  \n",
      " 11   Bwd Packet Length Min        225745 non-null  int64  \n",
      " 12   Bwd Packet Length Mean       225745 non-null  float64\n",
      " 13   Bwd Packet Length Std        225745 non-null  float64\n",
      " 14  Flow Bytes/s                  225741 non-null  float64\n",
      " 15   Flow Packets/s               225745 non-null  float64\n",
      " 16   Flow IAT Mean                225745 non-null  float64\n",
      " 17   Flow IAT Std                 225745 non-null  float64\n",
      " 18   Flow IAT Max                 225745 non-null  int64  \n",
      " 19   Flow IAT Min                 225745 non-null  int64  \n",
      " 20  Fwd IAT Total                 225745 non-null  int64  \n",
      " 21   Fwd IAT Mean                 225745 non-null  float64\n",
      " 22   Fwd IAT Std                  225745 non-null  float64\n",
      " 23   Fwd IAT Max                  225745 non-null  int64  \n",
      " 24   Fwd IAT Min                  225745 non-null  int64  \n",
      " 25  Bwd IAT Total                 225745 non-null  int64  \n",
      " 26   Bwd IAT Mean                 225745 non-null  float64\n",
      " 27   Bwd IAT Std                  225745 non-null  float64\n",
      " 28   Bwd IAT Max                  225745 non-null  int64  \n",
      " 29   Bwd IAT Min                  225745 non-null  int64  \n",
      " 30  Fwd PSH Flags                 225745 non-null  int64  \n",
      " 31   Bwd PSH Flags                225745 non-null  int64  \n",
      " 32   Fwd URG Flags                225745 non-null  int64  \n",
      " 33   Bwd URG Flags                225745 non-null  int64  \n",
      " 34   Fwd Header Length            225745 non-null  int64  \n",
      " 35   Bwd Header Length            225745 non-null  int64  \n",
      " 36  Fwd Packets/s                 225745 non-null  float64\n",
      " 37   Bwd Packets/s                225745 non-null  float64\n",
      " 38   Min Packet Length            225745 non-null  int64  \n",
      " 39   Max Packet Length            225745 non-null  int64  \n",
      " 40   Packet Length Mean           225745 non-null  float64\n",
      " 41   Packet Length Std            225745 non-null  float64\n",
      " 42   Packet Length Variance       225745 non-null  float64\n",
      " 43  FIN Flag Count                225745 non-null  int64  \n",
      " 44   SYN Flag Count               225745 non-null  int64  \n",
      " 45   RST Flag Count               225745 non-null  int64  \n",
      " 46   PSH Flag Count               225745 non-null  int64  \n",
      " 47   ACK Flag Count               225745 non-null  int64  \n",
      " 48   URG Flag Count               225745 non-null  int64  \n",
      " 49   CWE Flag Count               225745 non-null  int64  \n",
      " 50   ECE Flag Count               225745 non-null  int64  \n",
      " 51   Down/Up Ratio                225745 non-null  int64  \n",
      " 52   Average Packet Size          225745 non-null  float64\n",
      " 53   Avg Fwd Segment Size         225745 non-null  float64\n",
      " 54   Avg Bwd Segment Size         225745 non-null  float64\n",
      " 55   Fwd Header Length.1          225745 non-null  int64  \n",
      " 56  Fwd Avg Bytes/Bulk            225745 non-null  int64  \n",
      " 57   Fwd Avg Packets/Bulk         225745 non-null  int64  \n",
      " 58   Fwd Avg Bulk Rate            225745 non-null  int64  \n",
      " 59   Bwd Avg Bytes/Bulk           225745 non-null  int64  \n",
      " 60   Bwd Avg Packets/Bulk         225745 non-null  int64  \n",
      " 61  Bwd Avg Bulk Rate             225745 non-null  int64  \n",
      " 62  Subflow Fwd Packets           225745 non-null  int64  \n",
      " 63   Subflow Fwd Bytes            225745 non-null  int64  \n",
      " 64   Subflow Bwd Packets          225745 non-null  int64  \n",
      " 65   Subflow Bwd Bytes            225745 non-null  int64  \n",
      " 66  Init_Win_bytes_forward        225745 non-null  int64  \n",
      " 67   Init_Win_bytes_backward      225745 non-null  int64  \n",
      " 68   act_data_pkt_fwd             225745 non-null  int64  \n",
      " 69   min_seg_size_forward         225745 non-null  int64  \n",
      " 70  Active Mean                   225745 non-null  float64\n",
      " 71   Active Std                   225745 non-null  float64\n",
      " 72   Active Max                   225745 non-null  int64  \n",
      " 73   Active Min                   225745 non-null  int64  \n",
      " 74  Idle Mean                     225745 non-null  float64\n",
      " 75   Idle Std                     225745 non-null  float64\n",
      " 76   Idle Max                     225745 non-null  int64  \n",
      " 77   Idle Min                     225745 non-null  int64  \n",
      " 78   Label                        225745 non-null  object \n",
      "dtypes: float64(24), int64(54), object(1)\n",
      "memory usage: 136.1+ MB\n"
     ]
    }
   ],
   "source": [
    "df.info()"
   ]
  },
  {
   "cell_type": "code",
   "execution_count": 6,
   "id": "592d3464",
   "metadata": {
    "execution": {
     "iopub.execute_input": "2024-02-29T07:10:56.287441Z",
     "iopub.status.busy": "2024-02-29T07:10:56.287055Z",
     "iopub.status.idle": "2024-02-29T07:10:56.332420Z",
     "shell.execute_reply": "2024-02-29T07:10:56.331113Z"
    },
    "papermill": {
     "duration": 0.061588,
     "end_time": "2024-02-29T07:10:56.336706",
     "exception": false,
     "start_time": "2024-02-29T07:10:56.275118",
     "status": "completed"
    },
    "tags": []
   },
   "outputs": [],
   "source": [
    "df[' Label'] = df[' Label'].replace({'BENIGN': 0, 'DDoS': 1})"
   ]
  },
  {
   "cell_type": "code",
   "execution_count": 7,
   "id": "fa84b5e8",
   "metadata": {
    "execution": {
     "iopub.execute_input": "2024-02-29T07:10:56.359748Z",
     "iopub.status.busy": "2024-02-29T07:10:56.359170Z",
     "iopub.status.idle": "2024-02-29T07:10:56.382725Z",
     "shell.execute_reply": "2024-02-29T07:10:56.381372Z"
    },
    "papermill": {
     "duration": 0.038041,
     "end_time": "2024-02-29T07:10:56.385447",
     "exception": false,
     "start_time": "2024-02-29T07:10:56.347406",
     "status": "completed"
    },
    "tags": []
   },
   "outputs": [
    {
     "data": {
      "text/plain": [
       " Label\n",
       "1    128027\n",
       "0     97718\n",
       "Name: count, dtype: int64"
      ]
     },
     "execution_count": 7,
     "metadata": {},
     "output_type": "execute_result"
    }
   ],
   "source": [
    "df[' Label'].value_counts()"
   ]
  },
  {
   "cell_type": "code",
   "execution_count": 8,
   "id": "1ee7b3fd",
   "metadata": {
    "execution": {
     "iopub.execute_input": "2024-02-29T07:10:56.406281Z",
     "iopub.status.busy": "2024-02-29T07:10:56.405887Z",
     "iopub.status.idle": "2024-02-29T07:10:56.415000Z",
     "shell.execute_reply": "2024-02-29T07:10:56.413691Z"
    },
    "papermill": {
     "duration": 0.022262,
     "end_time": "2024-02-29T07:10:56.417389",
     "exception": false,
     "start_time": "2024-02-29T07:10:56.395127",
     "status": "completed"
    },
    "tags": []
   },
   "outputs": [
    {
     "data": {
      "text/plain": [
       "(225745, 79)"
      ]
     },
     "execution_count": 8,
     "metadata": {},
     "output_type": "execute_result"
    }
   ],
   "source": [
    "df.shape"
   ]
  },
  {
   "cell_type": "code",
   "execution_count": 9,
   "id": "95ebed3b",
   "metadata": {
    "execution": {
     "iopub.execute_input": "2024-02-29T07:10:56.444071Z",
     "iopub.status.busy": "2024-02-29T07:10:56.442282Z",
     "iopub.status.idle": "2024-02-29T07:10:56.459892Z",
     "shell.execute_reply": "2024-02-29T07:10:56.457987Z"
    },
    "papermill": {
     "duration": 0.035273,
     "end_time": "2024-02-29T07:10:56.463177",
     "exception": false,
     "start_time": "2024-02-29T07:10:56.427904",
     "status": "completed"
    },
    "tags": []
   },
   "outputs": [],
   "source": [
    "df[' Label'] = df[' Label'].astype('int64')"
   ]
  },
  {
   "cell_type": "code",
   "execution_count": 10,
   "id": "5e78f7fe",
   "metadata": {
    "execution": {
     "iopub.execute_input": "2024-02-29T07:10:56.488092Z",
     "iopub.status.busy": "2024-02-29T07:10:56.487039Z",
     "iopub.status.idle": "2024-02-29T07:10:56.496810Z",
     "shell.execute_reply": "2024-02-29T07:10:56.495478Z"
    },
    "papermill": {
     "duration": 0.025167,
     "end_time": "2024-02-29T07:10:56.499229",
     "exception": false,
     "start_time": "2024-02-29T07:10:56.474062",
     "status": "completed"
    },
    "tags": []
   },
   "outputs": [
    {
     "data": {
      "text/plain": [
       "Index([' Destination Port', ' Flow Duration', ' Total Fwd Packets',\n",
       "       ' Total Backward Packets', 'Total Length of Fwd Packets',\n",
       "       ' Total Length of Bwd Packets', ' Fwd Packet Length Max',\n",
       "       ' Fwd Packet Length Min', ' Fwd Packet Length Mean',\n",
       "       ' Fwd Packet Length Std', 'Bwd Packet Length Max',\n",
       "       ' Bwd Packet Length Min', ' Bwd Packet Length Mean',\n",
       "       ' Bwd Packet Length Std', 'Flow Bytes/s', ' Flow Packets/s',\n",
       "       ' Flow IAT Mean', ' Flow IAT Std', ' Flow IAT Max', ' Flow IAT Min',\n",
       "       'Fwd IAT Total', ' Fwd IAT Mean', ' Fwd IAT Std', ' Fwd IAT Max',\n",
       "       ' Fwd IAT Min', 'Bwd IAT Total', ' Bwd IAT Mean', ' Bwd IAT Std',\n",
       "       ' Bwd IAT Max', ' Bwd IAT Min', 'Fwd PSH Flags', ' Bwd PSH Flags',\n",
       "       ' Fwd URG Flags', ' Bwd URG Flags', ' Fwd Header Length',\n",
       "       ' Bwd Header Length', 'Fwd Packets/s', ' Bwd Packets/s',\n",
       "       ' Min Packet Length', ' Max Packet Length', ' Packet Length Mean',\n",
       "       ' Packet Length Std', ' Packet Length Variance', 'FIN Flag Count',\n",
       "       ' SYN Flag Count', ' RST Flag Count', ' PSH Flag Count',\n",
       "       ' ACK Flag Count', ' URG Flag Count', ' CWE Flag Count',\n",
       "       ' ECE Flag Count', ' Down/Up Ratio', ' Average Packet Size',\n",
       "       ' Avg Fwd Segment Size', ' Avg Bwd Segment Size',\n",
       "       ' Fwd Header Length.1', 'Fwd Avg Bytes/Bulk', ' Fwd Avg Packets/Bulk',\n",
       "       ' Fwd Avg Bulk Rate', ' Bwd Avg Bytes/Bulk', ' Bwd Avg Packets/Bulk',\n",
       "       'Bwd Avg Bulk Rate', 'Subflow Fwd Packets', ' Subflow Fwd Bytes',\n",
       "       ' Subflow Bwd Packets', ' Subflow Bwd Bytes', 'Init_Win_bytes_forward',\n",
       "       ' Init_Win_bytes_backward', ' act_data_pkt_fwd',\n",
       "       ' min_seg_size_forward', 'Active Mean', ' Active Std', ' Active Max',\n",
       "       ' Active Min', 'Idle Mean', ' Idle Std', ' Idle Max', ' Idle Min',\n",
       "       ' Label'],\n",
       "      dtype='object')"
      ]
     },
     "execution_count": 10,
     "metadata": {},
     "output_type": "execute_result"
    }
   ],
   "source": [
    "df.keys()"
   ]
  },
  {
   "cell_type": "code",
   "execution_count": 11,
   "id": "5178c29f",
   "metadata": {
    "execution": {
     "iopub.execute_input": "2024-02-29T07:10:56.523409Z",
     "iopub.status.busy": "2024-02-29T07:10:56.522993Z",
     "iopub.status.idle": "2024-02-29T07:10:57.390502Z",
     "shell.execute_reply": "2024-02-29T07:10:57.388772Z"
    },
    "papermill": {
     "duration": 0.886829,
     "end_time": "2024-02-29T07:10:57.397011",
     "exception": false,
     "start_time": "2024-02-29T07:10:56.510182",
     "status": "completed"
    },
    "tags": []
   },
   "outputs": [
    {
     "name": "stderr",
     "output_type": "stream",
     "text": [
      "/opt/conda/lib/python3.10/site-packages/pandas/core/nanops.py:1016: RuntimeWarning: invalid value encountered in subtract\n",
      "  sqr = _ensure_numeric((avg - values) ** 2)\n",
      "/opt/conda/lib/python3.10/site-packages/pandas/core/nanops.py:1016: RuntimeWarning: invalid value encountered in subtract\n",
      "  sqr = _ensure_numeric((avg - values) ** 2)\n"
     ]
    },
    {
     "data": {
      "text/html": [
       "<div>\n",
       "<style scoped>\n",
       "    .dataframe tbody tr th:only-of-type {\n",
       "        vertical-align: middle;\n",
       "    }\n",
       "\n",
       "    .dataframe tbody tr th {\n",
       "        vertical-align: top;\n",
       "    }\n",
       "\n",
       "    .dataframe thead th {\n",
       "        text-align: right;\n",
       "    }\n",
       "</style>\n",
       "<table border=\"1\" class=\"dataframe\">\n",
       "  <thead>\n",
       "    <tr style=\"text-align: right;\">\n",
       "      <th></th>\n",
       "      <th>Destination Port</th>\n",
       "      <th>Flow Duration</th>\n",
       "      <th>Total Fwd Packets</th>\n",
       "      <th>Total Backward Packets</th>\n",
       "      <th>Total Length of Fwd Packets</th>\n",
       "      <th>Total Length of Bwd Packets</th>\n",
       "      <th>Fwd Packet Length Max</th>\n",
       "      <th>Fwd Packet Length Min</th>\n",
       "      <th>Fwd Packet Length Mean</th>\n",
       "      <th>Fwd Packet Length Std</th>\n",
       "      <th>...</th>\n",
       "      <th>min_seg_size_forward</th>\n",
       "      <th>Active Mean</th>\n",
       "      <th>Active Std</th>\n",
       "      <th>Active Max</th>\n",
       "      <th>Active Min</th>\n",
       "      <th>Idle Mean</th>\n",
       "      <th>Idle Std</th>\n",
       "      <th>Idle Max</th>\n",
       "      <th>Idle Min</th>\n",
       "      <th>Label</th>\n",
       "    </tr>\n",
       "  </thead>\n",
       "  <tbody>\n",
       "    <tr>\n",
       "      <th>count</th>\n",
       "      <td>225745.00000</td>\n",
       "      <td>2.257450e+05</td>\n",
       "      <td>225745.000000</td>\n",
       "      <td>225745.000000</td>\n",
       "      <td>225745.000000</td>\n",
       "      <td>2.257450e+05</td>\n",
       "      <td>225745.000000</td>\n",
       "      <td>225745.000000</td>\n",
       "      <td>225745.000000</td>\n",
       "      <td>225745.000000</td>\n",
       "      <td>...</td>\n",
       "      <td>225745.000000</td>\n",
       "      <td>2.257450e+05</td>\n",
       "      <td>2.257450e+05</td>\n",
       "      <td>2.257450e+05</td>\n",
       "      <td>2.257450e+05</td>\n",
       "      <td>2.257450e+05</td>\n",
       "      <td>2.257450e+05</td>\n",
       "      <td>2.257450e+05</td>\n",
       "      <td>2.257450e+05</td>\n",
       "      <td>225745.000000</td>\n",
       "    </tr>\n",
       "    <tr>\n",
       "      <th>mean</th>\n",
       "      <td>8879.61946</td>\n",
       "      <td>1.624165e+07</td>\n",
       "      <td>4.874916</td>\n",
       "      <td>4.572775</td>\n",
       "      <td>939.463346</td>\n",
       "      <td>5.960477e+03</td>\n",
       "      <td>538.535693</td>\n",
       "      <td>27.882221</td>\n",
       "      <td>164.826715</td>\n",
       "      <td>214.907242</td>\n",
       "      <td>...</td>\n",
       "      <td>21.482753</td>\n",
       "      <td>1.848261e+05</td>\n",
       "      <td>1.293436e+04</td>\n",
       "      <td>2.080849e+05</td>\n",
       "      <td>1.776201e+05</td>\n",
       "      <td>1.032214e+07</td>\n",
       "      <td>3.611943e+06</td>\n",
       "      <td>1.287813e+07</td>\n",
       "      <td>7.755355e+06</td>\n",
       "      <td>0.567131</td>\n",
       "    </tr>\n",
       "    <tr>\n",
       "      <th>std</th>\n",
       "      <td>19754.64740</td>\n",
       "      <td>3.152437e+07</td>\n",
       "      <td>15.422874</td>\n",
       "      <td>21.755356</td>\n",
       "      <td>3249.403484</td>\n",
       "      <td>3.921834e+04</td>\n",
       "      <td>1864.128991</td>\n",
       "      <td>163.324159</td>\n",
       "      <td>504.892965</td>\n",
       "      <td>797.411073</td>\n",
       "      <td>...</td>\n",
       "      <td>4.166799</td>\n",
       "      <td>7.979250e+05</td>\n",
       "      <td>2.102737e+05</td>\n",
       "      <td>9.002350e+05</td>\n",
       "      <td>7.842602e+05</td>\n",
       "      <td>2.185303e+07</td>\n",
       "      <td>1.275689e+07</td>\n",
       "      <td>2.692126e+07</td>\n",
       "      <td>1.983109e+07</td>\n",
       "      <td>0.495474</td>\n",
       "    </tr>\n",
       "    <tr>\n",
       "      <th>min</th>\n",
       "      <td>0.00000</td>\n",
       "      <td>-1.000000e+00</td>\n",
       "      <td>1.000000</td>\n",
       "      <td>0.000000</td>\n",
       "      <td>0.000000</td>\n",
       "      <td>0.000000e+00</td>\n",
       "      <td>0.000000</td>\n",
       "      <td>0.000000</td>\n",
       "      <td>0.000000</td>\n",
       "      <td>0.000000</td>\n",
       "      <td>...</td>\n",
       "      <td>0.000000</td>\n",
       "      <td>0.000000e+00</td>\n",
       "      <td>0.000000e+00</td>\n",
       "      <td>0.000000e+00</td>\n",
       "      <td>0.000000e+00</td>\n",
       "      <td>0.000000e+00</td>\n",
       "      <td>0.000000e+00</td>\n",
       "      <td>0.000000e+00</td>\n",
       "      <td>0.000000e+00</td>\n",
       "      <td>0.000000</td>\n",
       "    </tr>\n",
       "    <tr>\n",
       "      <th>25%</th>\n",
       "      <td>80.00000</td>\n",
       "      <td>7.118000e+04</td>\n",
       "      <td>2.000000</td>\n",
       "      <td>1.000000</td>\n",
       "      <td>26.000000</td>\n",
       "      <td>0.000000e+00</td>\n",
       "      <td>6.000000</td>\n",
       "      <td>0.000000</td>\n",
       "      <td>6.000000</td>\n",
       "      <td>0.000000</td>\n",
       "      <td>...</td>\n",
       "      <td>20.000000</td>\n",
       "      <td>0.000000e+00</td>\n",
       "      <td>0.000000e+00</td>\n",
       "      <td>0.000000e+00</td>\n",
       "      <td>0.000000e+00</td>\n",
       "      <td>0.000000e+00</td>\n",
       "      <td>0.000000e+00</td>\n",
       "      <td>0.000000e+00</td>\n",
       "      <td>0.000000e+00</td>\n",
       "      <td>0.000000</td>\n",
       "    </tr>\n",
       "    <tr>\n",
       "      <th>50%</th>\n",
       "      <td>80.00000</td>\n",
       "      <td>1.452333e+06</td>\n",
       "      <td>3.000000</td>\n",
       "      <td>4.000000</td>\n",
       "      <td>30.000000</td>\n",
       "      <td>1.640000e+02</td>\n",
       "      <td>20.000000</td>\n",
       "      <td>0.000000</td>\n",
       "      <td>8.666667</td>\n",
       "      <td>5.301991</td>\n",
       "      <td>...</td>\n",
       "      <td>20.000000</td>\n",
       "      <td>0.000000e+00</td>\n",
       "      <td>0.000000e+00</td>\n",
       "      <td>0.000000e+00</td>\n",
       "      <td>0.000000e+00</td>\n",
       "      <td>0.000000e+00</td>\n",
       "      <td>0.000000e+00</td>\n",
       "      <td>0.000000e+00</td>\n",
       "      <td>0.000000e+00</td>\n",
       "      <td>1.000000</td>\n",
       "    </tr>\n",
       "    <tr>\n",
       "      <th>75%</th>\n",
       "      <td>80.00000</td>\n",
       "      <td>8.805237e+06</td>\n",
       "      <td>5.000000</td>\n",
       "      <td>5.000000</td>\n",
       "      <td>63.000000</td>\n",
       "      <td>1.160100e+04</td>\n",
       "      <td>34.000000</td>\n",
       "      <td>6.000000</td>\n",
       "      <td>32.000000</td>\n",
       "      <td>10.263203</td>\n",
       "      <td>...</td>\n",
       "      <td>20.000000</td>\n",
       "      <td>1.878000e+03</td>\n",
       "      <td>0.000000e+00</td>\n",
       "      <td>1.878000e+03</td>\n",
       "      <td>1.862000e+03</td>\n",
       "      <td>8.239725e+06</td>\n",
       "      <td>0.000000e+00</td>\n",
       "      <td>8.253838e+06</td>\n",
       "      <td>7.422849e+06</td>\n",
       "      <td>1.000000</td>\n",
       "    </tr>\n",
       "    <tr>\n",
       "      <th>max</th>\n",
       "      <td>65532.00000</td>\n",
       "      <td>1.199999e+08</td>\n",
       "      <td>1932.000000</td>\n",
       "      <td>2942.000000</td>\n",
       "      <td>183012.000000</td>\n",
       "      <td>5.172346e+06</td>\n",
       "      <td>11680.000000</td>\n",
       "      <td>1472.000000</td>\n",
       "      <td>3867.000000</td>\n",
       "      <td>6692.644993</td>\n",
       "      <td>...</td>\n",
       "      <td>52.000000</td>\n",
       "      <td>1.000000e+08</td>\n",
       "      <td>3.950000e+07</td>\n",
       "      <td>1.000000e+08</td>\n",
       "      <td>1.000000e+08</td>\n",
       "      <td>1.200000e+08</td>\n",
       "      <td>6.530000e+07</td>\n",
       "      <td>1.200000e+08</td>\n",
       "      <td>1.200000e+08</td>\n",
       "      <td>1.000000</td>\n",
       "    </tr>\n",
       "  </tbody>\n",
       "</table>\n",
       "<p>8 rows × 79 columns</p>\n",
       "</div>"
      ],
      "text/plain": [
       "        Destination Port   Flow Duration   Total Fwd Packets  \\\n",
       "count       225745.00000    2.257450e+05       225745.000000   \n",
       "mean          8879.61946    1.624165e+07            4.874916   \n",
       "std          19754.64740    3.152437e+07           15.422874   \n",
       "min              0.00000   -1.000000e+00            1.000000   \n",
       "25%             80.00000    7.118000e+04            2.000000   \n",
       "50%             80.00000    1.452333e+06            3.000000   \n",
       "75%             80.00000    8.805237e+06            5.000000   \n",
       "max          65532.00000    1.199999e+08         1932.000000   \n",
       "\n",
       "        Total Backward Packets  Total Length of Fwd Packets  \\\n",
       "count            225745.000000                225745.000000   \n",
       "mean                  4.572775                   939.463346   \n",
       "std                  21.755356                  3249.403484   \n",
       "min                   0.000000                     0.000000   \n",
       "25%                   1.000000                    26.000000   \n",
       "50%                   4.000000                    30.000000   \n",
       "75%                   5.000000                    63.000000   \n",
       "max                2942.000000                183012.000000   \n",
       "\n",
       "        Total Length of Bwd Packets   Fwd Packet Length Max  \\\n",
       "count                  2.257450e+05           225745.000000   \n",
       "mean                   5.960477e+03              538.535693   \n",
       "std                    3.921834e+04             1864.128991   \n",
       "min                    0.000000e+00                0.000000   \n",
       "25%                    0.000000e+00                6.000000   \n",
       "50%                    1.640000e+02               20.000000   \n",
       "75%                    1.160100e+04               34.000000   \n",
       "max                    5.172346e+06            11680.000000   \n",
       "\n",
       "        Fwd Packet Length Min   Fwd Packet Length Mean  \\\n",
       "count           225745.000000            225745.000000   \n",
       "mean                27.882221               164.826715   \n",
       "std                163.324159               504.892965   \n",
       "min                  0.000000                 0.000000   \n",
       "25%                  0.000000                 6.000000   \n",
       "50%                  0.000000                 8.666667   \n",
       "75%                  6.000000                32.000000   \n",
       "max               1472.000000              3867.000000   \n",
       "\n",
       "        Fwd Packet Length Std  ...   min_seg_size_forward   Active Mean  \\\n",
       "count           225745.000000  ...          225745.000000  2.257450e+05   \n",
       "mean               214.907242  ...              21.482753  1.848261e+05   \n",
       "std                797.411073  ...               4.166799  7.979250e+05   \n",
       "min                  0.000000  ...               0.000000  0.000000e+00   \n",
       "25%                  0.000000  ...              20.000000  0.000000e+00   \n",
       "50%                  5.301991  ...              20.000000  0.000000e+00   \n",
       "75%                 10.263203  ...              20.000000  1.878000e+03   \n",
       "max               6692.644993  ...              52.000000  1.000000e+08   \n",
       "\n",
       "         Active Std    Active Max    Active Min     Idle Mean      Idle Std  \\\n",
       "count  2.257450e+05  2.257450e+05  2.257450e+05  2.257450e+05  2.257450e+05   \n",
       "mean   1.293436e+04  2.080849e+05  1.776201e+05  1.032214e+07  3.611943e+06   \n",
       "std    2.102737e+05  9.002350e+05  7.842602e+05  2.185303e+07  1.275689e+07   \n",
       "min    0.000000e+00  0.000000e+00  0.000000e+00  0.000000e+00  0.000000e+00   \n",
       "25%    0.000000e+00  0.000000e+00  0.000000e+00  0.000000e+00  0.000000e+00   \n",
       "50%    0.000000e+00  0.000000e+00  0.000000e+00  0.000000e+00  0.000000e+00   \n",
       "75%    0.000000e+00  1.878000e+03  1.862000e+03  8.239725e+06  0.000000e+00   \n",
       "max    3.950000e+07  1.000000e+08  1.000000e+08  1.200000e+08  6.530000e+07   \n",
       "\n",
       "           Idle Max      Idle Min          Label  \n",
       "count  2.257450e+05  2.257450e+05  225745.000000  \n",
       "mean   1.287813e+07  7.755355e+06       0.567131  \n",
       "std    2.692126e+07  1.983109e+07       0.495474  \n",
       "min    0.000000e+00  0.000000e+00       0.000000  \n",
       "25%    0.000000e+00  0.000000e+00       0.000000  \n",
       "50%    0.000000e+00  0.000000e+00       1.000000  \n",
       "75%    8.253838e+06  7.422849e+06       1.000000  \n",
       "max    1.200000e+08  1.200000e+08       1.000000  \n",
       "\n",
       "[8 rows x 79 columns]"
      ]
     },
     "execution_count": 11,
     "metadata": {},
     "output_type": "execute_result"
    }
   ],
   "source": [
    "df.describe()"
   ]
  },
  {
   "cell_type": "code",
   "execution_count": 12,
   "id": "7d901d7b",
   "metadata": {
    "execution": {
     "iopub.execute_input": "2024-02-29T07:10:57.425927Z",
     "iopub.status.busy": "2024-02-29T07:10:57.424947Z",
     "iopub.status.idle": "2024-02-29T07:10:57.466494Z",
     "shell.execute_reply": "2024-02-29T07:10:57.465122Z"
    },
    "papermill": {
     "duration": 0.05788,
     "end_time": "2024-02-29T07:10:57.469600",
     "exception": false,
     "start_time": "2024-02-29T07:10:57.411720",
     "status": "completed"
    },
    "tags": []
   },
   "outputs": [
    {
     "data": {
      "text/plain": [
       "['Flow Bytes/s']"
      ]
     },
     "execution_count": 12,
     "metadata": {},
     "output_type": "execute_result"
    }
   ],
   "source": [
    "[features for features in df.columns if df[features].isnull().sum()>0]"
   ]
  },
  {
   "cell_type": "code",
   "execution_count": 13,
   "id": "e1e64a9d",
   "metadata": {
    "execution": {
     "iopub.execute_input": "2024-02-29T07:10:57.506963Z",
     "iopub.status.busy": "2024-02-29T07:10:57.506520Z",
     "iopub.status.idle": "2024-02-29T07:10:57.577918Z",
     "shell.execute_reply": "2024-02-29T07:10:57.576466Z"
    },
    "papermill": {
     "duration": 0.094352,
     "end_time": "2024-02-29T07:10:57.581556",
     "exception": false,
     "start_time": "2024-02-29T07:10:57.487204",
     "status": "completed"
    },
    "tags": []
   },
   "outputs": [],
   "source": [
    "df.dropna(inplace = True)"
   ]
  },
  {
   "cell_type": "code",
   "execution_count": 14,
   "id": "589e5571",
   "metadata": {
    "execution": {
     "iopub.execute_input": "2024-02-29T07:10:57.618420Z",
     "iopub.status.busy": "2024-02-29T07:10:57.617932Z",
     "iopub.status.idle": "2024-02-29T07:11:17.462204Z",
     "shell.execute_reply": "2024-02-29T07:11:17.460126Z"
    },
    "papermill": {
     "duration": 19.866225,
     "end_time": "2024-02-29T07:11:17.466147",
     "exception": false,
     "start_time": "2024-02-29T07:10:57.599922",
     "status": "completed"
    },
    "tags": []
   },
   "outputs": [],
   "source": [
    "has_inf_rows = df.map(np.isinf).any(axis=1)\n",
    "df.drop(index=df[has_inf_rows].index, inplace=True)"
   ]
  },
  {
   "cell_type": "code",
   "execution_count": 15,
   "id": "2bb04cd9",
   "metadata": {
    "execution": {
     "iopub.execute_input": "2024-02-29T07:11:17.491995Z",
     "iopub.status.busy": "2024-02-29T07:11:17.491572Z",
     "iopub.status.idle": "2024-02-29T07:11:37.331128Z",
     "shell.execute_reply": "2024-02-29T07:11:37.329677Z"
    },
    "papermill": {
     "duration": 19.854462,
     "end_time": "2024-02-29T07:11:37.333670",
     "exception": false,
     "start_time": "2024-02-29T07:11:17.479208",
     "status": "completed"
    },
    "tags": []
   },
   "outputs": [
    {
     "name": "stdout",
     "output_type": "stream",
     "text": [
      "No Infinte Values\n",
      "No NaN Values\n"
     ]
    }
   ],
   "source": [
    "has_inf = df.map(np.isinf).any().any()\n",
    "has_nan = df.isnull().values.any()\n",
    "if has_inf:\n",
    "    print(\"The DataFrame contains infinite values.\")\n",
    "else:\n",
    "    print(\"No Infinte Values\")\n",
    "if has_nan:\n",
    "    print(\"The DataFrame contains NaN values.\")\n",
    "else:\n",
    "    print(\"No NaN Values\")"
   ]
  },
  {
   "cell_type": "code",
   "execution_count": 16,
   "id": "3e452973",
   "metadata": {
    "execution": {
     "iopub.execute_input": "2024-02-29T07:11:37.356073Z",
     "iopub.status.busy": "2024-02-29T07:11:37.355673Z",
     "iopub.status.idle": "2024-02-29T07:11:37.595380Z",
     "shell.execute_reply": "2024-02-29T07:11:37.594193Z"
    },
    "papermill": {
     "duration": 0.253851,
     "end_time": "2024-02-29T07:11:37.597987",
     "exception": false,
     "start_time": "2024-02-29T07:11:37.344136",
     "status": "completed"
    },
    "tags": []
   },
   "outputs": [
    {
     "data": {
      "image/png": "[encoded data removed]",
      "text/plain": [
       "<Figure size 640x480 with 1 Axes>"
      ]
     },
     "metadata": {},
     "output_type": "display_data"
    }
   ],
   "source": [
    "sns.countplot(x=' Label', data=df)\n",
    "plt.show()"
   ]
  },
  {
   "cell_type": "markdown",
   "id": "829856be",
   "metadata": {
    "papermill": {
     "duration": 0.010625,
     "end_time": "2024-02-29T07:11:37.619601",
     "exception": false,
     "start_time": "2024-02-29T07:11:37.608976",
     "status": "completed"
    },
    "tags": []
   },
   "source": [
    "## **Ensemble Machine Learning algorithm**"
   ]
  },
  {
   "cell_type": "code",
   "execution_count": 17,
   "id": "8a17f34b",
   "metadata": {
    "execution": {
     "iopub.execute_input": "2024-02-29T07:11:37.643664Z",
     "iopub.status.busy": "2024-02-29T07:11:37.643152Z",
     "iopub.status.idle": "2024-02-29T07:11:37.654652Z",
     "shell.execute_reply": "2024-02-29T07:11:37.652895Z"
    },
    "papermill": {
     "duration": 0.027175,
     "end_time": "2024-02-29T07:11:37.657923",
     "exception": false,
     "start_time": "2024-02-29T07:11:37.630748",
     "status": "completed"
    },
    "tags": []
   },
   "outputs": [],
   "source": [
    "predictorNames = [' Destination Port', ' Flow Duration', ' Total Fwd Packets',\n",
    "       ' Total Backward Packets', 'Total Length of Fwd Packets',\n",
    "       ' Total Length of Bwd Packets', ' Fwd Packet Length Max',\n",
    "       ' Fwd Packet Length Min', ' Fwd Packet Length Mean',\n",
    "       ' Fwd Packet Length Std', 'Bwd Packet Length Max',\n",
    "       ' Bwd Packet Length Min', ' Bwd Packet Length Mean',\n",
    "       ' Bwd Packet Length Std', 'Flow Bytes/s', ' Flow Packets/s',\n",
    "       ' Flow IAT Mean', ' Flow IAT Std', ' Flow IAT Max', ' Flow IAT Min',\n",
    "       'Fwd IAT Total', ' Fwd IAT Mean', ' Fwd IAT Std', ' Fwd IAT Max',\n",
    "       ' Fwd IAT Min', 'Bwd IAT Total', ' Bwd IAT Mean', ' Bwd IAT Std',\n",
    "       ' Bwd IAT Max', ' Bwd IAT Min', 'Fwd PSH Flags', ' Bwd PSH Flags',\n",
    "       ' Fwd URG Flags', ' Bwd URG Flags', ' Fwd Header Length',\n",
    "       ' Bwd Header Length', 'Fwd Packets/s', ' Bwd Packets/s',\n",
    "       ' Min Packet Length', ' Max Packet Length', ' Packet Length Mean',\n",
    "       ' Packet Length Std', ' Packet Length Variance', 'FIN Flag Count',\n",
    "       ' SYN Flag Count', ' RST Flag Count', ' PSH Flag Count',\n",
    "       ' ACK Flag Count', ' URG Flag Count', ' CWE Flag Count',\n",
    "       ' ECE Flag Count', ' Down/Up Ratio', ' Average Packet Size',\n",
    "       ' Avg Fwd Segment Size', ' Avg Bwd Segment Size',\n",
    "       ' Fwd Header Length.1', 'Fwd Avg Bytes/Bulk', ' Fwd Avg Packets/Bulk',\n",
    "       ' Fwd Avg Bulk Rate', ' Bwd Avg Bytes/Bulk', ' Bwd Avg Packets/Bulk',\n",
    "       'Bwd Avg Bulk Rate', 'Subflow Fwd Packets', ' Subflow Fwd Bytes',\n",
    "       ' Subflow Bwd Packets', ' Subflow Bwd Bytes', 'Init_Win_bytes_forward',\n",
    "       ' Init_Win_bytes_backward', ' act_data_pkt_fwd',\n",
    "       ' min_seg_size_forward', 'Active Mean', ' Active Std', ' Active Max',\n",
    "       ' Active Min', 'Idle Mean', ' Idle Std', ' Idle Max', ' Idle Min']"
   ]
  },
  {
   "cell_type": "code",
   "execution_count": 18,
   "id": "77dfe72c",
   "metadata": {
    "execution": {
     "iopub.execute_input": "2024-02-29T07:11:37.681577Z",
     "iopub.status.busy": "2024-02-29T07:11:37.681181Z",
     "iopub.status.idle": "2024-02-29T07:11:37.728024Z",
     "shell.execute_reply": "2024-02-29T07:11:37.726863Z"
    },
    "papermill": {
     "duration": 0.061468,
     "end_time": "2024-02-29T07:11:37.730720",
     "exception": false,
     "start_time": "2024-02-29T07:11:37.669252",
     "status": "completed"
    },
    "tags": []
   },
   "outputs": [],
   "source": [
    "predictors = df[predictorNames]"
   ]
  },
  {
   "cell_type": "code",
   "execution_count": 19,
   "id": "49436ab2",
   "metadata": {
    "execution": {
     "iopub.execute_input": "2024-02-29T07:11:37.753886Z",
     "iopub.status.busy": "2024-02-29T07:11:37.753481Z",
     "iopub.status.idle": "2024-02-29T07:11:37.757902Z",
     "shell.execute_reply": "2024-02-29T07:11:37.756715Z"
    },
    "papermill": {
     "duration": 0.019216,
     "end_time": "2024-02-29T07:11:37.760517",
     "exception": false,
     "start_time": "2024-02-29T07:11:37.741301",
     "status": "completed"
    },
    "tags": []
   },
   "outputs": [],
   "source": [
    "response = df[' Label']"
   ]
  },
  {
   "cell_type": "code",
   "execution_count": 20,
   "id": "13fe93f6",
   "metadata": {
    "execution": {
     "iopub.execute_input": "2024-02-29T07:11:37.787114Z",
     "iopub.status.busy": "2024-02-29T07:11:37.786719Z",
     "iopub.status.idle": "2024-02-29T07:11:38.034126Z",
     "shell.execute_reply": "2024-02-29T07:11:38.033023Z"
    },
    "papermill": {
     "duration": 0.262815,
     "end_time": "2024-02-29T07:11:38.036662",
     "exception": false,
     "start_time": "2024-02-29T07:11:37.773847",
     "status": "completed"
    },
    "tags": []
   },
   "outputs": [],
   "source": [
    "X_train, X_test, y_train, y_test = train_test_split(predictors, response, test_size=0.2, random_state=42)"
   ]
  },
  {
   "cell_type": "markdown",
   "id": "e3b12912",
   "metadata": {
    "papermill": {
     "duration": 0.010651,
     "end_time": "2024-02-29T07:11:38.058319",
     "exception": false,
     "start_time": "2024-02-29T07:11:38.047668",
     "status": "completed"
    },
    "tags": []
   },
   "source": [
    "# **Boasting (Adaboast Classifier) {1}** #"
   ]
  },
  {
   "cell_type": "code",
   "execution_count": 21,
   "id": "9178783d",
   "metadata": {
    "execution": {
     "iopub.execute_input": "2024-02-29T07:11:38.082799Z",
     "iopub.status.busy": "2024-02-29T07:11:38.082327Z",
     "iopub.status.idle": "2024-02-29T07:11:38.087522Z",
     "shell.execute_reply": "2024-02-29T07:11:38.086503Z"
    },
    "papermill": {
     "duration": 0.020692,
     "end_time": "2024-02-29T07:11:38.089919",
     "exception": false,
     "start_time": "2024-02-29T07:11:38.069227",
     "status": "completed"
    },
    "tags": []
   },
   "outputs": [],
   "source": [
    "template = DecisionTreeClassifier(max_depth=5)"
   ]
  },
  {
   "cell_type": "code",
   "execution_count": 22,
   "id": "6c93d8a4",
   "metadata": {
    "execution": {
     "iopub.execute_input": "2024-02-29T07:11:38.113596Z",
     "iopub.status.busy": "2024-02-29T07:11:38.113202Z",
     "iopub.status.idle": "2024-02-29T07:11:38.118634Z",
     "shell.execute_reply": "2024-02-29T07:11:38.117330Z"
    },
    "papermill": {
     "duration": 0.019534,
     "end_time": "2024-02-29T07:11:38.120847",
     "exception": false,
     "start_time": "2024-02-29T07:11:38.101313",
     "status": "completed"
    },
    "tags": []
   },
   "outputs": [],
   "source": [
    "classificationEnsemble = AdaBoostClassifier(estimator=template,\n",
    "                                             n_estimators=100,\n",
    "                                             learning_rate=0.1)"
   ]
  },
  {
   "cell_type": "code",
   "execution_count": 23,
   "id": "b2227fdb",
   "metadata": {
    "execution": {
     "iopub.execute_input": "2024-02-29T07:11:38.146303Z",
     "iopub.status.busy": "2024-02-29T07:11:38.145563Z",
     "iopub.status.idle": "2024-02-29T07:21:30.087133Z",
     "shell.execute_reply": "2024-02-29T07:21:30.085719Z"
    },
    "papermill": {
     "duration": 591.97105,
     "end_time": "2024-02-29T07:21:30.102980",
     "exception": false,
     "start_time": "2024-02-29T07:11:38.131930",
     "status": "completed"
    },
    "tags": []
   },
   "outputs": [
    {
     "data": {
      "text/html": [
       "<style>#sk-container-id-1 {color: black;background-color: white;}#sk-container-id-1 pre{padding: 0;}#sk-container-id-1 div.sk-toggleable {background-color: white;}#sk-container-id-1 label.sk-toggleable__label {cursor: pointer;display: block;width: 100%;margin-bottom: 0;padding: 0.3em;box-sizing: border-box;text-align: center;}#sk-container-id-1 label.sk-toggleable__label-arrow:before {content: \"▸\";float: left;margin-right: 0.25em;color: #696969;}#sk-container-id-1 label.sk-toggleable__label-arrow:hover:before {color: black;}#sk-container-id-1 div.sk-estimator:hover label.sk-toggleable__label-arrow:before {color: black;}#sk-container-id-1 div.sk-toggleable__content {max-height: 0;max-width: 0;overflow: hidden;text-align: left;background-color: #f0f8ff;}#sk-container-id-1 div.sk-toggleable__content pre {margin: 0.2em;color: black;border-radius: 0.25em;background-color: #f0f8ff;}#sk-container-id-1 input.sk-toggleable__control:checked~div.sk-toggleable__content {max-height: 200px;max-width: 100%;overflow: auto;}#sk-container-id-1 input.sk-toggleable__control:checked~label.sk-toggleable__label-arrow:before {content: \"▾\";}#sk-container-id-1 div.sk-estimator input.sk-toggleable__control:checked~label.sk-toggleable__label {background-color: #d4ebff;}#sk-container-id-1 div.sk-label input.sk-toggleable__control:checked~label.sk-toggleable__label {background-color: #d4ebff;}#sk-container-id-1 input.sk-hidden--visually {border: 0;clip: rect(1px 1px 1px 1px);clip: rect(1px, 1px, 1px, 1px);height: 1px;margin: -1px;overflow: hidden;padding: 0;position: absolute;width: 1px;}#sk-container-id-1 div.sk-estimator {font-family: monospace;background-color: #f0f8ff;border: 1px dotted black;border-radius: 0.25em;box-sizing: border-box;margin-bottom: 0.5em;}#sk-container-id-1 div.sk-estimator:hover {background-color: #d4ebff;}#sk-container-id-1 div.sk-parallel-item::after {content: \"\";width: 100%;border-bottom: 1px solid gray;flex-grow: 1;}#sk-container-id-1 div.sk-label:hover label.sk-toggleable__label {background-color: #d4ebff;}#sk-container-id-1 div.sk-serial::before {content: \"\";position: absolute;border-left: 1px solid gray;box-sizing: border-box;top: 0;bottom: 0;left: 50%;z-index: 0;}#sk-container-id-1 div.sk-serial {display: flex;flex-direction: column;align-items: center;background-color: white;padding-right: 0.2em;padding-left: 0.2em;position: relative;}#sk-container-id-1 div.sk-item {position: relative;z-index: 1;}#sk-container-id-1 div.sk-parallel {display: flex;align-items: stretch;justify-content: center;background-color: white;position: relative;}#sk-container-id-1 div.sk-item::before, #sk-container-id-1 div.sk-parallel-item::before {content: \"\";position: absolute;border-left: 1px solid gray;box-sizing: border-box;top: 0;bottom: 0;left: 50%;z-index: -1;}#sk-container-id-1 div.sk-parallel-item {display: flex;flex-direction: column;z-index: 1;position: relative;background-color: white;}#sk-container-id-1 div.sk-parallel-item:first-child::after {align-self: flex-end;width: 50%;}#sk-container-id-1 div.sk-parallel-item:last-child::after {align-self: flex-start;width: 50%;}#sk-container-id-1 div.sk-parallel-item:only-child::after {width: 0;}#sk-container-id-1 div.sk-dashed-wrapped {border: 1px dashed gray;margin: 0 0.4em 0.5em 0.4em;box-sizing: border-box;padding-bottom: 0.4em;background-color: white;}#sk-container-id-1 div.sk-label label {font-family: monospace;font-weight: bold;display: inline-block;line-height: 1.2em;}#sk-container-id-1 div.sk-label-container {text-align: center;}#sk-container-id-1 div.sk-container {/* jupyter's `normalize.less` sets `[hidden] { display: none; }` but bootstrap.min.css set `[hidden] { display: none !important; }` so we also need the `!important` here to be able to override the default hidden behavior on the sphinx rendered scikit-learn.org. See: https://github.com/scikit-learn/scikit-learn/issues/21755 */display: inline-block !important;position: relative;}#sk-container-id-1 div.sk-text-repr-fallback {display: none;}</style><div id=\"sk-container-id-1\" class=\"sk-top-container\"><div class=\"sk-text-repr-fallback\"><pre>AdaBoostClassifier(estimator=DecisionTreeClassifier(max_depth=5),\n",
       "                   learning_rate=0.1, n_estimators=100)</pre><b>In a Jupyter environment, please rerun this cell to show the HTML representation or trust the notebook. <br />On GitHub, the HTML representation is unable to render, please try loading this page with nbviewer.org.</b></div><div class=\"sk-container\" hidden><div class=\"sk-item sk-dashed-wrapped\"><div class=\"sk-label-container\"><div class=\"sk-label sk-toggleable\"><input class=\"sk-toggleable__control sk-hidden--visually\" id=\"sk-estimator-id-1\" type=\"checkbox\" ><label for=\"sk-estimator-id-1\" class=\"sk-toggleable__label sk-toggleable__label-arrow\">AdaBoostClassifier</label><div class=\"sk-toggleable__content\"><pre>AdaBoostClassifier(estimator=DecisionTreeClassifier(max_depth=5),\n",
       "                   learning_rate=0.1, n_estimators=100)</pre></div></div></div><div class=\"sk-parallel\"><div class=\"sk-parallel-item\"><div class=\"sk-item\"><div class=\"sk-label-container\"><div class=\"sk-label sk-toggleable\"><input class=\"sk-toggleable__control sk-hidden--visually\" id=\"sk-estimator-id-2\" type=\"checkbox\" ><label for=\"sk-estimator-id-2\" class=\"sk-toggleable__label sk-toggleable__label-arrow\">estimator: DecisionTreeClassifier</label><div class=\"sk-toggleable__content\"><pre>DecisionTreeClassifier(max_depth=5)</pre></div></div></div><div class=\"sk-serial\"><div class=\"sk-item\"><div class=\"sk-estimator sk-toggleable\"><input class=\"sk-toggleable__control sk-hidden--visually\" id=\"sk-estimator-id-3\" type=\"checkbox\" ><label for=\"sk-estimator-id-3\" class=\"sk-toggleable__label sk-toggleable__label-arrow\">DecisionTreeClassifier</label><div class=\"sk-toggleable__content\"><pre>DecisionTreeClassifier(max_depth=5)</pre></div></div></div></div></div></div></div></div></div></div>"
      ],
      "text/plain": [
       "AdaBoostClassifier(estimator=DecisionTreeClassifier(max_depth=5),\n",
       "                   learning_rate=0.1, n_estimators=100)"
      ]
     },
     "execution_count": 23,
     "metadata": {},
     "output_type": "execute_result"
    }
   ],
   "source": [
    "classificationEnsemble.fit(X_train, y_train)"
   ]
  },
  {
   "cell_type": "code",
   "execution_count": 24,
   "id": "47473e61",
   "metadata": {
    "execution": {
     "iopub.execute_input": "2024-02-29T07:21:30.129208Z",
     "iopub.status.busy": "2024-02-29T07:21:30.128782Z",
     "iopub.status.idle": "2024-02-29T07:21:31.398192Z",
     "shell.execute_reply": "2024-02-29T07:21:31.396676Z"
    },
    "papermill": {
     "duration": 1.286043,
     "end_time": "2024-02-29T07:21:31.400909",
     "exception": false,
     "start_time": "2024-02-29T07:21:30.114866",
     "status": "completed"
    },
    "tags": []
   },
   "outputs": [],
   "source": [
    "y_pred1 = classificationEnsemble.predict(X_test)"
   ]
  },
  {
   "cell_type": "code",
   "execution_count": 25,
   "id": "30faa0b3",
   "metadata": {
    "execution": {
     "iopub.execute_input": "2024-02-29T07:21:31.424831Z",
     "iopub.status.busy": "2024-02-29T07:21:31.424430Z",
     "iopub.status.idle": "2024-02-29T07:21:31.520929Z",
     "shell.execute_reply": "2024-02-29T07:21:31.519680Z"
    },
    "papermill": {
     "duration": 0.111955,
     "end_time": "2024-02-29T07:21:31.523708",
     "exception": false,
     "start_time": "2024-02-29T07:21:31.411753",
     "status": "completed"
    },
    "tags": []
   },
   "outputs": [],
   "source": [
    "Accuracy1 = accuracy_score(y_test, y_pred1)\n",
    "recall1 = recall_score(y_test, y_pred1)\n",
    "precision1 = precision_score(y_test, y_pred1)\n",
    "f11 = f1_score(y_test, y_pred1)\n",
    "mcc1 = matthews_corrcoef(y_test, y_pred1)"
   ]
  },
  {
   "cell_type": "code",
   "execution_count": 26,
   "id": "33bfb1e8",
   "metadata": {
    "execution": {
     "iopub.execute_input": "2024-02-29T07:21:31.548446Z",
     "iopub.status.busy": "2024-02-29T07:21:31.547465Z",
     "iopub.status.idle": "2024-02-29T07:21:31.555176Z",
     "shell.execute_reply": "2024-02-29T07:21:31.553908Z"
    },
    "papermill": {
     "duration": 0.023629,
     "end_time": "2024-02-29T07:21:31.559070",
     "exception": false,
     "start_time": "2024-02-29T07:21:31.535441",
     "status": "completed"
    },
    "tags": []
   },
   "outputs": [
    {
     "name": "stdout",
     "output_type": "stream",
     "text": [
      "CIC-IDS-17-DDoS Dataset Boasting\n",
      "Accuracy: 99.99556963427331\n",
      "Recall: 100.0\n",
      "Precision: 99.99222576381871\n",
      "F1 Score: 99.99611273080662\n",
      "MCC Score: 99.99096327818265\n"
     ]
    }
   ],
   "source": [
    "print(\"CIC-IDS-17-DDoS Dataset Boasting\")\n",
    "print('Accuracy:', Accuracy1*100)\n",
    "print('Recall:', recall1*100)\n",
    "print('Precision:', precision1*100)\n",
    "print('F1 Score:', f11*100)\n",
    "print('MCC Score:', mcc1*100)"
   ]
  },
  {
   "cell_type": "code",
   "execution_count": 27,
   "id": "8c6fceaf",
   "metadata": {
    "execution": {
     "iopub.execute_input": "2024-02-29T07:21:31.583539Z",
     "iopub.status.busy": "2024-02-29T07:21:31.582655Z",
     "iopub.status.idle": "2024-02-29T07:21:31.941286Z",
     "shell.execute_reply": "2024-02-29T07:21:31.939853Z"
    },
    "papermill": {
     "duration": 0.373623,
     "end_time": "2024-02-29T07:21:31.944067",
     "exception": false,
     "start_time": "2024-02-29T07:21:31.570444",
     "status": "completed"
    },
    "tags": []
   },
   "outputs": [
    {
     "name": "stderr",
     "output_type": "stream",
     "text": [
      "/opt/conda/lib/python3.10/site-packages/seaborn/_oldcore.py:1765: FutureWarning: unique with argument that is not not a Series, Index, ExtensionArray, or np.ndarray is deprecated and will raise in a future version.\n",
      "  order = pd.unique(vector)\n"
     ]
    },
    {
     "data": {
      "image/png": "[encoded data removed]",
      "text/plain": [
       "<Figure size 800x300 with 1 Axes>"
      ]
     },
     "metadata": {},
     "output_type": "display_data"
    }
   ],
   "source": [
    "labels = ['Accuracy', 'Recall', 'Precision', 'F1 score', 'MCC']\n",
    "scores = [Accuracy1, recall1, precision1, f11,mcc1]  \n",
    "\n",
    "sns.set(style='whitegrid')\n",
    "sns.set_color_codes('pastel')\n",
    "palette = sns.color_palette('Set1')\n",
    "\n",
    "fig, ax = plt.subplots(figsize=(8, 3))\n",
    "sns.barplot(x=scores, y=labels, palette=palette)\n",
    "\n",
    "for i, v in enumerate(scores):\n",
    "    ax.text(v + 0.01, i, f'{v * 100:.2f}%', color='black', fontweight='bold')\n",
    "\n",
    "ax.set_xlim(0, 1)\n",
    "ax.set_xlabel('Score')\n",
    "ax.set_ylabel('Metric')\n",
    "ax.set_title(\"Model performance on CIC-IDS-17-DDoS Datasets Boasting\")\n",
    "\n",
    "plt.show()\n"
   ]
  },
  {
   "cell_type": "code",
   "execution_count": 28,
   "id": "ef36651c",
   "metadata": {
    "execution": {
     "iopub.execute_input": "2024-02-29T07:21:31.971301Z",
     "iopub.status.busy": "2024-02-29T07:21:31.969718Z",
     "iopub.status.idle": "2024-02-29T07:21:32.310419Z",
     "shell.execute_reply": "2024-02-29T07:21:32.309038Z"
    },
    "papermill": {
     "duration": 0.357285,
     "end_time": "2024-02-29T07:21:32.313238",
     "exception": false,
     "start_time": "2024-02-29T07:21:31.955953",
     "status": "completed"
    },
    "tags": []
   },
   "outputs": [
    {
     "data": {
      "image/png": "[encoded data removed]",
      "text/plain": [
       "<Figure size 800x600 with 2 Axes>"
      ]
     },
     "metadata": {},
     "output_type": "display_data"
    }
   ],
   "source": [
    "cm = confusion_matrix(y_test, y_pred1)\n",
    "plt.figure(figsize=(8,6))\n",
    "sns.heatmap(cm, annot=True, cmap='Blues', fmt='g', \n",
    "            xticklabels=['BENIGN', 'DDos'], yticklabels=['BENIGN', 'DDos'])\n",
    "plt.xlabel('Predicted labels')\n",
    "plt.ylabel('True labels')\n",
    "plt.show()"
   ]
  },
  {
   "cell_type": "markdown",
   "id": "24a5afee",
   "metadata": {
    "papermill": {
     "duration": 0.011861,
     "end_time": "2024-02-29T07:21:32.337847",
     "exception": false,
     "start_time": "2024-02-29T07:21:32.325986",
     "status": "completed"
    },
    "tags": []
   },
   "source": [
    "# **Bagging** #"
   ]
  },
  {
   "cell_type": "code",
   "execution_count": 29,
   "id": "0c89d922",
   "metadata": {
    "execution": {
     "iopub.execute_input": "2024-02-29T07:21:32.364894Z",
     "iopub.status.busy": "2024-02-29T07:21:32.364506Z",
     "iopub.status.idle": "2024-02-29T07:21:32.368759Z",
     "shell.execute_reply": "2024-02-29T07:21:32.367961Z"
    },
    "papermill": {
     "duration": 0.020685,
     "end_time": "2024-02-29T07:21:32.371669",
     "exception": false,
     "start_time": "2024-02-29T07:21:32.350984",
     "status": "completed"
    },
    "tags": []
   },
   "outputs": [],
   "source": [
    "rfc = RandomForestClassifier(n_estimators=100, max_depth=5)"
   ]
  },
  {
   "cell_type": "code",
   "execution_count": 30,
   "id": "7b46005c",
   "metadata": {
    "execution": {
     "iopub.execute_input": "2024-02-29T07:21:32.401763Z",
     "iopub.status.busy": "2024-02-29T07:21:32.401120Z",
     "iopub.status.idle": "2024-02-29T07:21:32.405520Z",
     "shell.execute_reply": "2024-02-29T07:21:32.404679Z"
    },
    "papermill": {
     "duration": 0.02227,
     "end_time": "2024-02-29T07:21:32.407781",
     "exception": false,
     "start_time": "2024-02-29T07:21:32.385511",
     "status": "completed"
    },
    "tags": []
   },
   "outputs": [],
   "source": [
    "bagging = BaggingClassifier(estimator=rfc, n_estimators=100, max_samples=0.8, max_features=0.8)"
   ]
  },
  {
   "cell_type": "code",
   "execution_count": 31,
   "id": "d5bc2420",
   "metadata": {
    "execution": {
     "iopub.execute_input": "2024-02-29T07:21:32.435365Z",
     "iopub.status.busy": "2024-02-29T07:21:32.434586Z",
     "iopub.status.idle": "2024-02-29T07:54:07.955968Z",
     "shell.execute_reply": "2024-02-29T07:54:07.954606Z"
    },
    "papermill": {
     "duration": 1955.553411,
     "end_time": "2024-02-29T07:54:07.973458",
     "exception": false,
     "start_time": "2024-02-29T07:21:32.420047",
     "status": "completed"
    },
    "tags": []
   },
   "outputs": [
    {
     "data": {
      "text/html": [
       "<style>#sk-container-id-2 {color: black;background-color: white;}#sk-container-id-2 pre{padding: 0;}#sk-container-id-2 div.sk-toggleable {background-color: white;}#sk-container-id-2 label.sk-toggleable__label {cursor: pointer;display: block;width: 100%;margin-bottom: 0;padding: 0.3em;box-sizing: border-box;text-align: center;}#sk-container-id-2 label.sk-toggleable__label-arrow:before {content: \"▸\";float: left;margin-right: 0.25em;color: #696969;}#sk-container-id-2 label.sk-toggleable__label-arrow:hover:before {color: black;}#sk-container-id-2 div.sk-estimator:hover label.sk-toggleable__label-arrow:before {color: black;}#sk-container-id-2 div.sk-toggleable__content {max-height: 0;max-width: 0;overflow: hidden;text-align: left;background-color: #f0f8ff;}#sk-container-id-2 div.sk-toggleable__content pre {margin: 0.2em;color: black;border-radius: 0.25em;background-color: #f0f8ff;}#sk-container-id-2 input.sk-toggleable__control:checked~div.sk-toggleable__content {max-height: 200px;max-width: 100%;overflow: auto;}#sk-container-id-2 input.sk-toggleable__control:checked~label.sk-toggleable__label-arrow:before {content: \"▾\";}#sk-container-id-2 div.sk-estimator input.sk-toggleable__control:checked~label.sk-toggleable__label {background-color: #d4ebff;}#sk-container-id-2 div.sk-label input.sk-toggleable__control:checked~label.sk-toggleable__label {background-color: #d4ebff;}#sk-container-id-2 input.sk-hidden--visually {border: 0;clip: rect(1px 1px 1px 1px);clip: rect(1px, 1px, 1px, 1px);height: 1px;margin: -1px;overflow: hidden;padding: 0;position: absolute;width: 1px;}#sk-container-id-2 div.sk-estimator {font-family: monospace;background-color: #f0f8ff;border: 1px dotted black;border-radius: 0.25em;box-sizing: border-box;margin-bottom: 0.5em;}#sk-container-id-2 div.sk-estimator:hover {background-color: #d4ebff;}#sk-container-id-2 div.sk-parallel-item::after {content: \"\";width: 100%;border-bottom: 1px solid gray;flex-grow: 1;}#sk-container-id-2 div.sk-label:hover label.sk-toggleable__label {background-color: #d4ebff;}#sk-container-id-2 div.sk-serial::before {content: \"\";position: absolute;border-left: 1px solid gray;box-sizing: border-box;top: 0;bottom: 0;left: 50%;z-index: 0;}#sk-container-id-2 div.sk-serial {display: flex;flex-direction: column;align-items: center;background-color: white;padding-right: 0.2em;padding-left: 0.2em;position: relative;}#sk-container-id-2 div.sk-item {position: relative;z-index: 1;}#sk-container-id-2 div.sk-parallel {display: flex;align-items: stretch;justify-content: center;background-color: white;position: relative;}#sk-container-id-2 div.sk-item::before, #sk-container-id-2 div.sk-parallel-item::before {content: \"\";position: absolute;border-left: 1px solid gray;box-sizing: border-box;top: 0;bottom: 0;left: 50%;z-index: -1;}#sk-container-id-2 div.sk-parallel-item {display: flex;flex-direction: column;z-index: 1;position: relative;background-color: white;}#sk-container-id-2 div.sk-parallel-item:first-child::after {align-self: flex-end;width: 50%;}#sk-container-id-2 div.sk-parallel-item:last-child::after {align-self: flex-start;width: 50%;}#sk-container-id-2 div.sk-parallel-item:only-child::after {width: 0;}#sk-container-id-2 div.sk-dashed-wrapped {border: 1px dashed gray;margin: 0 0.4em 0.5em 0.4em;box-sizing: border-box;padding-bottom: 0.4em;background-color: white;}#sk-container-id-2 div.sk-label label {font-family: monospace;font-weight: bold;display: inline-block;line-height: 1.2em;}#sk-container-id-2 div.sk-label-container {text-align: center;}#sk-container-id-2 div.sk-container {/* jupyter's `normalize.less` sets `[hidden] { display: none; }` but bootstrap.min.css set `[hidden] { display: none !important; }` so we also need the `!important` here to be able to override the default hidden behavior on the sphinx rendered scikit-learn.org. See: https://github.com/scikit-learn/scikit-learn/issues/21755 */display: inline-block !important;position: relative;}#sk-container-id-2 div.sk-text-repr-fallback {display: none;}</style><div id=\"sk-container-id-2\" class=\"sk-top-container\"><div class=\"sk-text-repr-fallback\"><pre>BaggingClassifier(estimator=RandomForestClassifier(max_depth=5),\n",
       "                  max_features=0.8, max_samples=0.8, n_estimators=100)</pre><b>In a Jupyter environment, please rerun this cell to show the HTML representation or trust the notebook. <br />On GitHub, the HTML representation is unable to render, please try loading this page with nbviewer.org.</b></div><div class=\"sk-container\" hidden><div class=\"sk-item sk-dashed-wrapped\"><div class=\"sk-label-container\"><div class=\"sk-label sk-toggleable\"><input class=\"sk-toggleable__control sk-hidden--visually\" id=\"sk-estimator-id-4\" type=\"checkbox\" ><label for=\"sk-estimator-id-4\" class=\"sk-toggleable__label sk-toggleable__label-arrow\">BaggingClassifier</label><div class=\"sk-toggleable__content\"><pre>BaggingClassifier(estimator=RandomForestClassifier(max_depth=5),\n",
       "                  max_features=0.8, max_samples=0.8, n_estimators=100)</pre></div></div></div><div class=\"sk-parallel\"><div class=\"sk-parallel-item\"><div class=\"sk-item\"><div class=\"sk-label-container\"><div class=\"sk-label sk-toggleable\"><input class=\"sk-toggleable__control sk-hidden--visually\" id=\"sk-estimator-id-5\" type=\"checkbox\" ><label for=\"sk-estimator-id-5\" class=\"sk-toggleable__label sk-toggleable__label-arrow\">estimator: RandomForestClassifier</label><div class=\"sk-toggleable__content\"><pre>RandomForestClassifier(max_depth=5)</pre></div></div></div><div class=\"sk-serial\"><div class=\"sk-item\"><div class=\"sk-estimator sk-toggleable\"><input class=\"sk-toggleable__control sk-hidden--visually\" id=\"sk-estimator-id-6\" type=\"checkbox\" ><label for=\"sk-estimator-id-6\" class=\"sk-toggleable__label sk-toggleable__label-arrow\">RandomForestClassifier</label><div class=\"sk-toggleable__content\"><pre>RandomForestClassifier(max_depth=5)</pre></div></div></div></div></div></div></div></div></div></div>"
      ],
      "text/plain": [
       "BaggingClassifier(estimator=RandomForestClassifier(max_depth=5),\n",
       "                  max_features=0.8, max_samples=0.8, n_estimators=100)"
      ]
     },
     "execution_count": 31,
     "metadata": {},
     "output_type": "execute_result"
    }
   ],
   "source": [
    "bagging.fit(X_train, y_train)"
   ]
  },
  {
   "cell_type": "code",
   "execution_count": 32,
   "id": "0e995177",
   "metadata": {
    "execution": {
     "iopub.execute_input": "2024-02-29T07:54:08.001963Z",
     "iopub.status.busy": "2024-02-29T07:54:08.001525Z",
     "iopub.status.idle": "2024-02-29T07:54:36.950707Z",
     "shell.execute_reply": "2024-02-29T07:54:36.948211Z"
    },
    "papermill": {
     "duration": 28.967258,
     "end_time": "2024-02-29T07:54:36.954196",
     "exception": false,
     "start_time": "2024-02-29T07:54:07.986938",
     "status": "completed"
    },
    "tags": []
   },
   "outputs": [],
   "source": [
    "y_pred2 =bagging.predict(X_test)"
   ]
  },
  {
   "cell_type": "code",
   "execution_count": 33,
   "id": "e1805995",
   "metadata": {
    "execution": {
     "iopub.execute_input": "2024-02-29T07:54:36.981758Z",
     "iopub.status.busy": "2024-02-29T07:54:36.981294Z",
     "iopub.status.idle": "2024-02-29T07:54:37.074783Z",
     "shell.execute_reply": "2024-02-29T07:54:37.073782Z"
    },
    "papermill": {
     "duration": 0.110102,
     "end_time": "2024-02-29T07:54:37.077360",
     "exception": false,
     "start_time": "2024-02-29T07:54:36.967258",
     "status": "completed"
    },
    "tags": []
   },
   "outputs": [],
   "source": [
    "Accuracy2 = accuracy_score(y_test, y_pred2)\n",
    "recall2 = recall_score(y_test, y_pred2)\n",
    "precision2 = precision_score(y_test, y_pred2)\n",
    "f12 = f1_score(y_test, y_pred2)\n",
    "mcc2 = matthews_corrcoef(y_test, y_pred2)"
   ]
  },
  {
   "cell_type": "code",
   "execution_count": 34,
   "id": "48392ef3",
   "metadata": {
    "execution": {
     "iopub.execute_input": "2024-02-29T07:54:37.107237Z",
     "iopub.status.busy": "2024-02-29T07:54:37.106472Z",
     "iopub.status.idle": "2024-02-29T07:54:37.112777Z",
     "shell.execute_reply": "2024-02-29T07:54:37.111667Z"
    },
    "papermill": {
     "duration": 0.023361,
     "end_time": "2024-02-29T07:54:37.115704",
     "exception": false,
     "start_time": "2024-02-29T07:54:37.092343",
     "status": "completed"
    },
    "tags": []
   },
   "outputs": [
    {
     "name": "stdout",
     "output_type": "stream",
     "text": [
      "CIC-IDS-17-DDoS Dataset Bagging\n",
      "Accuracy: 99.91582305119287\n",
      "Recall: 99.85227802830042\n",
      "Precision: 100.0\n",
      "F1 Score: 99.92608441937367\n",
      "MCC Score: 99.82848494848997\n"
     ]
    }
   ],
   "source": [
    "print(\"CIC-IDS-17-DDoS Dataset Bagging\")\n",
    "print('Accuracy:', Accuracy2*100)\n",
    "print('Recall:', recall2*100)\n",
    "print('Precision:', precision2*100)\n",
    "print('F1 Score:', f12*100)\n",
    "print('MCC Score:', mcc2*100)"
   ]
  },
  {
   "cell_type": "code",
   "execution_count": 35,
   "id": "98a44b3d",
   "metadata": {
    "execution": {
     "iopub.execute_input": "2024-02-29T07:54:37.142545Z",
     "iopub.status.busy": "2024-02-29T07:54:37.142148Z",
     "iopub.status.idle": "2024-02-29T07:54:37.483238Z",
     "shell.execute_reply": "2024-02-29T07:54:37.481918Z"
    },
    "papermill": {
     "duration": 0.357699,
     "end_time": "2024-02-29T07:54:37.485818",
     "exception": false,
     "start_time": "2024-02-29T07:54:37.128119",
     "status": "completed"
    },
    "tags": []
   },
   "outputs": [
    {
     "name": "stderr",
     "output_type": "stream",
     "text": [
      "/opt/conda/lib/python3.10/site-packages/seaborn/_oldcore.py:1765: FutureWarning: unique with argument that is not not a Series, Index, ExtensionArray, or np.ndarray is deprecated and will raise in a future version.\n",
      "  order = pd.unique(vector)\n"
     ]
    },
    {
     "data": {
      "image/png": "[encoded data removed]",
      "text/plain": [
       "<Figure size 800x300 with 1 Axes>"
      ]
     },
     "metadata": {},
     "output_type": "display_data"
    }
   ],
   "source": [
    "labels = ['Accuracy', 'Recall', 'Precision', 'F1 score', 'MCC']\n",
    "scores = [Accuracy2, recall2, precision2, f12,mcc2]  \n",
    "\n",
    "sns.set(style='whitegrid')\n",
    "sns.set_color_codes('pastel')\n",
    "palette = sns.color_palette('Set1')\n",
    "\n",
    "fig, ax = plt.subplots(figsize=(8, 3))\n",
    "sns.barplot(x=scores, y=labels, palette=palette)\n",
    "\n",
    "for i, v in enumerate(scores):\n",
    "    ax.text(v + 0.01, i, f'{v * 100:.2f}%', color='black', fontweight='bold')\n",
    "\n",
    "ax.set_xlim(0, 1)\n",
    "ax.set_xlabel('Score')\n",
    "ax.set_ylabel('Metric')\n",
    "ax.set_title(\"Model performance on CIC-IDS-17-DDoS Datasets Bagging\")\n",
    "\n",
    "plt.show()\n"
   ]
  },
  {
   "cell_type": "code",
   "execution_count": 36,
   "id": "172d9a22",
   "metadata": {
    "execution": {
     "iopub.execute_input": "2024-02-29T07:54:37.515174Z",
     "iopub.status.busy": "2024-02-29T07:54:37.514782Z",
     "iopub.status.idle": "2024-02-29T07:54:37.850965Z",
     "shell.execute_reply": "2024-02-29T07:54:37.849782Z"
    },
    "papermill": {
     "duration": 0.354382,
     "end_time": "2024-02-29T07:54:37.854117",
     "exception": false,
     "start_time": "2024-02-29T07:54:37.499735",
     "status": "completed"
    },
    "tags": []
   },
   "outputs": [
    {
     "data": {
      "image/png": "[encoded data removed]",
      "text/plain": [
       "<Figure size 800x600 with 2 Axes>"
      ]
     },
     "metadata": {},
     "output_type": "display_data"
    }
   ],
   "source": [
    "cm = confusion_matrix(y_test, y_pred2)\n",
    "plt.figure(figsize=(8,6))\n",
    "sns.heatmap(cm, annot=True, cmap='Blues', fmt='g', \n",
    "            xticklabels=['BENIGN', 'DDos'], yticklabels=['BENIGN', 'DDos'])\n",
    "plt.xlabel('Predicted labels')\n",
    "plt.ylabel('True labels')\n",
    "plt.show()"
   ]
  }
 ],
 "metadata": {
  "kaggle": {
   "accelerator": "none",
   "dataSources": [
    {
     "datasetId": 3674161,
     "sourceId": 6376134,
     "sourceType": "datasetVersion"
    }
   ],
   "dockerImageVersionId": 30664,
   "isGpuEnabled": false,
   "isInternetEnabled": true,
   "language": "python",
   "sourceType": "notebook"
  },
  "kernelspec": {
   "display_name": "Python 3",
   "language": "python",
   "name": "python3"
  },
  "language_info": {
   "codemirror_mode": {
    "name": "ipython",
    "version": 3
   },
   "file_extension": ".py",
   "mimetype": "text/x-python",
   "name": "python",
   "nbconvert_exporter": "python",
   "pygments_lexer": "ipython3",
   "version": "3.10.13"
  },
  "papermill": {
   "default_parameters": {},
   "duration": 2631.839423,
   "end_time": "2024-02-29T07:54:38.597150",
   "environment_variables": {},
   "exception": null,
   "input_path": "__notebook__.ipynb",
   "output_path": "__notebook__.ipynb",
   "parameters": {},
   "start_time": "2024-02-29T07:10:46.757727",
   "version": "2.5.0"
  }
 },
 "nbformat": 4,
 "nbformat_minor": 5
}
