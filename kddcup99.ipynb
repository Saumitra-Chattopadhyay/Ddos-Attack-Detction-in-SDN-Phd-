{
 "cells": [
  {
   "cell_type": "code",
   "execution_count": 1,
   "id": "0ed8bbaf",
   "metadata": {
    "execution": {
     "iopub.execute_input": "2024-02-29T06:33:20.190582Z",
     "iopub.status.busy": "2024-02-29T06:33:20.190180Z",
     "iopub.status.idle": "2024-02-29T06:33:23.435245Z",
     "shell.execute_reply": "2024-02-29T06:33:23.433887Z"
    },
    "papermill": {
     "duration": 3.263804,
     "end_time": "2024-02-29T06:33:23.438265",
     "exception": false,
     "start_time": "2024-02-29T06:33:20.174461",
     "status": "completed"
    },
    "tags": []
   },
   "outputs": [],
   "source": [
    "import pandas as pd\n",
    "import seaborn as sns\n",
    "import numpy as np\n",
    "import matplotlib.pyplot as plt\n",
    "from sklearn.ensemble import BaggingClassifier\n",
    "from sklearn.tree import DecisionTreeClassifier\n",
    "from sklearn.metrics import confusion_matrix,accuracy_score, recall_score, precision_score, f1_score, matthews_corrcoef\n",
    "from sklearn.preprocessing import LabelBinarizer\n",
    "from sklearn.model_selection import train_test_split\n",
    "from sklearn.preprocessing import LabelEncoder\n",
    "from sklearn.model_selection import train_test_split\n",
    "from sklearn.metrics import accuracy_score\n",
    "from sklearn.preprocessing import StandardScaler\n",
    "from sklearn.impute import SimpleImputer\n",
    "from sklearn.ensemble import AdaBoostClassifier\n",
    "from sklearn.ensemble import RandomForestClassifier\n",
    "%matplotlib inline"
   ]
  },
  {
   "cell_type": "code",
   "execution_count": 2,
   "id": "1abebc4a",
   "metadata": {
    "execution": {
     "iopub.execute_input": "2024-02-29T06:33:23.467060Z",
     "iopub.status.busy": "2024-02-29T06:33:23.466473Z",
     "iopub.status.idle": "2024-02-29T06:33:23.471761Z",
     "shell.execute_reply": "2024-02-29T06:33:23.470683Z"
    },
    "papermill": {
     "duration": 0.022519,
     "end_time": "2024-02-29T06:33:23.474286",
     "exception": false,
     "start_time": "2024-02-29T06:33:23.451767",
     "status": "completed"
    },
    "tags": []
   },
   "outputs": [],
   "source": [
    "path = \"/kdd-cup-99/kddcup.csv\""
   ]
  },
  {
   "cell_type": "code",
   "execution_count": 3,
   "id": "4f070f39",
   "metadata": {
    "execution": {
     "iopub.execute_input": "2024-02-29T06:33:23.503270Z",
     "iopub.status.busy": "2024-02-29T06:33:23.502835Z",
     "iopub.status.idle": "2024-02-29T06:33:24.170387Z",
     "shell.execute_reply": "2024-02-29T06:33:24.168924Z"
    },
    "papermill": {
     "duration": 0.68511,
     "end_time": "2024-02-29T06:33:24.173227",
     "exception": false,
     "start_time": "2024-02-29T06:33:23.488117",
     "status": "completed"
    },
    "tags": []
   },
   "outputs": [],
   "source": [
    "df = pd.read_csv(path)"
   ]
  },
  {
   "cell_type": "code",
   "execution_count": 4,
   "id": "7577b495",
   "metadata": {
    "execution": {
     "iopub.execute_input": "2024-02-29T06:33:24.203580Z",
     "iopub.status.busy": "2024-02-29T06:33:24.203172Z",
     "iopub.status.idle": "2024-02-29T06:33:24.252759Z",
     "shell.execute_reply": "2024-02-29T06:33:24.251581Z"
    },
    "papermill": {
     "duration": 0.068191,
     "end_time": "2024-02-29T06:33:24.255274",
     "exception": false,
     "start_time": "2024-02-29T06:33:24.187083",
     "status": "completed"
    },
    "tags": []
   },
   "outputs": [
    {
     "data": {
      "text/html": [
       "<div>\n",
       "<style scoped>\n",
       "    .dataframe tbody tr th:only-of-type {\n",
       "        vertical-align: middle;\n",
       "    }\n",
       "\n",
       "    .dataframe tbody tr th {\n",
       "        vertical-align: top;\n",
       "    }\n",
       "\n",
       "    .dataframe thead th {\n",
       "        text-align: right;\n",
       "    }\n",
       "</style>\n",
       "<table border=\"1\" class=\"dataframe\">\n",
       "  <thead>\n",
       "    <tr style=\"text-align: right;\">\n",
       "      <th></th>\n",
       "      <th>Duration</th>\n",
       "      <th>Protocol Type</th>\n",
       "      <th>Service</th>\n",
       "      <th>Flag</th>\n",
       "      <th>Source Bytes</th>\n",
       "      <th>Destination Bytes</th>\n",
       "      <th>Land</th>\n",
       "      <th>Wrong Fragment</th>\n",
       "      <th>Urgent</th>\n",
       "      <th>Hot</th>\n",
       "      <th>...</th>\n",
       "      <th>Dst Host Srv Count</th>\n",
       "      <th>Dst Host Same Srv Rate</th>\n",
       "      <th>Dst Host Diff Srv Rate</th>\n",
       "      <th>Dst Host Same Src Port Rate</th>\n",
       "      <th>Dst Host Srv Diff Host Rate</th>\n",
       "      <th>Dst Host Serror Rate</th>\n",
       "      <th>Dst Host Srv Serror Rate</th>\n",
       "      <th>Dst Host Rerror Rate</th>\n",
       "      <th>Dst Host Srv Rerror Rate</th>\n",
       "      <th>Label</th>\n",
       "    </tr>\n",
       "  </thead>\n",
       "  <tbody>\n",
       "    <tr>\n",
       "      <th>0</th>\n",
       "      <td>0</td>\n",
       "      <td>tcp</td>\n",
       "      <td>http</td>\n",
       "      <td>SF</td>\n",
       "      <td>215</td>\n",
       "      <td>45076</td>\n",
       "      <td>0</td>\n",
       "      <td>0</td>\n",
       "      <td>0</td>\n",
       "      <td>0</td>\n",
       "      <td>...</td>\n",
       "      <td>0</td>\n",
       "      <td>0.0</td>\n",
       "      <td>0.0</td>\n",
       "      <td>0.00</td>\n",
       "      <td>0.0</td>\n",
       "      <td>0.0</td>\n",
       "      <td>0.0</td>\n",
       "      <td>0.0</td>\n",
       "      <td>0.0</td>\n",
       "      <td>normal.</td>\n",
       "    </tr>\n",
       "    <tr>\n",
       "      <th>1</th>\n",
       "      <td>0</td>\n",
       "      <td>tcp</td>\n",
       "      <td>http</td>\n",
       "      <td>SF</td>\n",
       "      <td>162</td>\n",
       "      <td>4528</td>\n",
       "      <td>0</td>\n",
       "      <td>0</td>\n",
       "      <td>0</td>\n",
       "      <td>0</td>\n",
       "      <td>...</td>\n",
       "      <td>1</td>\n",
       "      <td>1.0</td>\n",
       "      <td>0.0</td>\n",
       "      <td>1.00</td>\n",
       "      <td>0.0</td>\n",
       "      <td>0.0</td>\n",
       "      <td>0.0</td>\n",
       "      <td>0.0</td>\n",
       "      <td>0.0</td>\n",
       "      <td>normal.</td>\n",
       "    </tr>\n",
       "    <tr>\n",
       "      <th>2</th>\n",
       "      <td>0</td>\n",
       "      <td>tcp</td>\n",
       "      <td>http</td>\n",
       "      <td>SF</td>\n",
       "      <td>236</td>\n",
       "      <td>1228</td>\n",
       "      <td>0</td>\n",
       "      <td>0</td>\n",
       "      <td>0</td>\n",
       "      <td>0</td>\n",
       "      <td>...</td>\n",
       "      <td>2</td>\n",
       "      <td>1.0</td>\n",
       "      <td>0.0</td>\n",
       "      <td>0.50</td>\n",
       "      <td>0.0</td>\n",
       "      <td>0.0</td>\n",
       "      <td>0.0</td>\n",
       "      <td>0.0</td>\n",
       "      <td>0.0</td>\n",
       "      <td>normal.</td>\n",
       "    </tr>\n",
       "    <tr>\n",
       "      <th>3</th>\n",
       "      <td>0</td>\n",
       "      <td>tcp</td>\n",
       "      <td>http</td>\n",
       "      <td>SF</td>\n",
       "      <td>233</td>\n",
       "      <td>2032</td>\n",
       "      <td>0</td>\n",
       "      <td>0</td>\n",
       "      <td>0</td>\n",
       "      <td>0</td>\n",
       "      <td>...</td>\n",
       "      <td>3</td>\n",
       "      <td>1.0</td>\n",
       "      <td>0.0</td>\n",
       "      <td>0.33</td>\n",
       "      <td>0.0</td>\n",
       "      <td>0.0</td>\n",
       "      <td>0.0</td>\n",
       "      <td>0.0</td>\n",
       "      <td>0.0</td>\n",
       "      <td>normal.</td>\n",
       "    </tr>\n",
       "    <tr>\n",
       "      <th>4</th>\n",
       "      <td>0</td>\n",
       "      <td>tcp</td>\n",
       "      <td>http</td>\n",
       "      <td>SF</td>\n",
       "      <td>239</td>\n",
       "      <td>486</td>\n",
       "      <td>0</td>\n",
       "      <td>0</td>\n",
       "      <td>0</td>\n",
       "      <td>0</td>\n",
       "      <td>...</td>\n",
       "      <td>4</td>\n",
       "      <td>1.0</td>\n",
       "      <td>0.0</td>\n",
       "      <td>0.25</td>\n",
       "      <td>0.0</td>\n",
       "      <td>0.0</td>\n",
       "      <td>0.0</td>\n",
       "      <td>0.0</td>\n",
       "      <td>0.0</td>\n",
       "      <td>normal.</td>\n",
       "    </tr>\n",
       "  </tbody>\n",
       "</table>\n",
       "<p>5 rows × 42 columns</p>\n",
       "</div>"
      ],
      "text/plain": [
       "   Duration Protocol Type Service Flag  Source Bytes  Destination Bytes  Land  \\\n",
       "0         0           tcp    http   SF           215              45076     0   \n",
       "1         0           tcp    http   SF           162               4528     0   \n",
       "2         0           tcp    http   SF           236               1228     0   \n",
       "3         0           tcp    http   SF           233               2032     0   \n",
       "4         0           tcp    http   SF           239                486     0   \n",
       "\n",
       "   Wrong Fragment  Urgent  Hot  ...  Dst Host Srv Count  \\\n",
       "0               0       0    0  ...                   0   \n",
       "1               0       0    0  ...                   1   \n",
       "2               0       0    0  ...                   2   \n",
       "3               0       0    0  ...                   3   \n",
       "4               0       0    0  ...                   4   \n",
       "\n",
       "   Dst Host Same Srv Rate  Dst Host Diff Srv Rate  \\\n",
       "0                     0.0                     0.0   \n",
       "1                     1.0                     0.0   \n",
       "2                     1.0                     0.0   \n",
       "3                     1.0                     0.0   \n",
       "4                     1.0                     0.0   \n",
       "\n",
       "   Dst Host Same Src Port Rate  Dst Host Srv Diff Host Rate  \\\n",
       "0                         0.00                          0.0   \n",
       "1                         1.00                          0.0   \n",
       "2                         0.50                          0.0   \n",
       "3                         0.33                          0.0   \n",
       "4                         0.25                          0.0   \n",
       "\n",
       "   Dst Host Serror Rate  Dst Host Srv Serror Rate  Dst Host Rerror Rate  \\\n",
       "0                   0.0                       0.0                   0.0   \n",
       "1                   0.0                       0.0                   0.0   \n",
       "2                   0.0                       0.0                   0.0   \n",
       "3                   0.0                       0.0                   0.0   \n",
       "4                   0.0                       0.0                   0.0   \n",
       "\n",
       "   Dst Host Srv Rerror Rate    Label  \n",
       "0                       0.0  normal.  \n",
       "1                       0.0  normal.  \n",
       "2                       0.0  normal.  \n",
       "3                       0.0  normal.  \n",
       "4                       0.0  normal.  \n",
       "\n",
       "[5 rows x 42 columns]"
      ]
     },
     "execution_count": 4,
     "metadata": {},
     "output_type": "execute_result"
    }
   ],
   "source": [
    "df.head()"
   ]
  },
  {
   "cell_type": "code",
   "execution_count": 5,
   "id": "0ee020b4",
   "metadata": {
    "execution": {
     "iopub.execute_input": "2024-02-29T06:33:24.285375Z",
     "iopub.status.busy": "2024-02-29T06:33:24.284941Z",
     "iopub.status.idle": "2024-02-29T06:33:24.312926Z",
     "shell.execute_reply": "2024-02-29T06:33:24.311611Z"
    },
    "papermill": {
     "duration": 0.046465,
     "end_time": "2024-02-29T06:33:24.315889",
     "exception": false,
     "start_time": "2024-02-29T06:33:24.269424",
     "status": "completed"
    },
    "tags": []
   },
   "outputs": [
    {
     "data": {
      "text/html": [
       "<div>\n",
       "<style scoped>\n",
       "    .dataframe tbody tr th:only-of-type {\n",
       "        vertical-align: middle;\n",
       "    }\n",
       "\n",
       "    .dataframe tbody tr th {\n",
       "        vertical-align: top;\n",
       "    }\n",
       "\n",
       "    .dataframe thead th {\n",
       "        text-align: right;\n",
       "    }\n",
       "</style>\n",
       "<table border=\"1\" class=\"dataframe\">\n",
       "  <thead>\n",
       "    <tr style=\"text-align: right;\">\n",
       "      <th></th>\n",
       "      <th>Duration</th>\n",
       "      <th>Protocol Type</th>\n",
       "      <th>Service</th>\n",
       "      <th>Flag</th>\n",
       "      <th>Source Bytes</th>\n",
       "      <th>Destination Bytes</th>\n",
       "      <th>Land</th>\n",
       "      <th>Wrong Fragment</th>\n",
       "      <th>Urgent</th>\n",
       "      <th>Hot</th>\n",
       "      <th>...</th>\n",
       "      <th>Dst Host Srv Count</th>\n",
       "      <th>Dst Host Same Srv Rate</th>\n",
       "      <th>Dst Host Diff Srv Rate</th>\n",
       "      <th>Dst Host Same Src Port Rate</th>\n",
       "      <th>Dst Host Srv Diff Host Rate</th>\n",
       "      <th>Dst Host Serror Rate</th>\n",
       "      <th>Dst Host Srv Serror Rate</th>\n",
       "      <th>Dst Host Rerror Rate</th>\n",
       "      <th>Dst Host Srv Rerror Rate</th>\n",
       "      <th>Label</th>\n",
       "    </tr>\n",
       "  </thead>\n",
       "  <tbody>\n",
       "    <tr>\n",
       "      <th>97544</th>\n",
       "      <td>0</td>\n",
       "      <td>icmp</td>\n",
       "      <td>ecr_i</td>\n",
       "      <td>SF</td>\n",
       "      <td>1032</td>\n",
       "      <td>0</td>\n",
       "      <td>0</td>\n",
       "      <td>0</td>\n",
       "      <td>0</td>\n",
       "      <td>0</td>\n",
       "      <td>...</td>\n",
       "      <td>255</td>\n",
       "      <td>1.0</td>\n",
       "      <td>0.0</td>\n",
       "      <td>1.0</td>\n",
       "      <td>0.0</td>\n",
       "      <td>0.0</td>\n",
       "      <td>0.0</td>\n",
       "      <td>0.0</td>\n",
       "      <td>0.0</td>\n",
       "      <td>smurf.</td>\n",
       "    </tr>\n",
       "    <tr>\n",
       "      <th>97545</th>\n",
       "      <td>0</td>\n",
       "      <td>icmp</td>\n",
       "      <td>ecr_i</td>\n",
       "      <td>SF</td>\n",
       "      <td>1032</td>\n",
       "      <td>0</td>\n",
       "      <td>0</td>\n",
       "      <td>0</td>\n",
       "      <td>0</td>\n",
       "      <td>0</td>\n",
       "      <td>...</td>\n",
       "      <td>255</td>\n",
       "      <td>1.0</td>\n",
       "      <td>0.0</td>\n",
       "      <td>1.0</td>\n",
       "      <td>0.0</td>\n",
       "      <td>0.0</td>\n",
       "      <td>0.0</td>\n",
       "      <td>0.0</td>\n",
       "      <td>0.0</td>\n",
       "      <td>smurf.</td>\n",
       "    </tr>\n",
       "    <tr>\n",
       "      <th>97546</th>\n",
       "      <td>0</td>\n",
       "      <td>icmp</td>\n",
       "      <td>ecr_i</td>\n",
       "      <td>SF</td>\n",
       "      <td>1032</td>\n",
       "      <td>0</td>\n",
       "      <td>0</td>\n",
       "      <td>0</td>\n",
       "      <td>0</td>\n",
       "      <td>0</td>\n",
       "      <td>...</td>\n",
       "      <td>255</td>\n",
       "      <td>1.0</td>\n",
       "      <td>0.0</td>\n",
       "      <td>1.0</td>\n",
       "      <td>0.0</td>\n",
       "      <td>0.0</td>\n",
       "      <td>0.0</td>\n",
       "      <td>0.0</td>\n",
       "      <td>0.0</td>\n",
       "      <td>smurf.</td>\n",
       "    </tr>\n",
       "    <tr>\n",
       "      <th>97547</th>\n",
       "      <td>0</td>\n",
       "      <td>icmp</td>\n",
       "      <td>ecr_i</td>\n",
       "      <td>SF</td>\n",
       "      <td>1032</td>\n",
       "      <td>0</td>\n",
       "      <td>0</td>\n",
       "      <td>0</td>\n",
       "      <td>0</td>\n",
       "      <td>0</td>\n",
       "      <td>...</td>\n",
       "      <td>255</td>\n",
       "      <td>1.0</td>\n",
       "      <td>0.0</td>\n",
       "      <td>1.0</td>\n",
       "      <td>0.0</td>\n",
       "      <td>0.0</td>\n",
       "      <td>0.0</td>\n",
       "      <td>0.0</td>\n",
       "      <td>0.0</td>\n",
       "      <td>smurf.</td>\n",
       "    </tr>\n",
       "    <tr>\n",
       "      <th>97548</th>\n",
       "      <td>0</td>\n",
       "      <td>icmp</td>\n",
       "      <td>ecr_i</td>\n",
       "      <td>SF</td>\n",
       "      <td>1032</td>\n",
       "      <td>0</td>\n",
       "      <td>0</td>\n",
       "      <td>0</td>\n",
       "      <td>0</td>\n",
       "      <td>0</td>\n",
       "      <td>...</td>\n",
       "      <td>255</td>\n",
       "      <td>1.0</td>\n",
       "      <td>0.0</td>\n",
       "      <td>1.0</td>\n",
       "      <td>0.0</td>\n",
       "      <td>0.0</td>\n",
       "      <td>0.0</td>\n",
       "      <td>0.0</td>\n",
       "      <td>0.0</td>\n",
       "      <td>NaN</td>\n",
       "    </tr>\n",
       "  </tbody>\n",
       "</table>\n",
       "<p>5 rows × 42 columns</p>\n",
       "</div>"
      ],
      "text/plain": [
       "       Duration Protocol Type Service Flag  Source Bytes  Destination Bytes  \\\n",
       "97544         0          icmp   ecr_i   SF          1032                  0   \n",
       "97545         0          icmp   ecr_i   SF          1032                  0   \n",
       "97546         0          icmp   ecr_i   SF          1032                  0   \n",
       "97547         0          icmp   ecr_i   SF          1032                  0   \n",
       "97548         0          icmp   ecr_i   SF          1032                  0   \n",
       "\n",
       "       Land  Wrong Fragment  Urgent  Hot  ...  Dst Host Srv Count  \\\n",
       "97544     0               0       0    0  ...                 255   \n",
       "97545     0               0       0    0  ...                 255   \n",
       "97546     0               0       0    0  ...                 255   \n",
       "97547     0               0       0    0  ...                 255   \n",
       "97548     0               0       0    0  ...                 255   \n",
       "\n",
       "       Dst Host Same Srv Rate  Dst Host Diff Srv Rate  \\\n",
       "97544                     1.0                     0.0   \n",
       "97545                     1.0                     0.0   \n",
       "97546                     1.0                     0.0   \n",
       "97547                     1.0                     0.0   \n",
       "97548                     1.0                     0.0   \n",
       "\n",
       "       Dst Host Same Src Port Rate  Dst Host Srv Diff Host Rate  \\\n",
       "97544                          1.0                          0.0   \n",
       "97545                          1.0                          0.0   \n",
       "97546                          1.0                          0.0   \n",
       "97547                          1.0                          0.0   \n",
       "97548                          1.0                          0.0   \n",
       "\n",
       "       Dst Host Serror Rate  Dst Host Srv Serror Rate  Dst Host Rerror Rate  \\\n",
       "97544                   0.0                       0.0                   0.0   \n",
       "97545                   0.0                       0.0                   0.0   \n",
       "97546                   0.0                       0.0                   0.0   \n",
       "97547                   0.0                       0.0                   0.0   \n",
       "97548                   0.0                       0.0                   0.0   \n",
       "\n",
       "       Dst Host Srv Rerror Rate   Label  \n",
       "97544                       0.0  smurf.  \n",
       "97545                       0.0  smurf.  \n",
       "97546                       0.0  smurf.  \n",
       "97547                       0.0  smurf.  \n",
       "97548                       0.0     NaN  \n",
       "\n",
       "[5 rows x 42 columns]"
      ]
     },
     "execution_count": 5,
     "metadata": {},
     "output_type": "execute_result"
    }
   ],
   "source": [
    "df.tail()"
   ]
  },
  {
   "cell_type": "code",
   "execution_count": 6,
   "id": "8f99693e",
   "metadata": {
    "execution": {
     "iopub.execute_input": "2024-02-29T06:33:24.346417Z",
     "iopub.status.busy": "2024-02-29T06:33:24.345958Z",
     "iopub.status.idle": "2024-02-29T06:33:24.353842Z",
     "shell.execute_reply": "2024-02-29T06:33:24.352848Z"
    },
    "papermill": {
     "duration": 0.026024,
     "end_time": "2024-02-29T06:33:24.356226",
     "exception": false,
     "start_time": "2024-02-29T06:33:24.330202",
     "status": "completed"
    },
    "tags": []
   },
   "outputs": [
    {
     "data": {
      "text/plain": [
       "Index(['Duration', 'Protocol Type', 'Service', 'Flag', 'Source Bytes',\n",
       "       'Destination Bytes', 'Land', 'Wrong Fragment', 'Urgent', 'Hot',\n",
       "       'Number of Failed Logins', 'Logged In',\n",
       "       'Number of Compromised Conditions', 'Root Shell', 'Su Attempted',\n",
       "       'Number of Root', 'Number of File Creations', 'Number of Shell Prompts',\n",
       "       'Number of Access Files', 'Number of Outbound Commands',\n",
       "       'Is Host Login', 'Is Guest Login', 'Count', 'Srv Count', 'Serror Rate',\n",
       "       'Srv Serror Rate', 'Rerror Rate', 'Srv Rerror Rate',\n",
       "       'Same Service Rate', 'Diff Service Rate', 'Srv Diff Host Rate',\n",
       "       'Dst Host Count', 'Dst Host Srv Count', 'Dst Host Same Srv Rate',\n",
       "       'Dst Host Diff Srv Rate', 'Dst Host Same Src Port Rate',\n",
       "       'Dst Host Srv Diff Host Rate', 'Dst Host Serror Rate',\n",
       "       'Dst Host Srv Serror Rate', 'Dst Host Rerror Rate',\n",
       "       'Dst Host Srv Rerror Rate', 'Label'],\n",
       "      dtype='object')"
      ]
     },
     "execution_count": 6,
     "metadata": {},
     "output_type": "execute_result"
    }
   ],
   "source": [
    "df.keys()"
   ]
  },
  {
   "cell_type": "code",
   "execution_count": 7,
   "id": "8365b726",
   "metadata": {
    "execution": {
     "iopub.execute_input": "2024-02-29T06:33:24.386873Z",
     "iopub.status.busy": "2024-02-29T06:33:24.386109Z",
     "iopub.status.idle": "2024-02-29T06:33:24.405364Z",
     "shell.execute_reply": "2024-02-29T06:33:24.404082Z"
    },
    "papermill": {
     "duration": 0.037343,
     "end_time": "2024-02-29T06:33:24.407741",
     "exception": false,
     "start_time": "2024-02-29T06:33:24.370398",
     "status": "completed"
    },
    "tags": []
   },
   "outputs": [
    {
     "data": {
      "text/plain": [
       "6"
      ]
     },
     "execution_count": 7,
     "metadata": {},
     "output_type": "execute_result"
    }
   ],
   "source": [
    "df['Label'].nunique()"
   ]
  },
  {
   "cell_type": "code",
   "execution_count": 8,
   "id": "6b7aa85e",
   "metadata": {
    "execution": {
     "iopub.execute_input": "2024-02-29T06:33:24.438517Z",
     "iopub.status.busy": "2024-02-29T06:33:24.438134Z",
     "iopub.status.idle": "2024-02-29T06:33:24.453967Z",
     "shell.execute_reply": "2024-02-29T06:33:24.452931Z"
    },
    "papermill": {
     "duration": 0.034011,
     "end_time": "2024-02-29T06:33:24.456284",
     "exception": false,
     "start_time": "2024-02-29T06:33:24.422273",
     "status": "completed"
    },
    "tags": []
   },
   "outputs": [
    {
     "data": {
      "text/plain": [
       "array(['normal.', 'buffer_overflow.', 'loadmodule.', 'perl.', 'neptune.',\n",
       "       'smurf.', nan], dtype=object)"
      ]
     },
     "execution_count": 8,
     "metadata": {},
     "output_type": "execute_result"
    }
   ],
   "source": [
    "df['Label'].unique()"
   ]
  },
  {
   "cell_type": "code",
   "execution_count": 9,
   "id": "cc8a15ae",
   "metadata": {
    "execution": {
     "iopub.execute_input": "2024-02-29T06:33:24.487810Z",
     "iopub.status.busy": "2024-02-29T06:33:24.486993Z",
     "iopub.status.idle": "2024-02-29T06:33:24.521117Z",
     "shell.execute_reply": "2024-02-29T06:33:24.519843Z"
    },
    "papermill": {
     "duration": 0.053053,
     "end_time": "2024-02-29T06:33:24.523973",
     "exception": false,
     "start_time": "2024-02-29T06:33:24.470920",
     "status": "completed"
    },
    "tags": []
   },
   "outputs": [],
   "source": [
    "df.dropna(subset=['Label'], inplace=True)"
   ]
  },
  {
   "cell_type": "code",
   "execution_count": 10,
   "id": "f6f792aa",
   "metadata": {
    "execution": {
     "iopub.execute_input": "2024-02-29T06:33:24.555257Z",
     "iopub.status.busy": "2024-02-29T06:33:24.554864Z",
     "iopub.status.idle": "2024-02-29T06:33:24.590610Z",
     "shell.execute_reply": "2024-02-29T06:33:24.589569Z"
    },
    "papermill": {
     "duration": 0.054512,
     "end_time": "2024-02-29T06:33:24.593230",
     "exception": false,
     "start_time": "2024-02-29T06:33:24.538718",
     "status": "completed"
    },
    "tags": []
   },
   "outputs": [
    {
     "data": {
      "text/plain": [
       "Label\n",
       "normal.             77888\n",
       "smurf.              19641\n",
       "neptune.               15\n",
       "buffer_overflow.        2\n",
       "loadmodule.             1\n",
       "perl.                   1\n",
       "Name: count, dtype: int64"
      ]
     },
     "execution_count": 10,
     "metadata": {},
     "output_type": "execute_result"
    }
   ],
   "source": [
    "df['Label'].value_counts()"
   ]
  },
  {
   "cell_type": "code",
   "execution_count": 11,
   "id": "10ae7de7",
   "metadata": {
    "execution": {
     "iopub.execute_input": "2024-02-29T06:33:24.626116Z",
     "iopub.status.busy": "2024-02-29T06:33:24.624890Z",
     "iopub.status.idle": "2024-02-29T06:33:24.652649Z",
     "shell.execute_reply": "2024-02-29T06:33:24.651404Z"
    },
    "papermill": {
     "duration": 0.047602,
     "end_time": "2024-02-29T06:33:24.655843",
     "exception": false,
     "start_time": "2024-02-29T06:33:24.608241",
     "status": "completed"
    },
    "tags": []
   },
   "outputs": [
    {
     "data": {
      "text/plain": [
       "Protocol Type\n",
       "tcp     76235\n",
       "icmp    19891\n",
       "udp      1422\n",
       "Name: count, dtype: int64"
      ]
     },
     "execution_count": 11,
     "metadata": {},
     "output_type": "execute_result"
    }
   ],
   "source": [
    "df['Protocol Type'].value_counts()   "
   ]
  },
  {
   "cell_type": "code",
   "execution_count": 12,
   "id": "00a4fd35",
   "metadata": {
    "execution": {
     "iopub.execute_input": "2024-02-29T06:33:24.687494Z",
     "iopub.status.busy": "2024-02-29T06:33:24.687098Z",
     "iopub.status.idle": "2024-02-29T06:33:24.779790Z",
     "shell.execute_reply": "2024-02-29T06:33:24.778464Z"
    },
    "papermill": {
     "duration": 0.111897,
     "end_time": "2024-02-29T06:33:24.782651",
     "exception": false,
     "start_time": "2024-02-29T06:33:24.670754",
     "status": "completed"
    },
    "tags": []
   },
   "outputs": [],
   "source": [
    "label_encoder = LabelEncoder()\n",
    "df['Protocol Type'] = label_encoder.fit_transform(df['Protocol Type'])\n",
    "df['Service'] = label_encoder.fit_transform(df['Service'])\n",
    "df['Flag'] = label_encoder.fit_transform(df['Flag'])"
   ]
  },
  {
   "cell_type": "code",
   "execution_count": 13,
   "id": "34444c28",
   "metadata": {
    "execution": {
     "iopub.execute_input": "2024-02-29T06:33:24.814923Z",
     "iopub.status.busy": "2024-02-29T06:33:24.813682Z",
     "iopub.status.idle": "2024-02-29T06:33:24.819861Z",
     "shell.execute_reply": "2024-02-29T06:33:24.818645Z"
    },
    "papermill": {
     "duration": 0.024694,
     "end_time": "2024-02-29T06:33:24.822360",
     "exception": false,
     "start_time": "2024-02-29T06:33:24.797666",
     "status": "completed"
    },
    "tags": []
   },
   "outputs": [],
   "source": [
    "label_mapping = {\n",
    "    'normal.': 0,\n",
    "    'buffer_overflow.': 1,\n",
    "    'loadmodule.': 1,\n",
    "    'perl.': 1,\n",
    "    'neptune.': 1,\n",
    "    'smurf.': 1}"
   ]
  },
  {
   "cell_type": "code",
   "execution_count": 14,
   "id": "356795f0",
   "metadata": {
    "execution": {
     "iopub.execute_input": "2024-02-29T06:33:24.854727Z",
     "iopub.status.busy": "2024-02-29T06:33:24.854352Z",
     "iopub.status.idle": "2024-02-29T06:33:24.873477Z",
     "shell.execute_reply": "2024-02-29T06:33:24.872466Z"
    },
    "papermill": {
     "duration": 0.038548,
     "end_time": "2024-02-29T06:33:24.875967",
     "exception": false,
     "start_time": "2024-02-29T06:33:24.837419",
     "status": "completed"
    },
    "tags": []
   },
   "outputs": [],
   "source": [
    "df['Label'] = df['Label'].map(label_mapping)"
   ]
  },
  {
   "cell_type": "code",
   "execution_count": 15,
   "id": "6edd0691",
   "metadata": {
    "execution": {
     "iopub.execute_input": "2024-02-29T06:33:24.908530Z",
     "iopub.status.busy": "2024-02-29T06:33:24.908132Z",
     "iopub.status.idle": "2024-02-29T06:33:24.934067Z",
     "shell.execute_reply": "2024-02-29T06:33:24.933134Z"
    },
    "papermill": {
     "duration": 0.045373,
     "end_time": "2024-02-29T06:33:24.936829",
     "exception": false,
     "start_time": "2024-02-29T06:33:24.891456",
     "status": "completed"
    },
    "tags": []
   },
   "outputs": [
    {
     "name": "stdout",
     "output_type": "stream",
     "text": [
      "<class 'pandas.core.frame.DataFrame'>\n",
      "Index: 97548 entries, 0 to 97547\n",
      "Data columns (total 42 columns):\n",
      " #   Column                            Non-Null Count  Dtype  \n",
      "---  ------                            --------------  -----  \n",
      " 0   Duration                          97548 non-null  int64  \n",
      " 1   Protocol Type                     97548 non-null  int64  \n",
      " 2   Service                           97548 non-null  int64  \n",
      " 3   Flag                              97548 non-null  int64  \n",
      " 4   Source Bytes                      97548 non-null  int64  \n",
      " 5   Destination Bytes                 97548 non-null  int64  \n",
      " 6   Land                              97548 non-null  int64  \n",
      " 7   Wrong Fragment                    97548 non-null  int64  \n",
      " 8   Urgent                            97548 non-null  int64  \n",
      " 9   Hot                               97548 non-null  int64  \n",
      " 10  Number of Failed Logins           97548 non-null  int64  \n",
      " 11  Logged In                         97548 non-null  int64  \n",
      " 12  Number of Compromised Conditions  97548 non-null  int64  \n",
      " 13  Root Shell                        97548 non-null  int64  \n",
      " 14  Su Attempted                      97548 non-null  int64  \n",
      " 15  Number of Root                    97548 non-null  int64  \n",
      " 16  Number of File Creations          97548 non-null  int64  \n",
      " 17  Number of Shell Prompts           97548 non-null  int64  \n",
      " 18  Number of Access Files            97548 non-null  int64  \n",
      " 19  Number of Outbound Commands       97548 non-null  int64  \n",
      " 20  Is Host Login                     97548 non-null  int64  \n",
      " 21  Is Guest Login                    97548 non-null  int64  \n",
      " 22  Count                             97548 non-null  int64  \n",
      " 23  Srv Count                         97548 non-null  int64  \n",
      " 24  Serror Rate                       97548 non-null  float64\n",
      " 25  Srv Serror Rate                   97548 non-null  float64\n",
      " 26  Rerror Rate                       97548 non-null  float64\n",
      " 27  Srv Rerror Rate                   97548 non-null  float64\n",
      " 28  Same Service Rate                 97548 non-null  float64\n",
      " 29  Diff Service Rate                 97548 non-null  float64\n",
      " 30  Srv Diff Host Rate                97548 non-null  float64\n",
      " 31  Dst Host Count                    97548 non-null  int64  \n",
      " 32  Dst Host Srv Count                97548 non-null  int64  \n",
      " 33  Dst Host Same Srv Rate            97548 non-null  float64\n",
      " 34  Dst Host Diff Srv Rate            97548 non-null  float64\n",
      " 35  Dst Host Same Src Port Rate       97548 non-null  float64\n",
      " 36  Dst Host Srv Diff Host Rate       97548 non-null  float64\n",
      " 37  Dst Host Serror Rate              97548 non-null  float64\n",
      " 38  Dst Host Srv Serror Rate          97548 non-null  float64\n",
      " 39  Dst Host Rerror Rate              97548 non-null  float64\n",
      " 40  Dst Host Srv Rerror Rate          97548 non-null  float64\n",
      " 41  Label                             97548 non-null  int64  \n",
      "dtypes: float64(15), int64(27)\n",
      "memory usage: 32.0 MB\n"
     ]
    }
   ],
   "source": [
    "df.info()"
   ]
  },
  {
   "cell_type": "code",
   "execution_count": 16,
   "id": "91001af6",
   "metadata": {
    "execution": {
     "iopub.execute_input": "2024-02-29T06:33:24.969716Z",
     "iopub.status.busy": "2024-02-29T06:33:24.968634Z",
     "iopub.status.idle": "2024-02-29T06:33:25.204265Z",
     "shell.execute_reply": "2024-02-29T06:33:25.203340Z"
    },
    "papermill": {
     "duration": 0.255368,
     "end_time": "2024-02-29T06:33:25.207475",
     "exception": false,
     "start_time": "2024-02-29T06:33:24.952107",
     "status": "completed"
    },
    "tags": []
   },
   "outputs": [
    {
     "data": {
      "text/html": [
       "<div>\n",
       "<style scoped>\n",
       "    .dataframe tbody tr th:only-of-type {\n",
       "        vertical-align: middle;\n",
       "    }\n",
       "\n",
       "    .dataframe tbody tr th {\n",
       "        vertical-align: top;\n",
       "    }\n",
       "\n",
       "    .dataframe thead th {\n",
       "        text-align: right;\n",
       "    }\n",
       "</style>\n",
       "<table border=\"1\" class=\"dataframe\">\n",
       "  <thead>\n",
       "    <tr style=\"text-align: right;\">\n",
       "      <th></th>\n",
       "      <th>Duration</th>\n",
       "      <th>Protocol Type</th>\n",
       "      <th>Service</th>\n",
       "      <th>Flag</th>\n",
       "      <th>Source Bytes</th>\n",
       "      <th>Destination Bytes</th>\n",
       "      <th>Land</th>\n",
       "      <th>Wrong Fragment</th>\n",
       "      <th>Urgent</th>\n",
       "      <th>Hot</th>\n",
       "      <th>...</th>\n",
       "      <th>Dst Host Srv Count</th>\n",
       "      <th>Dst Host Same Srv Rate</th>\n",
       "      <th>Dst Host Diff Srv Rate</th>\n",
       "      <th>Dst Host Same Src Port Rate</th>\n",
       "      <th>Dst Host Srv Diff Host Rate</th>\n",
       "      <th>Dst Host Serror Rate</th>\n",
       "      <th>Dst Host Srv Serror Rate</th>\n",
       "      <th>Dst Host Rerror Rate</th>\n",
       "      <th>Dst Host Srv Rerror Rate</th>\n",
       "      <th>Label</th>\n",
       "    </tr>\n",
       "  </thead>\n",
       "  <tbody>\n",
       "    <tr>\n",
       "      <th>count</th>\n",
       "      <td>97548.000000</td>\n",
       "      <td>97548.000000</td>\n",
       "      <td>97548.000000</td>\n",
       "      <td>97548.000000</td>\n",
       "      <td>97548.000000</td>\n",
       "      <td>97548.000000</td>\n",
       "      <td>97548.0</td>\n",
       "      <td>97548.0</td>\n",
       "      <td>97548.000000</td>\n",
       "      <td>97548.000000</td>\n",
       "      <td>...</td>\n",
       "      <td>97548.000000</td>\n",
       "      <td>97548.000000</td>\n",
       "      <td>97548.000000</td>\n",
       "      <td>97548.000000</td>\n",
       "      <td>97548.000000</td>\n",
       "      <td>97548.000000</td>\n",
       "      <td>97548.000000</td>\n",
       "      <td>97548.000000</td>\n",
       "      <td>97548.000000</td>\n",
       "      <td>97548.000000</td>\n",
       "    </tr>\n",
       "    <tr>\n",
       "      <th>mean</th>\n",
       "      <td>3.425022</td>\n",
       "      <td>0.810668</td>\n",
       "      <td>5.489298</td>\n",
       "      <td>6.992763</td>\n",
       "      <td>503.013624</td>\n",
       "      <td>3324.954197</td>\n",
       "      <td>0.0</td>\n",
       "      <td>0.0</td>\n",
       "      <td>0.000010</td>\n",
       "      <td>0.035101</td>\n",
       "      <td>...</td>\n",
       "      <td>240.817515</td>\n",
       "      <td>0.978289</td>\n",
       "      <td>0.004938</td>\n",
       "      <td>0.254882</td>\n",
       "      <td>0.018190</td>\n",
       "      <td>0.001102</td>\n",
       "      <td>0.000442</td>\n",
       "      <td>0.000804</td>\n",
       "      <td>0.000799</td>\n",
       "      <td>0.201542</td>\n",
       "    </tr>\n",
       "    <tr>\n",
       "      <th>std</th>\n",
       "      <td>218.695920</td>\n",
       "      <td>0.427367</td>\n",
       "      <td>1.590732</td>\n",
       "      <td>0.191007</td>\n",
       "      <td>740.012350</td>\n",
       "      <td>8093.408787</td>\n",
       "      <td>0.0</td>\n",
       "      <td>0.0</td>\n",
       "      <td>0.003202</td>\n",
       "      <td>0.793475</td>\n",
       "      <td>...</td>\n",
       "      <td>48.124404</td>\n",
       "      <td>0.110804</td>\n",
       "      <td>0.031580</td>\n",
       "      <td>0.402996</td>\n",
       "      <td>0.030088</td>\n",
       "      <td>0.018785</td>\n",
       "      <td>0.014236</td>\n",
       "      <td>0.027927</td>\n",
       "      <td>0.028001</td>\n",
       "      <td>0.401154</td>\n",
       "    </tr>\n",
       "    <tr>\n",
       "      <th>min</th>\n",
       "      <td>0.000000</td>\n",
       "      <td>0.000000</td>\n",
       "      <td>0.000000</td>\n",
       "      <td>0.000000</td>\n",
       "      <td>0.000000</td>\n",
       "      <td>0.000000</td>\n",
       "      <td>0.0</td>\n",
       "      <td>0.0</td>\n",
       "      <td>0.000000</td>\n",
       "      <td>0.000000</td>\n",
       "      <td>...</td>\n",
       "      <td>0.000000</td>\n",
       "      <td>0.000000</td>\n",
       "      <td>0.000000</td>\n",
       "      <td>0.000000</td>\n",
       "      <td>0.000000</td>\n",
       "      <td>0.000000</td>\n",
       "      <td>0.000000</td>\n",
       "      <td>0.000000</td>\n",
       "      <td>0.000000</td>\n",
       "      <td>0.000000</td>\n",
       "    </tr>\n",
       "    <tr>\n",
       "      <th>25%</th>\n",
       "      <td>0.000000</td>\n",
       "      <td>1.000000</td>\n",
       "      <td>6.000000</td>\n",
       "      <td>7.000000</td>\n",
       "      <td>221.000000</td>\n",
       "      <td>278.000000</td>\n",
       "      <td>0.0</td>\n",
       "      <td>0.0</td>\n",
       "      <td>0.000000</td>\n",
       "      <td>0.000000</td>\n",
       "      <td>...</td>\n",
       "      <td>255.000000</td>\n",
       "      <td>1.000000</td>\n",
       "      <td>0.000000</td>\n",
       "      <td>0.000000</td>\n",
       "      <td>0.000000</td>\n",
       "      <td>0.000000</td>\n",
       "      <td>0.000000</td>\n",
       "      <td>0.000000</td>\n",
       "      <td>0.000000</td>\n",
       "      <td>0.000000</td>\n",
       "    </tr>\n",
       "    <tr>\n",
       "      <th>50%</th>\n",
       "      <td>0.000000</td>\n",
       "      <td>1.000000</td>\n",
       "      <td>6.000000</td>\n",
       "      <td>7.000000</td>\n",
       "      <td>290.000000</td>\n",
       "      <td>924.000000</td>\n",
       "      <td>0.0</td>\n",
       "      <td>0.0</td>\n",
       "      <td>0.000000</td>\n",
       "      <td>0.000000</td>\n",
       "      <td>...</td>\n",
       "      <td>255.000000</td>\n",
       "      <td>1.000000</td>\n",
       "      <td>0.000000</td>\n",
       "      <td>0.020000</td>\n",
       "      <td>0.010000</td>\n",
       "      <td>0.000000</td>\n",
       "      <td>0.000000</td>\n",
       "      <td>0.000000</td>\n",
       "      <td>0.000000</td>\n",
       "      <td>0.000000</td>\n",
       "    </tr>\n",
       "    <tr>\n",
       "      <th>75%</th>\n",
       "      <td>0.000000</td>\n",
       "      <td>1.000000</td>\n",
       "      <td>6.000000</td>\n",
       "      <td>7.000000</td>\n",
       "      <td>871.000000</td>\n",
       "      <td>2808.000000</td>\n",
       "      <td>0.0</td>\n",
       "      <td>0.0</td>\n",
       "      <td>0.000000</td>\n",
       "      <td>0.000000</td>\n",
       "      <td>...</td>\n",
       "      <td>255.000000</td>\n",
       "      <td>1.000000</td>\n",
       "      <td>0.000000</td>\n",
       "      <td>0.250000</td>\n",
       "      <td>0.030000</td>\n",
       "      <td>0.000000</td>\n",
       "      <td>0.000000</td>\n",
       "      <td>0.000000</td>\n",
       "      <td>0.000000</td>\n",
       "      <td>0.000000</td>\n",
       "    </tr>\n",
       "    <tr>\n",
       "      <th>max</th>\n",
       "      <td>40504.000000</td>\n",
       "      <td>2.000000</td>\n",
       "      <td>11.000000</td>\n",
       "      <td>7.000000</td>\n",
       "      <td>49765.000000</td>\n",
       "      <td>271733.000000</td>\n",
       "      <td>0.0</td>\n",
       "      <td>0.0</td>\n",
       "      <td>1.000000</td>\n",
       "      <td>30.000000</td>\n",
       "      <td>...</td>\n",
       "      <td>255.000000</td>\n",
       "      <td>1.000000</td>\n",
       "      <td>1.000000</td>\n",
       "      <td>1.000000</td>\n",
       "      <td>1.000000</td>\n",
       "      <td>1.000000</td>\n",
       "      <td>0.940000</td>\n",
       "      <td>1.000000</td>\n",
       "      <td>1.000000</td>\n",
       "      <td>1.000000</td>\n",
       "    </tr>\n",
       "  </tbody>\n",
       "</table>\n",
       "<p>8 rows × 42 columns</p>\n",
       "</div>"
      ],
      "text/plain": [
       "           Duration  Protocol Type       Service          Flag  Source Bytes  \\\n",
       "count  97548.000000   97548.000000  97548.000000  97548.000000  97548.000000   \n",
       "mean       3.425022       0.810668      5.489298      6.992763    503.013624   \n",
       "std      218.695920       0.427367      1.590732      0.191007    740.012350   \n",
       "min        0.000000       0.000000      0.000000      0.000000      0.000000   \n",
       "25%        0.000000       1.000000      6.000000      7.000000    221.000000   \n",
       "50%        0.000000       1.000000      6.000000      7.000000    290.000000   \n",
       "75%        0.000000       1.000000      6.000000      7.000000    871.000000   \n",
       "max    40504.000000       2.000000     11.000000      7.000000  49765.000000   \n",
       "\n",
       "       Destination Bytes     Land  Wrong Fragment        Urgent           Hot  \\\n",
       "count       97548.000000  97548.0         97548.0  97548.000000  97548.000000   \n",
       "mean         3324.954197      0.0             0.0      0.000010      0.035101   \n",
       "std          8093.408787      0.0             0.0      0.003202      0.793475   \n",
       "min             0.000000      0.0             0.0      0.000000      0.000000   \n",
       "25%           278.000000      0.0             0.0      0.000000      0.000000   \n",
       "50%           924.000000      0.0             0.0      0.000000      0.000000   \n",
       "75%          2808.000000      0.0             0.0      0.000000      0.000000   \n",
       "max        271733.000000      0.0             0.0      1.000000     30.000000   \n",
       "\n",
       "       ...  Dst Host Srv Count  Dst Host Same Srv Rate  \\\n",
       "count  ...        97548.000000            97548.000000   \n",
       "mean   ...          240.817515                0.978289   \n",
       "std    ...           48.124404                0.110804   \n",
       "min    ...            0.000000                0.000000   \n",
       "25%    ...          255.000000                1.000000   \n",
       "50%    ...          255.000000                1.000000   \n",
       "75%    ...          255.000000                1.000000   \n",
       "max    ...          255.000000                1.000000   \n",
       "\n",
       "       Dst Host Diff Srv Rate  Dst Host Same Src Port Rate  \\\n",
       "count            97548.000000                 97548.000000   \n",
       "mean                 0.004938                     0.254882   \n",
       "std                  0.031580                     0.402996   \n",
       "min                  0.000000                     0.000000   \n",
       "25%                  0.000000                     0.000000   \n",
       "50%                  0.000000                     0.020000   \n",
       "75%                  0.000000                     0.250000   \n",
       "max                  1.000000                     1.000000   \n",
       "\n",
       "       Dst Host Srv Diff Host Rate  Dst Host Serror Rate  \\\n",
       "count                 97548.000000          97548.000000   \n",
       "mean                      0.018190              0.001102   \n",
       "std                       0.030088              0.018785   \n",
       "min                       0.000000              0.000000   \n",
       "25%                       0.000000              0.000000   \n",
       "50%                       0.010000              0.000000   \n",
       "75%                       0.030000              0.000000   \n",
       "max                       1.000000              1.000000   \n",
       "\n",
       "       Dst Host Srv Serror Rate  Dst Host Rerror Rate  \\\n",
       "count              97548.000000          97548.000000   \n",
       "mean                   0.000442              0.000804   \n",
       "std                    0.014236              0.027927   \n",
       "min                    0.000000              0.000000   \n",
       "25%                    0.000000              0.000000   \n",
       "50%                    0.000000              0.000000   \n",
       "75%                    0.000000              0.000000   \n",
       "max                    0.940000              1.000000   \n",
       "\n",
       "       Dst Host Srv Rerror Rate         Label  \n",
       "count              97548.000000  97548.000000  \n",
       "mean                   0.000799      0.201542  \n",
       "std                    0.028001      0.401154  \n",
       "min                    0.000000      0.000000  \n",
       "25%                    0.000000      0.000000  \n",
       "50%                    0.000000      0.000000  \n",
       "75%                    0.000000      0.000000  \n",
       "max                    1.000000      1.000000  \n",
       "\n",
       "[8 rows x 42 columns]"
      ]
     },
     "execution_count": 16,
     "metadata": {},
     "output_type": "execute_result"
    }
   ],
   "source": [
    "df.describe()"
   ]
  },
  {
   "cell_type": "code",
   "execution_count": 17,
   "id": "934ad607",
   "metadata": {
    "execution": {
     "iopub.execute_input": "2024-02-29T06:33:25.242402Z",
     "iopub.status.busy": "2024-02-29T06:33:25.241972Z",
     "iopub.status.idle": "2024-02-29T06:33:25.249156Z",
     "shell.execute_reply": "2024-02-29T06:33:25.248070Z"
    },
    "papermill": {
     "duration": 0.027322,
     "end_time": "2024-02-29T06:33:25.251632",
     "exception": false,
     "start_time": "2024-02-29T06:33:25.224310",
     "status": "completed"
    },
    "tags": []
   },
   "outputs": [
    {
     "data": {
      "text/plain": [
       "(97548, 42)"
      ]
     },
     "execution_count": 17,
     "metadata": {},
     "output_type": "execute_result"
    }
   ],
   "source": [
    "df.shape"
   ]
  },
  {
   "cell_type": "code",
   "execution_count": 18,
   "id": "9e643725",
   "metadata": {
    "execution": {
     "iopub.execute_input": "2024-02-29T06:33:25.285475Z",
     "iopub.status.busy": "2024-02-29T06:33:25.285094Z",
     "iopub.status.idle": "2024-02-29T06:33:25.303560Z",
     "shell.execute_reply": "2024-02-29T06:33:25.302365Z"
    },
    "papermill": {
     "duration": 0.038461,
     "end_time": "2024-02-29T06:33:25.306114",
     "exception": false,
     "start_time": "2024-02-29T06:33:25.267653",
     "status": "completed"
    },
    "tags": []
   },
   "outputs": [
    {
     "data": {
      "text/plain": [
       "[]"
      ]
     },
     "execution_count": 18,
     "metadata": {},
     "output_type": "execute_result"
    }
   ],
   "source": [
    "[features for features in df.columns if df[features].isnull().sum()>0]"
   ]
  },
  {
   "cell_type": "code",
   "execution_count": 19,
   "id": "bc98a672",
   "metadata": {
    "execution": {
     "iopub.execute_input": "2024-02-29T06:33:25.341457Z",
     "iopub.status.busy": "2024-02-29T06:33:25.340495Z",
     "iopub.status.idle": "2024-02-29T06:33:25.608198Z",
     "shell.execute_reply": "2024-02-29T06:33:25.607077Z"
    },
    "papermill": {
     "duration": 0.28757,
     "end_time": "2024-02-29T06:33:25.610729",
     "exception": false,
     "start_time": "2024-02-29T06:33:25.323159",
     "status": "completed"
    },
    "tags": []
   },
   "outputs": [
    {
     "data": {
      "image/png": "[encoded data removed]",
      "text/plain": [
       "<Figure size 640x480 with 1 Axes>"
      ]
     },
     "metadata": {},
     "output_type": "display_data"
    }
   ],
   "source": [
    "sns.countplot(x='Label', data=df)\n",
    "plt.show()"
   ]
  },
  {
   "cell_type": "markdown",
   "id": "3a3bc7ec",
   "metadata": {
    "papermill": {
     "duration": 0.016188,
     "end_time": "2024-02-29T06:33:25.643478",
     "exception": false,
     "start_time": "2024-02-29T06:33:25.627290",
     "status": "completed"
    },
    "tags": []
   },
   "source": [
    "Ensemble Machine Learning algorithm"
   ]
  },
  {
   "cell_type": "code",
   "execution_count": 20,
   "id": "4e288f1f",
   "metadata": {
    "execution": {
     "iopub.execute_input": "2024-02-29T06:33:25.678295Z",
     "iopub.status.busy": "2024-02-29T06:33:25.677867Z",
     "iopub.status.idle": "2024-02-29T06:33:25.684631Z",
     "shell.execute_reply": "2024-02-29T06:33:25.683627Z"
    },
    "papermill": {
     "duration": 0.02677,
     "end_time": "2024-02-29T06:33:25.686732",
     "exception": false,
     "start_time": "2024-02-29T06:33:25.659962",
     "status": "completed"
    },
    "tags": []
   },
   "outputs": [],
   "source": [
    "predictorNames = ['Duration', 'Protocol Type', 'Service', 'Flag', 'Source Bytes',\n",
    "       'Destination Bytes', 'Land', 'Wrong Fragment', 'Urgent', 'Hot',\n",
    "       'Number of Failed Logins', 'Logged In',\n",
    "       'Number of Compromised Conditions', 'Root Shell', 'Su Attempted',\n",
    "       'Number of Root', 'Number of File Creations', 'Number of Shell Prompts',\n",
    "       'Number of Access Files', 'Number of Outbound Commands',\n",
    "       'Is Host Login', 'Is Guest Login', 'Count', 'Srv Count', 'Serror Rate',\n",
    "       'Srv Serror Rate', 'Rerror Rate', 'Srv Rerror Rate',\n",
    "       'Same Service Rate', 'Diff Service Rate', 'Srv Diff Host Rate',\n",
    "       'Dst Host Count', 'Dst Host Srv Count', 'Dst Host Same Srv Rate',\n",
    "       'Dst Host Diff Srv Rate', 'Dst Host Same Src Port Rate',\n",
    "       'Dst Host Srv Diff Host Rate', 'Dst Host Serror Rate',\n",
    "       'Dst Host Srv Serror Rate', 'Dst Host Rerror Rate',\n",
    "       'Dst Host Srv Rerror Rate']"
   ]
  },
  {
   "cell_type": "code",
   "execution_count": 21,
   "id": "9c5e9a26",
   "metadata": {
    "execution": {
     "iopub.execute_input": "2024-02-29T06:33:25.721592Z",
     "iopub.status.busy": "2024-02-29T06:33:25.720923Z",
     "iopub.status.idle": "2024-02-29T06:33:25.733304Z",
     "shell.execute_reply": "2024-02-29T06:33:25.732261Z"
    },
    "papermill": {
     "duration": 0.033008,
     "end_time": "2024-02-29T06:33:25.736169",
     "exception": false,
     "start_time": "2024-02-29T06:33:25.703161",
     "status": "completed"
    },
    "tags": []
   },
   "outputs": [],
   "source": [
    "predictors = df[predictorNames]"
   ]
  },
  {
   "cell_type": "code",
   "execution_count": 22,
   "id": "bac2abca",
   "metadata": {
    "execution": {
     "iopub.execute_input": "2024-02-29T06:33:25.772002Z",
     "iopub.status.busy": "2024-02-29T06:33:25.771368Z",
     "iopub.status.idle": "2024-02-29T06:33:25.776149Z",
     "shell.execute_reply": "2024-02-29T06:33:25.775292Z"
    },
    "papermill": {
     "duration": 0.025032,
     "end_time": "2024-02-29T06:33:25.778318",
     "exception": false,
     "start_time": "2024-02-29T06:33:25.753286",
     "status": "completed"
    },
    "tags": []
   },
   "outputs": [],
   "source": [
    "response = df['Label']"
   ]
  },
  {
   "cell_type": "code",
   "execution_count": 23,
   "id": "7af1fc96",
   "metadata": {
    "execution": {
     "iopub.execute_input": "2024-02-29T06:33:25.812915Z",
     "iopub.status.busy": "2024-02-29T06:33:25.812286Z",
     "iopub.status.idle": "2024-02-29T06:33:25.859381Z",
     "shell.execute_reply": "2024-02-29T06:33:25.858379Z"
    },
    "papermill": {
     "duration": 0.067492,
     "end_time": "2024-02-29T06:33:25.862065",
     "exception": false,
     "start_time": "2024-02-29T06:33:25.794573",
     "status": "completed"
    },
    "tags": []
   },
   "outputs": [],
   "source": [
    "X_train, X_test, y_train, y_test = train_test_split(predictors, response, test_size=0.2, random_state=42)"
   ]
  },
  {
   "cell_type": "markdown",
   "id": "8d4e5e9a",
   "metadata": {
    "papermill": {
     "duration": 0.01642,
     "end_time": "2024-02-29T06:33:25.894847",
     "exception": false,
     "start_time": "2024-02-29T06:33:25.878427",
     "status": "completed"
    },
    "tags": []
   },
   "source": [
    "# Bootstrap Aggregation #"
   ]
  },
  {
   "cell_type": "code",
   "execution_count": 24,
   "id": "9a7c68b2",
   "metadata": {
    "execution": {
     "iopub.execute_input": "2024-02-29T06:33:25.929564Z",
     "iopub.status.busy": "2024-02-29T06:33:25.929174Z",
     "iopub.status.idle": "2024-02-29T06:33:25.933997Z",
     "shell.execute_reply": "2024-02-29T06:33:25.932958Z"
    },
    "papermill": {
     "duration": 0.025138,
     "end_time": "2024-02-29T06:33:25.936323",
     "exception": false,
     "start_time": "2024-02-29T06:33:25.911185",
     "status": "completed"
    },
    "tags": []
   },
   "outputs": [],
   "source": [
    "template = DecisionTreeClassifier(max_depth=5)"
   ]
  },
  {
   "cell_type": "code",
   "execution_count": 25,
   "id": "9f19febe",
   "metadata": {
    "execution": {
     "iopub.execute_input": "2024-02-29T06:33:26.029227Z",
     "iopub.status.busy": "2024-02-29T06:33:26.028781Z",
     "iopub.status.idle": "2024-02-29T06:33:26.034308Z",
     "shell.execute_reply": "2024-02-29T06:33:26.033108Z"
    },
    "papermill": {
     "duration": 0.083687,
     "end_time": "2024-02-29T06:33:26.036618",
     "exception": false,
     "start_time": "2024-02-29T06:33:25.952931",
     "status": "completed"
    },
    "tags": []
   },
   "outputs": [],
   "source": [
    "classificationEnsemble = AdaBoostClassifier(estimator=template,\n",
    "                                             n_estimators=100,\n",
    "                                             learning_rate=0.1)"
   ]
  },
  {
   "cell_type": "code",
   "execution_count": 26,
   "id": "6a986852",
   "metadata": {
    "execution": {
     "iopub.execute_input": "2024-02-29T06:33:26.071594Z",
     "iopub.status.busy": "2024-02-29T06:33:26.070536Z",
     "iopub.status.idle": "2024-02-29T06:33:26.633934Z",
     "shell.execute_reply": "2024-02-29T06:33:26.632776Z"
    },
    "papermill": {
     "duration": 0.583422,
     "end_time": "2024-02-29T06:33:26.636495",
     "exception": false,
     "start_time": "2024-02-29T06:33:26.053073",
     "status": "completed"
    },
    "tags": []
   },
   "outputs": [
    {
     "data": {
      "text/html": [
       "<style>#sk-container-id-1 {color: black;background-color: white;}#sk-container-id-1 pre{padding: 0;}#sk-container-id-1 div.sk-toggleable {background-color: white;}#sk-container-id-1 label.sk-toggleable__label {cursor: pointer;display: block;width: 100%;margin-bottom: 0;padding: 0.3em;box-sizing: border-box;text-align: center;}#sk-container-id-1 label.sk-toggleable__label-arrow:before {content: \"▸\";float: left;margin-right: 0.25em;color: #696969;}#sk-container-id-1 label.sk-toggleable__label-arrow:hover:before {color: black;}#sk-container-id-1 div.sk-estimator:hover label.sk-toggleable__label-arrow:before {color: black;}#sk-container-id-1 div.sk-toggleable__content {max-height: 0;max-width: 0;overflow: hidden;text-align: left;background-color: #f0f8ff;}#sk-container-id-1 div.sk-toggleable__content pre {margin: 0.2em;color: black;border-radius: 0.25em;background-color: #f0f8ff;}#sk-container-id-1 input.sk-toggleable__control:checked~div.sk-toggleable__content {max-height: 200px;max-width: 100%;overflow: auto;}#sk-container-id-1 input.sk-toggleable__control:checked~label.sk-toggleable__label-arrow:before {content: \"▾\";}#sk-container-id-1 div.sk-estimator input.sk-toggleable__control:checked~label.sk-toggleable__label {background-color: #d4ebff;}#sk-container-id-1 div.sk-label input.sk-toggleable__control:checked~label.sk-toggleable__label {background-color: #d4ebff;}#sk-container-id-1 input.sk-hidden--visually {border: 0;clip: rect(1px 1px 1px 1px);clip: rect(1px, 1px, 1px, 1px);height: 1px;margin: -1px;overflow: hidden;padding: 0;position: absolute;width: 1px;}#sk-container-id-1 div.sk-estimator {font-family: monospace;background-color: #f0f8ff;border: 1px dotted black;border-radius: 0.25em;box-sizing: border-box;margin-bottom: 0.5em;}#sk-container-id-1 div.sk-estimator:hover {background-color: #d4ebff;}#sk-container-id-1 div.sk-parallel-item::after {content: \"\";width: 100%;border-bottom: 1px solid gray;flex-grow: 1;}#sk-container-id-1 div.sk-label:hover label.sk-toggleable__label {background-color: #d4ebff;}#sk-container-id-1 div.sk-serial::before {content: \"\";position: absolute;border-left: 1px solid gray;box-sizing: border-box;top: 0;bottom: 0;left: 50%;z-index: 0;}#sk-container-id-1 div.sk-serial {display: flex;flex-direction: column;align-items: center;background-color: white;padding-right: 0.2em;padding-left: 0.2em;position: relative;}#sk-container-id-1 div.sk-item {position: relative;z-index: 1;}#sk-container-id-1 div.sk-parallel {display: flex;align-items: stretch;justify-content: center;background-color: white;position: relative;}#sk-container-id-1 div.sk-item::before, #sk-container-id-1 div.sk-parallel-item::before {content: \"\";position: absolute;border-left: 1px solid gray;box-sizing: border-box;top: 0;bottom: 0;left: 50%;z-index: -1;}#sk-container-id-1 div.sk-parallel-item {display: flex;flex-direction: column;z-index: 1;position: relative;background-color: white;}#sk-container-id-1 div.sk-parallel-item:first-child::after {align-self: flex-end;width: 50%;}#sk-container-id-1 div.sk-parallel-item:last-child::after {align-self: flex-start;width: 50%;}#sk-container-id-1 div.sk-parallel-item:only-child::after {width: 0;}#sk-container-id-1 div.sk-dashed-wrapped {border: 1px dashed gray;margin: 0 0.4em 0.5em 0.4em;box-sizing: border-box;padding-bottom: 0.4em;background-color: white;}#sk-container-id-1 div.sk-label label {font-family: monospace;font-weight: bold;display: inline-block;line-height: 1.2em;}#sk-container-id-1 div.sk-label-container {text-align: center;}#sk-container-id-1 div.sk-container {/* jupyter's `normalize.less` sets `[hidden] { display: none; }` but bootstrap.min.css set `[hidden] { display: none !important; }` so we also need the `!important` here to be able to override the default hidden behavior on the sphinx rendered scikit-learn.org. See: https://github.com/scikit-learn/scikit-learn/issues/21755 */display: inline-block !important;position: relative;}#sk-container-id-1 div.sk-text-repr-fallback {display: none;}</style><div id=\"sk-container-id-1\" class=\"sk-top-container\"><div class=\"sk-text-repr-fallback\"><pre>AdaBoostClassifier(estimator=DecisionTreeClassifier(max_depth=5),\n",
       "                   learning_rate=0.1, n_estimators=100)</pre><b>In a Jupyter environment, please rerun this cell to show the HTML representation or trust the notebook. <br />On GitHub, the HTML representation is unable to render, please try loading this page with nbviewer.org.</b></div><div class=\"sk-container\" hidden><div class=\"sk-item sk-dashed-wrapped\"><div class=\"sk-label-container\"><div class=\"sk-label sk-toggleable\"><input class=\"sk-toggleable__control sk-hidden--visually\" id=\"sk-estimator-id-1\" type=\"checkbox\" ><label for=\"sk-estimator-id-1\" class=\"sk-toggleable__label sk-toggleable__label-arrow\">AdaBoostClassifier</label><div class=\"sk-toggleable__content\"><pre>AdaBoostClassifier(estimator=DecisionTreeClassifier(max_depth=5),\n",
       "                   learning_rate=0.1, n_estimators=100)</pre></div></div></div><div class=\"sk-parallel\"><div class=\"sk-parallel-item\"><div class=\"sk-item\"><div class=\"sk-label-container\"><div class=\"sk-label sk-toggleable\"><input class=\"sk-toggleable__control sk-hidden--visually\" id=\"sk-estimator-id-2\" type=\"checkbox\" ><label for=\"sk-estimator-id-2\" class=\"sk-toggleable__label sk-toggleable__label-arrow\">estimator: DecisionTreeClassifier</label><div class=\"sk-toggleable__content\"><pre>DecisionTreeClassifier(max_depth=5)</pre></div></div></div><div class=\"sk-serial\"><div class=\"sk-item\"><div class=\"sk-estimator sk-toggleable\"><input class=\"sk-toggleable__control sk-hidden--visually\" id=\"sk-estimator-id-3\" type=\"checkbox\" ><label for=\"sk-estimator-id-3\" class=\"sk-toggleable__label sk-toggleable__label-arrow\">DecisionTreeClassifier</label><div class=\"sk-toggleable__content\"><pre>DecisionTreeClassifier(max_depth=5)</pre></div></div></div></div></div></div></div></div></div></div>"
      ],
      "text/plain": [
       "AdaBoostClassifier(estimator=DecisionTreeClassifier(max_depth=5),\n",
       "                   learning_rate=0.1, n_estimators=100)"
      ]
     },
     "execution_count": 26,
     "metadata": {},
     "output_type": "execute_result"
    }
   ],
   "source": [
    "classificationEnsemble.fit(X_train, y_train)"
   ]
  },
  {
   "cell_type": "code",
   "execution_count": 27,
   "id": "865b1287",
   "metadata": {
    "execution": {
     "iopub.execute_input": "2024-02-29T06:33:26.672225Z",
     "iopub.status.busy": "2024-02-29T06:33:26.671070Z",
     "iopub.status.idle": "2024-02-29T06:33:26.688973Z",
     "shell.execute_reply": "2024-02-29T06:33:26.687702Z"
    },
    "papermill": {
     "duration": 0.038794,
     "end_time": "2024-02-29T06:33:26.691906",
     "exception": false,
     "start_time": "2024-02-29T06:33:26.653112",
     "status": "completed"
    },
    "tags": []
   },
   "outputs": [],
   "source": [
    "y_pred1 = classificationEnsemble.predict(X_test)"
   ]
  },
  {
   "cell_type": "code",
   "execution_count": 28,
   "id": "0848561a",
   "metadata": {
    "execution": {
     "iopub.execute_input": "2024-02-29T06:33:26.726991Z",
     "iopub.status.busy": "2024-02-29T06:33:26.726585Z",
     "iopub.status.idle": "2024-02-29T06:33:26.772340Z",
     "shell.execute_reply": "2024-02-29T06:33:26.771073Z"
    },
    "papermill": {
     "duration": 0.066485,
     "end_time": "2024-02-29T06:33:26.775165",
     "exception": false,
     "start_time": "2024-02-29T06:33:26.708680",
     "status": "completed"
    },
    "tags": []
   },
   "outputs": [],
   "source": [
    "Accuracy1 = accuracy_score(y_test, y_pred1)\n",
    "recall1 = recall_score(y_test, y_pred1)\n",
    "precision1 = precision_score(y_test, y_pred1)\n",
    "f11 = f1_score(y_test, y_pred1)\n",
    "mcc1 = matthews_corrcoef(y_test, y_pred1)"
   ]
  },
  {
   "cell_type": "code",
   "execution_count": 29,
   "id": "688da25c",
   "metadata": {
    "execution": {
     "iopub.execute_input": "2024-02-29T06:33:26.811237Z",
     "iopub.status.busy": "2024-02-29T06:33:26.810765Z",
     "iopub.status.idle": "2024-02-29T06:33:26.817830Z",
     "shell.execute_reply": "2024-02-29T06:33:26.816613Z"
    },
    "papermill": {
     "duration": 0.028016,
     "end_time": "2024-02-29T06:33:26.820455",
     "exception": false,
     "start_time": "2024-02-29T06:33:26.792439",
     "status": "completed"
    },
    "tags": []
   },
   "outputs": [
    {
     "name": "stdout",
     "output_type": "stream",
     "text": [
      "KDDCUP99 Dataset Boasting\n",
      "Accuracy: 99.97949769349052\n",
      "Recall: 99.92103185048697\n",
      "Precision: 99.97366341848829\n",
      "F1 Score: 99.94734070563455\n",
      "MCC Score: 99.93461692355619\n"
     ]
    }
   ],
   "source": [
    "print(\"KDDCUP99 Dataset Boasting\")\n",
    "print('Accuracy:', Accuracy1*100)\n",
    "print('Recall:', recall1*100)\n",
    "print('Precision:', precision1*100)\n",
    "print('F1 Score:', f11*100)\n",
    "print('MCC Score:', mcc1*100)"
   ]
  },
  {
   "cell_type": "code",
   "execution_count": 30,
   "id": "b764a05e",
   "metadata": {
    "execution": {
     "iopub.execute_input": "2024-02-29T06:33:26.858741Z",
     "iopub.status.busy": "2024-02-29T06:33:26.858085Z",
     "iopub.status.idle": "2024-02-29T06:33:27.259996Z",
     "shell.execute_reply": "2024-02-29T06:33:27.258635Z"
    },
    "papermill": {
     "duration": 0.425426,
     "end_time": "2024-02-29T06:33:27.262633",
     "exception": false,
     "start_time": "2024-02-29T06:33:26.837207",
     "status": "completed"
    },
    "tags": []
   },
   "outputs": [
    {
     "name": "stderr",
     "output_type": "stream",
     "text": [
      "/opt/conda/lib/python3.10/site-packages/seaborn/_oldcore.py:1765: FutureWarning: unique with argument that is not not a Series, Index, ExtensionArray, or np.ndarray is deprecated and will raise in a future version.\n",
      "  order = pd.unique(vector)\n"
     ]
    },
    {
     "data": {
      "image/png": "[encoded data removed]",
      "text/plain": [
       "<Figure size 800x300 with 1 Axes>"
      ]
     },
     "metadata": {},
     "output_type": "display_data"
    }
   ],
   "source": [
    "labels = ['Accuracy', 'Recall', 'Precision', 'F1 score', \"MCC\"]\n",
    "scores = [Accuracy1,recall1, precision1,f11, mcc1]\n",
    "sns.set(style='whitegrid')\n",
    "sns.set_color_codes('pastel')\n",
    "palette = sns.color_palette('Set1')\n",
    "\n",
    "fig, ax = plt.subplots(figsize=(8, 3))\n",
    "sns.barplot(x=scores, y=labels, palette=palette)\n",
    "\n",
    "for i, v in enumerate(scores):\n",
    "    ax.text(v+0.01, i, f'{v*100:.2f}%', color='black', fontweight='bold')\n",
    "\n",
    "ax.set_xlim(0, 1)\n",
    "ax.set_xlabel('Score')\n",
    "ax.set_ylabel('Metric')\n",
    "ax.set_title('Model performance on KDDCUP99 Dataset Boasting')\n",
    "\n",
    "plt.show()"
   ]
  },
  {
   "cell_type": "code",
   "execution_count": 31,
   "id": "70a777c3",
   "metadata": {
    "execution": {
     "iopub.execute_input": "2024-02-29T06:33:27.300128Z",
     "iopub.status.busy": "2024-02-29T06:33:27.299696Z",
     "iopub.status.idle": "2024-02-29T06:33:27.308644Z",
     "shell.execute_reply": "2024-02-29T06:33:27.307863Z"
    },
    "papermill": {
     "duration": 0.030179,
     "end_time": "2024-02-29T06:33:27.310888",
     "exception": false,
     "start_time": "2024-02-29T06:33:27.280709",
     "status": "completed"
    },
    "tags": []
   },
   "outputs": [],
   "source": [
    "cm = confusion_matrix(y_test, y_pred1)"
   ]
  },
  {
   "cell_type": "code",
   "execution_count": 32,
   "id": "29e585b1",
   "metadata": {
    "execution": {
     "iopub.execute_input": "2024-02-29T06:33:27.348878Z",
     "iopub.status.busy": "2024-02-29T06:33:27.347894Z",
     "iopub.status.idle": "2024-02-29T06:33:27.698312Z",
     "shell.execute_reply": "2024-02-29T06:33:27.697173Z"
    },
    "papermill": {
     "duration": 0.37252,
     "end_time": "2024-02-29T06:33:27.700836",
     "exception": false,
     "start_time": "2024-02-29T06:33:27.328316",
     "status": "completed"
    },
    "tags": []
   },
   "outputs": [
    {
     "data": {
      "image/png": "[encoded data removed]",
      "text/plain": [
       "<Figure size 800x600 with 2 Axes>"
      ]
     },
     "metadata": {},
     "output_type": "display_data"
    }
   ],
   "source": [
    "plt.figure(figsize=(8,6))\n",
    "sns.heatmap(cm, annot=True, cmap='Blues', fmt='g', \n",
    "            xticklabels=['BENIGN', 'DDos'], yticklabels=['BENIGN', 'DDos'])\n",
    "plt.xlabel('Predicted labels')\n",
    "plt.ylabel('True labels')\n",
    "plt.show()"
   ]
  },
  {
   "cell_type": "markdown",
   "id": "ad8fc9b3",
   "metadata": {
    "papermill": {
     "duration": 0.017635,
     "end_time": "2024-02-29T06:33:27.736544",
     "exception": false,
     "start_time": "2024-02-29T06:33:27.718909",
     "status": "completed"
    },
    "tags": []
   },
   "source": [
    "# Bagging #"
   ]
  },
  {
   "cell_type": "code",
   "execution_count": 33,
   "id": "0690f0a8",
   "metadata": {
    "execution": {
     "iopub.execute_input": "2024-02-29T06:33:27.773960Z",
     "iopub.status.busy": "2024-02-29T06:33:27.773593Z",
     "iopub.status.idle": "2024-02-29T06:33:27.778992Z",
     "shell.execute_reply": "2024-02-29T06:33:27.777867Z"
    },
    "papermill": {
     "duration": 0.027021,
     "end_time": "2024-02-29T06:33:27.781408",
     "exception": false,
     "start_time": "2024-02-29T06:33:27.754387",
     "status": "completed"
    },
    "tags": []
   },
   "outputs": [],
   "source": [
    "rfc = RandomForestClassifier(n_estimators=100, max_depth=5)"
   ]
  },
  {
   "cell_type": "code",
   "execution_count": 34,
   "id": "945a802a",
   "metadata": {
    "execution": {
     "iopub.execute_input": "2024-02-29T06:33:27.819602Z",
     "iopub.status.busy": "2024-02-29T06:33:27.819231Z",
     "iopub.status.idle": "2024-02-29T06:33:27.824770Z",
     "shell.execute_reply": "2024-02-29T06:33:27.823500Z"
    },
    "papermill": {
     "duration": 0.02767,
     "end_time": "2024-02-29T06:33:27.827185",
     "exception": false,
     "start_time": "2024-02-29T06:33:27.799515",
     "status": "completed"
    },
    "tags": []
   },
   "outputs": [],
   "source": [
    "bagging = BaggingClassifier(estimator=rfc, n_estimators=100, max_samples=0.8, max_features=0.8)"
   ]
  },
  {
   "cell_type": "code",
   "execution_count": 35,
   "id": "4d85b6a8",
   "metadata": {
    "execution": {
     "iopub.execute_input": "2024-02-29T06:33:27.866042Z",
     "iopub.status.busy": "2024-02-29T06:33:27.864876Z",
     "iopub.status.idle": "2024-02-29T06:36:44.385178Z",
     "shell.execute_reply": "2024-02-29T06:36:44.383921Z"
    },
    "papermill": {
     "duration": 196.5611,
     "end_time": "2024-02-29T06:36:44.406608",
     "exception": false,
     "start_time": "2024-02-29T06:33:27.845508",
     "status": "completed"
    },
    "tags": []
   },
   "outputs": [
    {
     "data": {
      "text/html": [
       "<style>#sk-container-id-2 {color: black;background-color: white;}#sk-container-id-2 pre{padding: 0;}#sk-container-id-2 div.sk-toggleable {background-color: white;}#sk-container-id-2 label.sk-toggleable__label {cursor: pointer;display: block;width: 100%;margin-bottom: 0;padding: 0.3em;box-sizing: border-box;text-align: center;}#sk-container-id-2 label.sk-toggleable__label-arrow:before {content: \"▸\";float: left;margin-right: 0.25em;color: #696969;}#sk-container-id-2 label.sk-toggleable__label-arrow:hover:before {color: black;}#sk-container-id-2 div.sk-estimator:hover label.sk-toggleable__label-arrow:before {color: black;}#sk-container-id-2 div.sk-toggleable__content {max-height: 0;max-width: 0;overflow: hidden;text-align: left;background-color: #f0f8ff;}#sk-container-id-2 div.sk-toggleable__content pre {margin: 0.2em;color: black;border-radius: 0.25em;background-color: #f0f8ff;}#sk-container-id-2 input.sk-toggleable__control:checked~div.sk-toggleable__content {max-height: 200px;max-width: 100%;overflow: auto;}#sk-container-id-2 input.sk-toggleable__control:checked~label.sk-toggleable__label-arrow:before {content: \"▾\";}#sk-container-id-2 div.sk-estimator input.sk-toggleable__control:checked~label.sk-toggleable__label {background-color: #d4ebff;}#sk-container-id-2 div.sk-label input.sk-toggleable__control:checked~label.sk-toggleable__label {background-color: #d4ebff;}#sk-container-id-2 input.sk-hidden--visually {border: 0;clip: rect(1px 1px 1px 1px);clip: rect(1px, 1px, 1px, 1px);height: 1px;margin: -1px;overflow: hidden;padding: 0;position: absolute;width: 1px;}#sk-container-id-2 div.sk-estimator {font-family: monospace;background-color: #f0f8ff;border: 1px dotted black;border-radius: 0.25em;box-sizing: border-box;margin-bottom: 0.5em;}#sk-container-id-2 div.sk-estimator:hover {background-color: #d4ebff;}#sk-container-id-2 div.sk-parallel-item::after {content: \"\";width: 100%;border-bottom: 1px solid gray;flex-grow: 1;}#sk-container-id-2 div.sk-label:hover label.sk-toggleable__label {background-color: #d4ebff;}#sk-container-id-2 div.sk-serial::before {content: \"\";position: absolute;border-left: 1px solid gray;box-sizing: border-box;top: 0;bottom: 0;left: 50%;z-index: 0;}#sk-container-id-2 div.sk-serial {display: flex;flex-direction: column;align-items: center;background-color: white;padding-right: 0.2em;padding-left: 0.2em;position: relative;}#sk-container-id-2 div.sk-item {position: relative;z-index: 1;}#sk-container-id-2 div.sk-parallel {display: flex;align-items: stretch;justify-content: center;background-color: white;position: relative;}#sk-container-id-2 div.sk-item::before, #sk-container-id-2 div.sk-parallel-item::before {content: \"\";position: absolute;border-left: 1px solid gray;box-sizing: border-box;top: 0;bottom: 0;left: 50%;z-index: -1;}#sk-container-id-2 div.sk-parallel-item {display: flex;flex-direction: column;z-index: 1;position: relative;background-color: white;}#sk-container-id-2 div.sk-parallel-item:first-child::after {align-self: flex-end;width: 50%;}#sk-container-id-2 div.sk-parallel-item:last-child::after {align-self: flex-start;width: 50%;}#sk-container-id-2 div.sk-parallel-item:only-child::after {width: 0;}#sk-container-id-2 div.sk-dashed-wrapped {border: 1px dashed gray;margin: 0 0.4em 0.5em 0.4em;box-sizing: border-box;padding-bottom: 0.4em;background-color: white;}#sk-container-id-2 div.sk-label label {font-family: monospace;font-weight: bold;display: inline-block;line-height: 1.2em;}#sk-container-id-2 div.sk-label-container {text-align: center;}#sk-container-id-2 div.sk-container {/* jupyter's `normalize.less` sets `[hidden] { display: none; }` but bootstrap.min.css set `[hidden] { display: none !important; }` so we also need the `!important` here to be able to override the default hidden behavior on the sphinx rendered scikit-learn.org. See: https://github.com/scikit-learn/scikit-learn/issues/21755 */display: inline-block !important;position: relative;}#sk-container-id-2 div.sk-text-repr-fallback {display: none;}</style><div id=\"sk-container-id-2\" class=\"sk-top-container\"><div class=\"sk-text-repr-fallback\"><pre>BaggingClassifier(estimator=RandomForestClassifier(max_depth=5),\n",
       "                  max_features=0.8, max_samples=0.8, n_estimators=100)</pre><b>In a Jupyter environment, please rerun this cell to show the HTML representation or trust the notebook. <br />On GitHub, the HTML representation is unable to render, please try loading this page with nbviewer.org.</b></div><div class=\"sk-container\" hidden><div class=\"sk-item sk-dashed-wrapped\"><div class=\"sk-label-container\"><div class=\"sk-label sk-toggleable\"><input class=\"sk-toggleable__control sk-hidden--visually\" id=\"sk-estimator-id-4\" type=\"checkbox\" ><label for=\"sk-estimator-id-4\" class=\"sk-toggleable__label sk-toggleable__label-arrow\">BaggingClassifier</label><div class=\"sk-toggleable__content\"><pre>BaggingClassifier(estimator=RandomForestClassifier(max_depth=5),\n",
       "                  max_features=0.8, max_samples=0.8, n_estimators=100)</pre></div></div></div><div class=\"sk-parallel\"><div class=\"sk-parallel-item\"><div class=\"sk-item\"><div class=\"sk-label-container\"><div class=\"sk-label sk-toggleable\"><input class=\"sk-toggleable__control sk-hidden--visually\" id=\"sk-estimator-id-5\" type=\"checkbox\" ><label for=\"sk-estimator-id-5\" class=\"sk-toggleable__label sk-toggleable__label-arrow\">estimator: RandomForestClassifier</label><div class=\"sk-toggleable__content\"><pre>RandomForestClassifier(max_depth=5)</pre></div></div></div><div class=\"sk-serial\"><div class=\"sk-item\"><div class=\"sk-estimator sk-toggleable\"><input class=\"sk-toggleable__control sk-hidden--visually\" id=\"sk-estimator-id-6\" type=\"checkbox\" ><label for=\"sk-estimator-id-6\" class=\"sk-toggleable__label sk-toggleable__label-arrow\">RandomForestClassifier</label><div class=\"sk-toggleable__content\"><pre>RandomForestClassifier(max_depth=5)</pre></div></div></div></div></div></div></div></div></div></div>"
      ],
      "text/plain": [
       "BaggingClassifier(estimator=RandomForestClassifier(max_depth=5),\n",
       "                  max_features=0.8, max_samples=0.8, n_estimators=100)"
      ]
     },
     "execution_count": 35,
     "metadata": {},
     "output_type": "execute_result"
    }
   ],
   "source": [
    "bagging.fit(X_train, y_train)"
   ]
  },
  {
   "cell_type": "code",
   "execution_count": 36,
   "id": "c5cdf2a1",
   "metadata": {
    "execution": {
     "iopub.execute_input": "2024-02-29T06:36:44.445550Z",
     "iopub.status.busy": "2024-02-29T06:36:44.445142Z",
     "iopub.status.idle": "2024-02-29T06:36:55.461444Z",
     "shell.execute_reply": "2024-02-29T06:36:55.460281Z"
    },
    "papermill": {
     "duration": 11.039135,
     "end_time": "2024-02-29T06:36:55.464257",
     "exception": false,
     "start_time": "2024-02-29T06:36:44.425122",
     "status": "completed"
    },
    "tags": []
   },
   "outputs": [],
   "source": [
    "y_pred2 =bagging.predict(X_test)"
   ]
  },
  {
   "cell_type": "code",
   "execution_count": 37,
   "id": "c8ca6e4a",
   "metadata": {
    "execution": {
     "iopub.execute_input": "2024-02-29T06:36:55.503141Z",
     "iopub.status.busy": "2024-02-29T06:36:55.502710Z",
     "iopub.status.idle": "2024-02-29T06:36:55.546677Z",
     "shell.execute_reply": "2024-02-29T06:36:55.545322Z"
    },
    "papermill": {
     "duration": 0.066496,
     "end_time": "2024-02-29T06:36:55.549343",
     "exception": false,
     "start_time": "2024-02-29T06:36:55.482847",
     "status": "completed"
    },
    "tags": []
   },
   "outputs": [],
   "source": [
    "Accuracy2 = accuracy_score(y_test, y_pred2)\n",
    "recall2 = recall_score(y_test, y_pred2)\n",
    "precision2 = precision_score(y_test, y_pred2)\n",
    "f12 = f1_score(y_test, y_pred2)\n",
    "mcc2 = matthews_corrcoef(y_test, y_pred2)"
   ]
  },
  {
   "cell_type": "code",
   "execution_count": 38,
   "id": "de6ba7ce",
   "metadata": {
    "execution": {
     "iopub.execute_input": "2024-02-29T06:36:55.589050Z",
     "iopub.status.busy": "2024-02-29T06:36:55.587913Z",
     "iopub.status.idle": "2024-02-29T06:36:55.594599Z",
     "shell.execute_reply": "2024-02-29T06:36:55.593461Z"
    },
    "papermill": {
     "duration": 0.029051,
     "end_time": "2024-02-29T06:36:55.597266",
     "exception": false,
     "start_time": "2024-02-29T06:36:55.568215",
     "status": "completed"
    },
    "tags": []
   },
   "outputs": [
    {
     "name": "stdout",
     "output_type": "stream",
     "text": [
      "KDDCUP99 Dataset Bagging\n",
      "Accuracy: 99.97949769349052\n",
      "Recall: 99.89470913398263\n",
      "Precision: 100.0\n",
      "F1 Score: 99.94732683697657\n",
      "MCC Score: 99.93461990000935\n"
     ]
    }
   ],
   "source": [
    "print(\"KDDCUP99 Dataset Bagging\")\n",
    "print('Accuracy:', Accuracy2*100)\n",
    "print('Recall:', recall2*100)\n",
    "print('Precision:', precision2*100)\n",
    "print('F1 Score:', f12*100)\n",
    "print('MCC Score:', mcc2*100)"
   ]
  },
  {
   "cell_type": "code",
   "execution_count": 39,
   "id": "12c2a37b",
   "metadata": {
    "execution": {
     "iopub.execute_input": "2024-02-29T06:36:55.638517Z",
     "iopub.status.busy": "2024-02-29T06:36:55.637689Z",
     "iopub.status.idle": "2024-02-29T06:36:56.004201Z",
     "shell.execute_reply": "2024-02-29T06:36:56.003073Z"
    },
    "papermill": {
     "duration": 0.390399,
     "end_time": "2024-02-29T06:36:56.007242",
     "exception": false,
     "start_time": "2024-02-29T06:36:55.616843",
     "status": "completed"
    },
    "tags": []
   },
   "outputs": [
    {
     "name": "stderr",
     "output_type": "stream",
     "text": [
      "/opt/conda/lib/python3.10/site-packages/seaborn/_oldcore.py:1765: FutureWarning: unique with argument that is not not a Series, Index, ExtensionArray, or np.ndarray is deprecated and will raise in a future version.\n",
      "  order = pd.unique(vector)\n"
     ]
    },
    {
     "data": {
      "image/png": "[encoded data removed]",
      "text/plain": [
       "<Figure size 800x300 with 1 Axes>"
      ]
     },
     "metadata": {},
     "output_type": "display_data"
    }
   ],
   "source": [
    "labels = ['Accuracy', 'Recall', 'Precision', 'F1 score', 'MCC']\n",
    "scores = [Accuracy2,recall2, precision2,f12, mcc2]\n",
    "sns.set(style='whitegrid')\n",
    "sns.set_color_codes('pastel')\n",
    "palette = sns.color_palette('Set1')\n",
    "\n",
    "fig, ax = plt.subplots(figsize=(8, 3))\n",
    "sns.barplot(x=scores, y=labels, palette=palette)\n",
    "\n",
    "for i, v in enumerate(scores):\n",
    "    ax.text(v+0.01, i, f'{v*100:.2f}%', color='black', fontweight='bold')\n",
    "\n",
    "ax.set_xlim(0, 1)\n",
    "ax.set_xlabel('Score')\n",
    "ax.set_ylabel('Metric')\n",
    "ax.set_title('Model performance on KDDCUP99 Dataset Bagging')\n",
    "\n",
    "plt.show()"
   ]
  },
  {
   "cell_type": "code",
   "execution_count": 40,
   "id": "e0086121",
   "metadata": {
    "execution": {
     "iopub.execute_input": "2024-02-29T06:36:56.047813Z",
     "iopub.status.busy": "2024-02-29T06:36:56.047121Z",
     "iopub.status.idle": "2024-02-29T06:36:56.409811Z",
     "shell.execute_reply": "2024-02-29T06:36:56.408740Z"
    },
    "papermill": {
     "duration": 0.385957,
     "end_time": "2024-02-29T06:36:56.412420",
     "exception": false,
     "start_time": "2024-02-29T06:36:56.026463",
     "status": "completed"
    },
    "tags": []
   },
   "outputs": [
    {
     "data": {
      "image/png": "[encoded data removed]",
      "text/plain": [
       "<Figure size 800x600 with 2 Axes>"
      ]
     },
     "metadata": {},
     "output_type": "display_data"
    }
   ],
   "source": [
    "cm2 = confusion_matrix(y_test, y_pred2)\n",
    "plt.figure(figsize=(8,6))\n",
    "sns.heatmap(cm2, annot=True, cmap='Blues', fmt='g', \n",
    "            xticklabels=['BENIGN', 'DDos'], yticklabels=['BENIGN', 'DDos'])\n",
    "plt.xlabel('Predicted labels')\n",
    "plt.ylabel('True labels')\n",
    "plt.show()"
   ]
  }
 ],
 "metadata": {
  "kaggle": {
   "accelerator": "none",
   "dataSources": [
    {
     "datasetId": 4513490,
     "sourceId": 7725686,
     "sourceType": "datasetVersion"
    }
   ],
   "dockerImageVersionId": 30664,
   "isGpuEnabled": false,
   "isInternetEnabled": true,
   "language": "python",
   "sourceType": "notebook"
  },
  "kernelspec": {
   "display_name": "Python 3",
   "language": "python",
   "name": "python3"
  },
  "language_info": {
   "codemirror_mode": {
    "name": "ipython",
    "version": 3
   },
   "file_extension": ".py",
   "mimetype": "text/x-python",
   "name": "python",
   "nbconvert_exporter": "python",
   "pygments_lexer": "ipython3",
   "version": "3.10.13"
  },
  "papermill": {
   "default_parameters": {},
   "duration": 220.066154,
   "end_time": "2024-02-29T06:36:57.154348",
   "environment_variables": {},
   "exception": null,
   "input_path": "__notebook__.ipynb",
   "output_path": "__notebook__.ipynb",
   "parameters": {},
   "start_time": "2024-02-29T06:33:17.088194",
   "version": "2.5.0"
  }
 },
 "nbformat": 4,
 "nbformat_minor": 5
}
