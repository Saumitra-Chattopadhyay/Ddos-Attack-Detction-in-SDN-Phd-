{
 "cells": [
  {
   "cell_type": "code",
   "execution_count": 1,
   "id": "afe6969a",
   "metadata": {
    "execution": {
     "iopub.execute_input": "2024-02-29T05:39:50.605130Z",
     "iopub.status.busy": "2024-02-29T05:39:50.604436Z",
     "iopub.status.idle": "2024-02-29T05:39:54.015729Z",
     "shell.execute_reply": "2024-02-29T05:39:54.014764Z"
    },
    "papermill": {
     "duration": 3.428766,
     "end_time": "2024-02-29T05:39:54.018559",
     "exception": false,
     "start_time": "2024-02-29T05:39:50.589793",
     "status": "completed"
    },
    "tags": []
   },
   "outputs": [],
   "source": [
    "import pandas as pd\n",
    "import seaborn as sns\n",
    "import numpy as np\n",
    "import matplotlib.pyplot as plt\n",
    "from sklearn.ensemble import BaggingClassifier, GradientBoostingClassifier, AdaBoostClassifier, RandomForestClassifier\n",
    "from sklearn.tree import DecisionTreeClassifier\n",
    "from sklearn.metrics import precision_recall_curve, accuracy_score, recall_score, precision_score, f1_score,log_loss ,matthews_corrcoef, confusion_matrix, accuracy_score, log_loss, roc_curve, auc, precision_recall_curve\n",
    "from sklearn.model_selection import train_test_split\n",
    "from sklearn.preprocessing import LabelBinarizer,LabelEncoder, StandardScaler\n",
    "from sklearn.linear_model import LinearRegression\n",
    "from sklearn.decomposition import PCA\n",
    "from sklearn.impute import SimpleImputer\n",
    "import IPython.display as ipd\n",
    "import warnings\n",
    "%matplotlib inline"
   ]
  },
  {
   "cell_type": "code",
   "execution_count": 2,
   "id": "9e8f9798",
   "metadata": {
    "execution": {
     "iopub.execute_input": "2024-02-29T05:39:54.044831Z",
     "iopub.status.busy": "2024-02-29T05:39:54.044128Z",
     "iopub.status.idle": "2024-02-29T05:39:54.049725Z",
     "shell.execute_reply": "2024-02-29T05:39:54.048300Z"
    },
    "papermill": {
     "duration": 0.02191,
     "end_time": "2024-02-29T05:39:54.052417",
     "exception": false,
     "start_time": "2024-02-29T05:39:54.030507",
     "status": "completed"
    },
    "tags": []
   },
   "outputs": [],
   "source": [
    "path = \"/kaggle/input/nisha-ahuja-sdn/dataset_sdn.csv\""
   ]
  },
  {
   "cell_type": "code",
   "execution_count": 3,
   "id": "573796da",
   "metadata": {
    "execution": {
     "iopub.execute_input": "2024-02-29T05:39:54.078023Z",
     "iopub.status.busy": "2024-02-29T05:39:54.077553Z",
     "iopub.status.idle": "2024-02-29T05:39:54.729842Z",
     "shell.execute_reply": "2024-02-29T05:39:54.728556Z"
    },
    "papermill": {
     "duration": 0.668924,
     "end_time": "2024-02-29T05:39:54.733217",
     "exception": false,
     "start_time": "2024-02-29T05:39:54.064293",
     "status": "completed"
    },
    "tags": []
   },
   "outputs": [],
   "source": [
    "df = pd.read_csv(path)"
   ]
  },
  {
   "cell_type": "code",
   "execution_count": 4,
   "id": "326cc999",
   "metadata": {
    "execution": {
     "iopub.execute_input": "2024-02-29T05:39:54.760161Z",
     "iopub.status.busy": "2024-02-29T05:39:54.759053Z",
     "iopub.status.idle": "2024-02-29T05:39:54.801240Z",
     "shell.execute_reply": "2024-02-29T05:39:54.799775Z"
    },
    "papermill": {
     "duration": 0.059711,
     "end_time": "2024-02-29T05:39:54.805019",
     "exception": false,
     "start_time": "2024-02-29T05:39:54.745308",
     "status": "completed"
    },
    "tags": []
   },
   "outputs": [
    {
     "data": {
      "text/html": [
       "<div>\n",
       "<style scoped>\n",
       "    .dataframe tbody tr th:only-of-type {\n",
       "        vertical-align: middle;\n",
       "    }\n",
       "\n",
       "    .dataframe tbody tr th {\n",
       "        vertical-align: top;\n",
       "    }\n",
       "\n",
       "    .dataframe thead th {\n",
       "        text-align: right;\n",
       "    }\n",
       "</style>\n",
       "<table border=\"1\" class=\"dataframe\">\n",
       "  <thead>\n",
       "    <tr style=\"text-align: right;\">\n",
       "      <th></th>\n",
       "      <th>dt</th>\n",
       "      <th>switch</th>\n",
       "      <th>src</th>\n",
       "      <th>dst</th>\n",
       "      <th>pktcount</th>\n",
       "      <th>bytecount</th>\n",
       "      <th>dur</th>\n",
       "      <th>dur_nsec</th>\n",
       "      <th>tot_dur</th>\n",
       "      <th>flows</th>\n",
       "      <th>...</th>\n",
       "      <th>pktrate</th>\n",
       "      <th>Pairflow</th>\n",
       "      <th>Protocol</th>\n",
       "      <th>port_no</th>\n",
       "      <th>tx_bytes</th>\n",
       "      <th>rx_bytes</th>\n",
       "      <th>tx_kbps</th>\n",
       "      <th>rx_kbps</th>\n",
       "      <th>tot_kbps</th>\n",
       "      <th>label</th>\n",
       "    </tr>\n",
       "  </thead>\n",
       "  <tbody>\n",
       "    <tr>\n",
       "      <th>0</th>\n",
       "      <td>11425</td>\n",
       "      <td>1</td>\n",
       "      <td>10.0.0.1</td>\n",
       "      <td>10.0.0.8</td>\n",
       "      <td>45304</td>\n",
       "      <td>48294064</td>\n",
       "      <td>100</td>\n",
       "      <td>716000000</td>\n",
       "      <td>1.010000e+11</td>\n",
       "      <td>3</td>\n",
       "      <td>...</td>\n",
       "      <td>451</td>\n",
       "      <td>0</td>\n",
       "      <td>UDP</td>\n",
       "      <td>3</td>\n",
       "      <td>143928631</td>\n",
       "      <td>3917</td>\n",
       "      <td>0</td>\n",
       "      <td>0.0</td>\n",
       "      <td>0.0</td>\n",
       "      <td>0</td>\n",
       "    </tr>\n",
       "    <tr>\n",
       "      <th>1</th>\n",
       "      <td>11605</td>\n",
       "      <td>1</td>\n",
       "      <td>10.0.0.1</td>\n",
       "      <td>10.0.0.8</td>\n",
       "      <td>126395</td>\n",
       "      <td>134737070</td>\n",
       "      <td>280</td>\n",
       "      <td>734000000</td>\n",
       "      <td>2.810000e+11</td>\n",
       "      <td>2</td>\n",
       "      <td>...</td>\n",
       "      <td>451</td>\n",
       "      <td>0</td>\n",
       "      <td>UDP</td>\n",
       "      <td>4</td>\n",
       "      <td>3842</td>\n",
       "      <td>3520</td>\n",
       "      <td>0</td>\n",
       "      <td>0.0</td>\n",
       "      <td>0.0</td>\n",
       "      <td>0</td>\n",
       "    </tr>\n",
       "    <tr>\n",
       "      <th>2</th>\n",
       "      <td>11425</td>\n",
       "      <td>1</td>\n",
       "      <td>10.0.0.2</td>\n",
       "      <td>10.0.0.8</td>\n",
       "      <td>90333</td>\n",
       "      <td>96294978</td>\n",
       "      <td>200</td>\n",
       "      <td>744000000</td>\n",
       "      <td>2.010000e+11</td>\n",
       "      <td>3</td>\n",
       "      <td>...</td>\n",
       "      <td>451</td>\n",
       "      <td>0</td>\n",
       "      <td>UDP</td>\n",
       "      <td>1</td>\n",
       "      <td>3795</td>\n",
       "      <td>1242</td>\n",
       "      <td>0</td>\n",
       "      <td>0.0</td>\n",
       "      <td>0.0</td>\n",
       "      <td>0</td>\n",
       "    </tr>\n",
       "    <tr>\n",
       "      <th>3</th>\n",
       "      <td>11425</td>\n",
       "      <td>1</td>\n",
       "      <td>10.0.0.2</td>\n",
       "      <td>10.0.0.8</td>\n",
       "      <td>90333</td>\n",
       "      <td>96294978</td>\n",
       "      <td>200</td>\n",
       "      <td>744000000</td>\n",
       "      <td>2.010000e+11</td>\n",
       "      <td>3</td>\n",
       "      <td>...</td>\n",
       "      <td>451</td>\n",
       "      <td>0</td>\n",
       "      <td>UDP</td>\n",
       "      <td>2</td>\n",
       "      <td>3688</td>\n",
       "      <td>1492</td>\n",
       "      <td>0</td>\n",
       "      <td>0.0</td>\n",
       "      <td>0.0</td>\n",
       "      <td>0</td>\n",
       "    </tr>\n",
       "    <tr>\n",
       "      <th>4</th>\n",
       "      <td>11425</td>\n",
       "      <td>1</td>\n",
       "      <td>10.0.0.2</td>\n",
       "      <td>10.0.0.8</td>\n",
       "      <td>90333</td>\n",
       "      <td>96294978</td>\n",
       "      <td>200</td>\n",
       "      <td>744000000</td>\n",
       "      <td>2.010000e+11</td>\n",
       "      <td>3</td>\n",
       "      <td>...</td>\n",
       "      <td>451</td>\n",
       "      <td>0</td>\n",
       "      <td>UDP</td>\n",
       "      <td>3</td>\n",
       "      <td>3413</td>\n",
       "      <td>3665</td>\n",
       "      <td>0</td>\n",
       "      <td>0.0</td>\n",
       "      <td>0.0</td>\n",
       "      <td>0</td>\n",
       "    </tr>\n",
       "  </tbody>\n",
       "</table>\n",
       "<p>5 rows × 23 columns</p>\n",
       "</div>"
      ],
      "text/plain": [
       "      dt  switch       src       dst  pktcount  bytecount  dur   dur_nsec  \\\n",
       "0  11425       1  10.0.0.1  10.0.0.8     45304   48294064  100  716000000   \n",
       "1  11605       1  10.0.0.1  10.0.0.8    126395  134737070  280  734000000   \n",
       "2  11425       1  10.0.0.2  10.0.0.8     90333   96294978  200  744000000   \n",
       "3  11425       1  10.0.0.2  10.0.0.8     90333   96294978  200  744000000   \n",
       "4  11425       1  10.0.0.2  10.0.0.8     90333   96294978  200  744000000   \n",
       "\n",
       "        tot_dur  flows  ...  pktrate  Pairflow  Protocol  port_no   tx_bytes  \\\n",
       "0  1.010000e+11      3  ...      451         0       UDP        3  143928631   \n",
       "1  2.810000e+11      2  ...      451         0       UDP        4       3842   \n",
       "2  2.010000e+11      3  ...      451         0       UDP        1       3795   \n",
       "3  2.010000e+11      3  ...      451         0       UDP        2       3688   \n",
       "4  2.010000e+11      3  ...      451         0       UDP        3       3413   \n",
       "\n",
       "  rx_bytes  tx_kbps  rx_kbps  tot_kbps  label  \n",
       "0     3917        0      0.0       0.0      0  \n",
       "1     3520        0      0.0       0.0      0  \n",
       "2     1242        0      0.0       0.0      0  \n",
       "3     1492        0      0.0       0.0      0  \n",
       "4     3665        0      0.0       0.0      0  \n",
       "\n",
       "[5 rows x 23 columns]"
      ]
     },
     "execution_count": 4,
     "metadata": {},
     "output_type": "execute_result"
    }
   ],
   "source": [
    "df.head()"
   ]
  },
  {
   "cell_type": "code",
   "execution_count": 5,
   "id": "98aa7c5e",
   "metadata": {
    "execution": {
     "iopub.execute_input": "2024-02-29T05:39:54.831919Z",
     "iopub.status.busy": "2024-02-29T05:39:54.831410Z",
     "iopub.status.idle": "2024-02-29T05:39:54.899610Z",
     "shell.execute_reply": "2024-02-29T05:39:54.897626Z"
    },
    "papermill": {
     "duration": 0.08494,
     "end_time": "2024-02-29T05:39:54.902466",
     "exception": false,
     "start_time": "2024-02-29T05:39:54.817526",
     "status": "completed"
    },
    "tags": []
   },
   "outputs": [
    {
     "name": "stdout",
     "output_type": "stream",
     "text": [
      "<class 'pandas.core.frame.DataFrame'>\n",
      "RangeIndex: 104345 entries, 0 to 104344\n",
      "Data columns (total 23 columns):\n",
      " #   Column       Non-Null Count   Dtype  \n",
      "---  ------       --------------   -----  \n",
      " 0   dt           104345 non-null  int64  \n",
      " 1   switch       104345 non-null  int64  \n",
      " 2   src          104345 non-null  object \n",
      " 3   dst          104345 non-null  object \n",
      " 4   pktcount     104345 non-null  int64  \n",
      " 5   bytecount    104345 non-null  int64  \n",
      " 6   dur          104345 non-null  int64  \n",
      " 7   dur_nsec     104345 non-null  int64  \n",
      " 8   tot_dur      104345 non-null  float64\n",
      " 9   flows        104345 non-null  int64  \n",
      " 10  packetins    104345 non-null  int64  \n",
      " 11  pktperflow   104345 non-null  int64  \n",
      " 12  byteperflow  104345 non-null  int64  \n",
      " 13  pktrate      104345 non-null  int64  \n",
      " 14  Pairflow     104345 non-null  int64  \n",
      " 15  Protocol     104345 non-null  object \n",
      " 16  port_no      104345 non-null  int64  \n",
      " 17  tx_bytes     104345 non-null  int64  \n",
      " 18  rx_bytes     104345 non-null  int64  \n",
      " 19  tx_kbps      104345 non-null  int64  \n",
      " 20  rx_kbps      103839 non-null  float64\n",
      " 21  tot_kbps     103839 non-null  float64\n",
      " 22  label        104345 non-null  int64  \n",
      "dtypes: float64(3), int64(17), object(3)\n",
      "memory usage: 18.3+ MB\n"
     ]
    }
   ],
   "source": [
    "df.info()"
   ]
  },
  {
   "cell_type": "code",
   "execution_count": 6,
   "id": "82da72c2",
   "metadata": {
    "execution": {
     "iopub.execute_input": "2024-02-29T05:39:54.928968Z",
     "iopub.status.busy": "2024-02-29T05:39:54.928539Z",
     "iopub.status.idle": "2024-02-29T05:39:54.966762Z",
     "shell.execute_reply": "2024-02-29T05:39:54.965535Z"
    },
    "papermill": {
     "duration": 0.054967,
     "end_time": "2024-02-29T05:39:54.969746",
     "exception": false,
     "start_time": "2024-02-29T05:39:54.914779",
     "status": "completed"
    },
    "tags": []
   },
   "outputs": [],
   "source": [
    "label_encoder = LabelEncoder()\n",
    "label_encoder.fit(df['Protocol'])\n",
    "df['Protocol'] = label_encoder.transform(df['Protocol'])"
   ]
  },
  {
   "cell_type": "code",
   "execution_count": 7,
   "id": "a589c71e",
   "metadata": {
    "execution": {
     "iopub.execute_input": "2024-02-29T05:39:54.997938Z",
     "iopub.status.busy": "2024-02-29T05:39:54.997274Z",
     "iopub.status.idle": "2024-02-29T05:39:55.021477Z",
     "shell.execute_reply": "2024-02-29T05:39:55.020614Z"
    },
    "papermill": {
     "duration": 0.04128,
     "end_time": "2024-02-29T05:39:55.024297",
     "exception": false,
     "start_time": "2024-02-29T05:39:54.983017",
     "status": "completed"
    },
    "tags": []
   },
   "outputs": [
    {
     "data": {
      "text/html": [
       "<div>\n",
       "<style scoped>\n",
       "    .dataframe tbody tr th:only-of-type {\n",
       "        vertical-align: middle;\n",
       "    }\n",
       "\n",
       "    .dataframe tbody tr th {\n",
       "        vertical-align: top;\n",
       "    }\n",
       "\n",
       "    .dataframe thead th {\n",
       "        text-align: right;\n",
       "    }\n",
       "</style>\n",
       "<table border=\"1\" class=\"dataframe\">\n",
       "  <thead>\n",
       "    <tr style=\"text-align: right;\">\n",
       "      <th></th>\n",
       "      <th>dt</th>\n",
       "      <th>switch</th>\n",
       "      <th>src</th>\n",
       "      <th>dst</th>\n",
       "      <th>pktcount</th>\n",
       "      <th>bytecount</th>\n",
       "      <th>dur</th>\n",
       "      <th>dur_nsec</th>\n",
       "      <th>tot_dur</th>\n",
       "      <th>flows</th>\n",
       "      <th>...</th>\n",
       "      <th>pktrate</th>\n",
       "      <th>Pairflow</th>\n",
       "      <th>Protocol</th>\n",
       "      <th>port_no</th>\n",
       "      <th>tx_bytes</th>\n",
       "      <th>rx_bytes</th>\n",
       "      <th>tx_kbps</th>\n",
       "      <th>rx_kbps</th>\n",
       "      <th>tot_kbps</th>\n",
       "      <th>label</th>\n",
       "    </tr>\n",
       "  </thead>\n",
       "  <tbody>\n",
       "    <tr>\n",
       "      <th>0</th>\n",
       "      <td>11425</td>\n",
       "      <td>1</td>\n",
       "      <td>10.0.0.1</td>\n",
       "      <td>10.0.0.8</td>\n",
       "      <td>45304</td>\n",
       "      <td>48294064</td>\n",
       "      <td>100</td>\n",
       "      <td>716000000</td>\n",
       "      <td>1.010000e+11</td>\n",
       "      <td>3</td>\n",
       "      <td>...</td>\n",
       "      <td>451</td>\n",
       "      <td>0</td>\n",
       "      <td>2</td>\n",
       "      <td>3</td>\n",
       "      <td>143928631</td>\n",
       "      <td>3917</td>\n",
       "      <td>0</td>\n",
       "      <td>0.0</td>\n",
       "      <td>0.0</td>\n",
       "      <td>0</td>\n",
       "    </tr>\n",
       "    <tr>\n",
       "      <th>1</th>\n",
       "      <td>11605</td>\n",
       "      <td>1</td>\n",
       "      <td>10.0.0.1</td>\n",
       "      <td>10.0.0.8</td>\n",
       "      <td>126395</td>\n",
       "      <td>134737070</td>\n",
       "      <td>280</td>\n",
       "      <td>734000000</td>\n",
       "      <td>2.810000e+11</td>\n",
       "      <td>2</td>\n",
       "      <td>...</td>\n",
       "      <td>451</td>\n",
       "      <td>0</td>\n",
       "      <td>2</td>\n",
       "      <td>4</td>\n",
       "      <td>3842</td>\n",
       "      <td>3520</td>\n",
       "      <td>0</td>\n",
       "      <td>0.0</td>\n",
       "      <td>0.0</td>\n",
       "      <td>0</td>\n",
       "    </tr>\n",
       "    <tr>\n",
       "      <th>2</th>\n",
       "      <td>11425</td>\n",
       "      <td>1</td>\n",
       "      <td>10.0.0.2</td>\n",
       "      <td>10.0.0.8</td>\n",
       "      <td>90333</td>\n",
       "      <td>96294978</td>\n",
       "      <td>200</td>\n",
       "      <td>744000000</td>\n",
       "      <td>2.010000e+11</td>\n",
       "      <td>3</td>\n",
       "      <td>...</td>\n",
       "      <td>451</td>\n",
       "      <td>0</td>\n",
       "      <td>2</td>\n",
       "      <td>1</td>\n",
       "      <td>3795</td>\n",
       "      <td>1242</td>\n",
       "      <td>0</td>\n",
       "      <td>0.0</td>\n",
       "      <td>0.0</td>\n",
       "      <td>0</td>\n",
       "    </tr>\n",
       "    <tr>\n",
       "      <th>3</th>\n",
       "      <td>11425</td>\n",
       "      <td>1</td>\n",
       "      <td>10.0.0.2</td>\n",
       "      <td>10.0.0.8</td>\n",
       "      <td>90333</td>\n",
       "      <td>96294978</td>\n",
       "      <td>200</td>\n",
       "      <td>744000000</td>\n",
       "      <td>2.010000e+11</td>\n",
       "      <td>3</td>\n",
       "      <td>...</td>\n",
       "      <td>451</td>\n",
       "      <td>0</td>\n",
       "      <td>2</td>\n",
       "      <td>2</td>\n",
       "      <td>3688</td>\n",
       "      <td>1492</td>\n",
       "      <td>0</td>\n",
       "      <td>0.0</td>\n",
       "      <td>0.0</td>\n",
       "      <td>0</td>\n",
       "    </tr>\n",
       "    <tr>\n",
       "      <th>4</th>\n",
       "      <td>11425</td>\n",
       "      <td>1</td>\n",
       "      <td>10.0.0.2</td>\n",
       "      <td>10.0.0.8</td>\n",
       "      <td>90333</td>\n",
       "      <td>96294978</td>\n",
       "      <td>200</td>\n",
       "      <td>744000000</td>\n",
       "      <td>2.010000e+11</td>\n",
       "      <td>3</td>\n",
       "      <td>...</td>\n",
       "      <td>451</td>\n",
       "      <td>0</td>\n",
       "      <td>2</td>\n",
       "      <td>3</td>\n",
       "      <td>3413</td>\n",
       "      <td>3665</td>\n",
       "      <td>0</td>\n",
       "      <td>0.0</td>\n",
       "      <td>0.0</td>\n",
       "      <td>0</td>\n",
       "    </tr>\n",
       "  </tbody>\n",
       "</table>\n",
       "<p>5 rows × 23 columns</p>\n",
       "</div>"
      ],
      "text/plain": [
       "      dt  switch       src       dst  pktcount  bytecount  dur   dur_nsec  \\\n",
       "0  11425       1  10.0.0.1  10.0.0.8     45304   48294064  100  716000000   \n",
       "1  11605       1  10.0.0.1  10.0.0.8    126395  134737070  280  734000000   \n",
       "2  11425       1  10.0.0.2  10.0.0.8     90333   96294978  200  744000000   \n",
       "3  11425       1  10.0.0.2  10.0.0.8     90333   96294978  200  744000000   \n",
       "4  11425       1  10.0.0.2  10.0.0.8     90333   96294978  200  744000000   \n",
       "\n",
       "        tot_dur  flows  ...  pktrate  Pairflow  Protocol  port_no   tx_bytes  \\\n",
       "0  1.010000e+11      3  ...      451         0         2        3  143928631   \n",
       "1  2.810000e+11      2  ...      451         0         2        4       3842   \n",
       "2  2.010000e+11      3  ...      451         0         2        1       3795   \n",
       "3  2.010000e+11      3  ...      451         0         2        2       3688   \n",
       "4  2.010000e+11      3  ...      451         0         2        3       3413   \n",
       "\n",
       "   rx_bytes  tx_kbps  rx_kbps  tot_kbps  label  \n",
       "0      3917        0      0.0       0.0      0  \n",
       "1      3520        0      0.0       0.0      0  \n",
       "2      1242        0      0.0       0.0      0  \n",
       "3      1492        0      0.0       0.0      0  \n",
       "4      3665        0      0.0       0.0      0  \n",
       "\n",
       "[5 rows x 23 columns]"
      ]
     },
     "execution_count": 7,
     "metadata": {},
     "output_type": "execute_result"
    }
   ],
   "source": [
    "df.head()"
   ]
  },
  {
   "cell_type": "code",
   "execution_count": 8,
   "id": "b004a3ae",
   "metadata": {
    "execution": {
     "iopub.execute_input": "2024-02-29T05:39:55.054324Z",
     "iopub.status.busy": "2024-02-29T05:39:55.053696Z",
     "iopub.status.idle": "2024-02-29T05:39:55.065141Z",
     "shell.execute_reply": "2024-02-29T05:39:55.064130Z"
    },
    "papermill": {
     "duration": 0.029635,
     "end_time": "2024-02-29T05:39:55.068206",
     "exception": false,
     "start_time": "2024-02-29T05:39:55.038571",
     "status": "completed"
    },
    "tags": []
   },
   "outputs": [
    {
     "data": {
      "text/plain": [
       "label\n",
       "0    63561\n",
       "1    40784\n",
       "Name: count, dtype: int64"
      ]
     },
     "execution_count": 8,
     "metadata": {},
     "output_type": "execute_result"
    }
   ],
   "source": [
    "df['label'].value_counts()"
   ]
  },
  {
   "cell_type": "code",
   "execution_count": 9,
   "id": "8ec56e0c",
   "metadata": {
    "execution": {
     "iopub.execute_input": "2024-02-29T05:39:55.096252Z",
     "iopub.status.busy": "2024-02-29T05:39:55.095559Z",
     "iopub.status.idle": "2024-02-29T05:39:55.102371Z",
     "shell.execute_reply": "2024-02-29T05:39:55.101288Z"
    },
    "papermill": {
     "duration": 0.023352,
     "end_time": "2024-02-29T05:39:55.104591",
     "exception": false,
     "start_time": "2024-02-29T05:39:55.081239",
     "status": "completed"
    },
    "tags": []
   },
   "outputs": [
    {
     "data": {
      "text/plain": [
       "(104345, 23)"
      ]
     },
     "execution_count": 9,
     "metadata": {},
     "output_type": "execute_result"
    }
   ],
   "source": [
    "df.shape"
   ]
  },
  {
   "cell_type": "code",
   "execution_count": 10,
   "id": "1183a326",
   "metadata": {
    "execution": {
     "iopub.execute_input": "2024-02-29T05:39:55.132734Z",
     "iopub.status.busy": "2024-02-29T05:39:55.132098Z",
     "iopub.status.idle": "2024-02-29T05:39:55.139636Z",
     "shell.execute_reply": "2024-02-29T05:39:55.138159Z"
    },
    "papermill": {
     "duration": 0.025187,
     "end_time": "2024-02-29T05:39:55.142751",
     "exception": false,
     "start_time": "2024-02-29T05:39:55.117564",
     "status": "completed"
    },
    "tags": []
   },
   "outputs": [
    {
     "data": {
      "text/plain": [
       "Index(['dt', 'switch', 'src', 'dst', 'pktcount', 'bytecount', 'dur',\n",
       "       'dur_nsec', 'tot_dur', 'flows', 'packetins', 'pktperflow',\n",
       "       'byteperflow', 'pktrate', 'Pairflow', 'Protocol', 'port_no', 'tx_bytes',\n",
       "       'rx_bytes', 'tx_kbps', 'rx_kbps', 'tot_kbps', 'label'],\n",
       "      dtype='object')"
      ]
     },
     "execution_count": 10,
     "metadata": {},
     "output_type": "execute_result"
    }
   ],
   "source": [
    "df.keys()"
   ]
  },
  {
   "cell_type": "code",
   "execution_count": 11,
   "id": "0219cba4",
   "metadata": {
    "execution": {
     "iopub.execute_input": "2024-02-29T05:39:55.174713Z",
     "iopub.status.busy": "2024-02-29T05:39:55.174281Z",
     "iopub.status.idle": "2024-02-29T05:39:55.345387Z",
     "shell.execute_reply": "2024-02-29T05:39:55.343915Z"
    },
    "papermill": {
     "duration": 0.189556,
     "end_time": "2024-02-29T05:39:55.348476",
     "exception": false,
     "start_time": "2024-02-29T05:39:55.158920",
     "status": "completed"
    },
    "tags": []
   },
   "outputs": [
    {
     "data": {
      "text/html": [
       "<div>\n",
       "<style scoped>\n",
       "    .dataframe tbody tr th:only-of-type {\n",
       "        vertical-align: middle;\n",
       "    }\n",
       "\n",
       "    .dataframe tbody tr th {\n",
       "        vertical-align: top;\n",
       "    }\n",
       "\n",
       "    .dataframe thead th {\n",
       "        text-align: right;\n",
       "    }\n",
       "</style>\n",
       "<table border=\"1\" class=\"dataframe\">\n",
       "  <thead>\n",
       "    <tr style=\"text-align: right;\">\n",
       "      <th></th>\n",
       "      <th>dt</th>\n",
       "      <th>switch</th>\n",
       "      <th>pktcount</th>\n",
       "      <th>bytecount</th>\n",
       "      <th>dur</th>\n",
       "      <th>dur_nsec</th>\n",
       "      <th>tot_dur</th>\n",
       "      <th>flows</th>\n",
       "      <th>packetins</th>\n",
       "      <th>pktperflow</th>\n",
       "      <th>...</th>\n",
       "      <th>pktrate</th>\n",
       "      <th>Pairflow</th>\n",
       "      <th>Protocol</th>\n",
       "      <th>port_no</th>\n",
       "      <th>tx_bytes</th>\n",
       "      <th>rx_bytes</th>\n",
       "      <th>tx_kbps</th>\n",
       "      <th>rx_kbps</th>\n",
       "      <th>tot_kbps</th>\n",
       "      <th>label</th>\n",
       "    </tr>\n",
       "  </thead>\n",
       "  <tbody>\n",
       "    <tr>\n",
       "      <th>count</th>\n",
       "      <td>104345.000000</td>\n",
       "      <td>104345.000000</td>\n",
       "      <td>104345.000000</td>\n",
       "      <td>1.043450e+05</td>\n",
       "      <td>104345.000000</td>\n",
       "      <td>1.043450e+05</td>\n",
       "      <td>1.043450e+05</td>\n",
       "      <td>104345.000000</td>\n",
       "      <td>104345.000000</td>\n",
       "      <td>104345.000000</td>\n",
       "      <td>...</td>\n",
       "      <td>104345.000000</td>\n",
       "      <td>104345.000000</td>\n",
       "      <td>104345.000000</td>\n",
       "      <td>104345.000000</td>\n",
       "      <td>1.043450e+05</td>\n",
       "      <td>1.043450e+05</td>\n",
       "      <td>104345.000000</td>\n",
       "      <td>103839.000000</td>\n",
       "      <td>103839.000000</td>\n",
       "      <td>104345.000000</td>\n",
       "    </tr>\n",
       "    <tr>\n",
       "      <th>mean</th>\n",
       "      <td>17927.514169</td>\n",
       "      <td>4.214260</td>\n",
       "      <td>52860.954746</td>\n",
       "      <td>3.818660e+07</td>\n",
       "      <td>321.497398</td>\n",
       "      <td>4.613880e+08</td>\n",
       "      <td>3.218865e+11</td>\n",
       "      <td>5.654234</td>\n",
       "      <td>5200.383468</td>\n",
       "      <td>6381.715291</td>\n",
       "      <td>...</td>\n",
       "      <td>212.210676</td>\n",
       "      <td>0.600987</td>\n",
       "      <td>0.925890</td>\n",
       "      <td>2.331094</td>\n",
       "      <td>9.325264e+07</td>\n",
       "      <td>9.328039e+07</td>\n",
       "      <td>998.899756</td>\n",
       "      <td>1003.811420</td>\n",
       "      <td>2007.578742</td>\n",
       "      <td>0.390857</td>\n",
       "    </tr>\n",
       "    <tr>\n",
       "      <th>std</th>\n",
       "      <td>11977.642655</td>\n",
       "      <td>1.956327</td>\n",
       "      <td>52023.241460</td>\n",
       "      <td>4.877748e+07</td>\n",
       "      <td>283.518232</td>\n",
       "      <td>2.770019e+08</td>\n",
       "      <td>2.834029e+11</td>\n",
       "      <td>2.950036</td>\n",
       "      <td>5257.001450</td>\n",
       "      <td>7404.777808</td>\n",
       "      <td>...</td>\n",
       "      <td>246.855123</td>\n",
       "      <td>0.489698</td>\n",
       "      <td>0.844045</td>\n",
       "      <td>1.084333</td>\n",
       "      <td>1.519380e+08</td>\n",
       "      <td>1.330004e+08</td>\n",
       "      <td>2423.471618</td>\n",
       "      <td>2054.887034</td>\n",
       "      <td>3144.437173</td>\n",
       "      <td>0.487945</td>\n",
       "    </tr>\n",
       "    <tr>\n",
       "      <th>min</th>\n",
       "      <td>2488.000000</td>\n",
       "      <td>1.000000</td>\n",
       "      <td>0.000000</td>\n",
       "      <td>0.000000e+00</td>\n",
       "      <td>0.000000</td>\n",
       "      <td>0.000000e+00</td>\n",
       "      <td>0.000000e+00</td>\n",
       "      <td>2.000000</td>\n",
       "      <td>4.000000</td>\n",
       "      <td>-130933.000000</td>\n",
       "      <td>...</td>\n",
       "      <td>-4365.000000</td>\n",
       "      <td>0.000000</td>\n",
       "      <td>0.000000</td>\n",
       "      <td>1.000000</td>\n",
       "      <td>2.527000e+03</td>\n",
       "      <td>8.560000e+02</td>\n",
       "      <td>0.000000</td>\n",
       "      <td>0.000000</td>\n",
       "      <td>0.000000</td>\n",
       "      <td>0.000000</td>\n",
       "    </tr>\n",
       "    <tr>\n",
       "      <th>25%</th>\n",
       "      <td>7098.000000</td>\n",
       "      <td>3.000000</td>\n",
       "      <td>808.000000</td>\n",
       "      <td>7.957600e+04</td>\n",
       "      <td>127.000000</td>\n",
       "      <td>2.340000e+08</td>\n",
       "      <td>1.270000e+11</td>\n",
       "      <td>3.000000</td>\n",
       "      <td>1943.000000</td>\n",
       "      <td>29.000000</td>\n",
       "      <td>...</td>\n",
       "      <td>0.000000</td>\n",
       "      <td>0.000000</td>\n",
       "      <td>0.000000</td>\n",
       "      <td>1.000000</td>\n",
       "      <td>4.743000e+03</td>\n",
       "      <td>3.539000e+03</td>\n",
       "      <td>0.000000</td>\n",
       "      <td>0.000000</td>\n",
       "      <td>0.000000</td>\n",
       "      <td>0.000000</td>\n",
       "    </tr>\n",
       "    <tr>\n",
       "      <th>50%</th>\n",
       "      <td>11905.000000</td>\n",
       "      <td>4.000000</td>\n",
       "      <td>42828.000000</td>\n",
       "      <td>6.471930e+06</td>\n",
       "      <td>251.000000</td>\n",
       "      <td>4.180000e+08</td>\n",
       "      <td>2.520000e+11</td>\n",
       "      <td>5.000000</td>\n",
       "      <td>3024.000000</td>\n",
       "      <td>8305.000000</td>\n",
       "      <td>...</td>\n",
       "      <td>276.000000</td>\n",
       "      <td>1.000000</td>\n",
       "      <td>1.000000</td>\n",
       "      <td>2.000000</td>\n",
       "      <td>4.219610e+06</td>\n",
       "      <td>1.338339e+07</td>\n",
       "      <td>0.000000</td>\n",
       "      <td>0.000000</td>\n",
       "      <td>4.000000</td>\n",
       "      <td>0.000000</td>\n",
       "    </tr>\n",
       "    <tr>\n",
       "      <th>75%</th>\n",
       "      <td>29952.000000</td>\n",
       "      <td>5.000000</td>\n",
       "      <td>94796.000000</td>\n",
       "      <td>7.620354e+07</td>\n",
       "      <td>412.000000</td>\n",
       "      <td>7.030000e+08</td>\n",
       "      <td>4.130000e+11</td>\n",
       "      <td>7.000000</td>\n",
       "      <td>7462.000000</td>\n",
       "      <td>10017.000000</td>\n",
       "      <td>...</td>\n",
       "      <td>333.000000</td>\n",
       "      <td>1.000000</td>\n",
       "      <td>2.000000</td>\n",
       "      <td>3.000000</td>\n",
       "      <td>1.356398e+08</td>\n",
       "      <td>1.439277e+08</td>\n",
       "      <td>251.000000</td>\n",
       "      <td>557.000000</td>\n",
       "      <td>3838.000000</td>\n",
       "      <td>1.000000</td>\n",
       "    </tr>\n",
       "    <tr>\n",
       "      <th>max</th>\n",
       "      <td>42935.000000</td>\n",
       "      <td>10.000000</td>\n",
       "      <td>260006.000000</td>\n",
       "      <td>1.471280e+08</td>\n",
       "      <td>1881.000000</td>\n",
       "      <td>9.990000e+08</td>\n",
       "      <td>1.880000e+12</td>\n",
       "      <td>17.000000</td>\n",
       "      <td>25224.000000</td>\n",
       "      <td>19190.000000</td>\n",
       "      <td>...</td>\n",
       "      <td>639.000000</td>\n",
       "      <td>1.000000</td>\n",
       "      <td>2.000000</td>\n",
       "      <td>5.000000</td>\n",
       "      <td>1.269982e+09</td>\n",
       "      <td>9.905962e+08</td>\n",
       "      <td>20580.000000</td>\n",
       "      <td>16577.000000</td>\n",
       "      <td>20580.000000</td>\n",
       "      <td>1.000000</td>\n",
       "    </tr>\n",
       "  </tbody>\n",
       "</table>\n",
       "<p>8 rows × 21 columns</p>\n",
       "</div>"
      ],
      "text/plain": [
       "                  dt         switch       pktcount     bytecount  \\\n",
       "count  104345.000000  104345.000000  104345.000000  1.043450e+05   \n",
       "mean    17927.514169       4.214260   52860.954746  3.818660e+07   \n",
       "std     11977.642655       1.956327   52023.241460  4.877748e+07   \n",
       "min      2488.000000       1.000000       0.000000  0.000000e+00   \n",
       "25%      7098.000000       3.000000     808.000000  7.957600e+04   \n",
       "50%     11905.000000       4.000000   42828.000000  6.471930e+06   \n",
       "75%     29952.000000       5.000000   94796.000000  7.620354e+07   \n",
       "max     42935.000000      10.000000  260006.000000  1.471280e+08   \n",
       "\n",
       "                 dur      dur_nsec       tot_dur          flows  \\\n",
       "count  104345.000000  1.043450e+05  1.043450e+05  104345.000000   \n",
       "mean      321.497398  4.613880e+08  3.218865e+11       5.654234   \n",
       "std       283.518232  2.770019e+08  2.834029e+11       2.950036   \n",
       "min         0.000000  0.000000e+00  0.000000e+00       2.000000   \n",
       "25%       127.000000  2.340000e+08  1.270000e+11       3.000000   \n",
       "50%       251.000000  4.180000e+08  2.520000e+11       5.000000   \n",
       "75%       412.000000  7.030000e+08  4.130000e+11       7.000000   \n",
       "max      1881.000000  9.990000e+08  1.880000e+12      17.000000   \n",
       "\n",
       "           packetins     pktperflow  ...        pktrate       Pairflow  \\\n",
       "count  104345.000000  104345.000000  ...  104345.000000  104345.000000   \n",
       "mean     5200.383468    6381.715291  ...     212.210676       0.600987   \n",
       "std      5257.001450    7404.777808  ...     246.855123       0.489698   \n",
       "min         4.000000 -130933.000000  ...   -4365.000000       0.000000   \n",
       "25%      1943.000000      29.000000  ...       0.000000       0.000000   \n",
       "50%      3024.000000    8305.000000  ...     276.000000       1.000000   \n",
       "75%      7462.000000   10017.000000  ...     333.000000       1.000000   \n",
       "max     25224.000000   19190.000000  ...     639.000000       1.000000   \n",
       "\n",
       "            Protocol        port_no      tx_bytes      rx_bytes  \\\n",
       "count  104345.000000  104345.000000  1.043450e+05  1.043450e+05   \n",
       "mean        0.925890       2.331094  9.325264e+07  9.328039e+07   \n",
       "std         0.844045       1.084333  1.519380e+08  1.330004e+08   \n",
       "min         0.000000       1.000000  2.527000e+03  8.560000e+02   \n",
       "25%         0.000000       1.000000  4.743000e+03  3.539000e+03   \n",
       "50%         1.000000       2.000000  4.219610e+06  1.338339e+07   \n",
       "75%         2.000000       3.000000  1.356398e+08  1.439277e+08   \n",
       "max         2.000000       5.000000  1.269982e+09  9.905962e+08   \n",
       "\n",
       "             tx_kbps        rx_kbps       tot_kbps          label  \n",
       "count  104345.000000  103839.000000  103839.000000  104345.000000  \n",
       "mean      998.899756    1003.811420    2007.578742       0.390857  \n",
       "std      2423.471618    2054.887034    3144.437173       0.487945  \n",
       "min         0.000000       0.000000       0.000000       0.000000  \n",
       "25%         0.000000       0.000000       0.000000       0.000000  \n",
       "50%         0.000000       0.000000       4.000000       0.000000  \n",
       "75%       251.000000     557.000000    3838.000000       1.000000  \n",
       "max     20580.000000   16577.000000   20580.000000       1.000000  \n",
       "\n",
       "[8 rows x 21 columns]"
      ]
     },
     "execution_count": 11,
     "metadata": {},
     "output_type": "execute_result"
    }
   ],
   "source": [
    "df.describe()"
   ]
  },
  {
   "cell_type": "code",
   "execution_count": 12,
   "id": "d77a8cf3",
   "metadata": {
    "execution": {
     "iopub.execute_input": "2024-02-29T05:39:55.379217Z",
     "iopub.status.busy": "2024-02-29T05:39:55.378731Z",
     "iopub.status.idle": "2024-02-29T05:39:55.417027Z",
     "shell.execute_reply": "2024-02-29T05:39:55.415826Z"
    },
    "papermill": {
     "duration": 0.05711,
     "end_time": "2024-02-29T05:39:55.419866",
     "exception": false,
     "start_time": "2024-02-29T05:39:55.362756",
     "status": "completed"
    },
    "tags": []
   },
   "outputs": [
    {
     "data": {
      "text/plain": [
       "['rx_kbps', 'tot_kbps']"
      ]
     },
     "execution_count": 12,
     "metadata": {},
     "output_type": "execute_result"
    }
   ],
   "source": [
    "[features for features in df.columns if df[features].isnull().sum()>0]"
   ]
  },
  {
   "cell_type": "code",
   "execution_count": 13,
   "id": "fa3119f9",
   "metadata": {
    "execution": {
     "iopub.execute_input": "2024-02-29T05:39:55.450882Z",
     "iopub.status.busy": "2024-02-29T05:39:55.450447Z",
     "iopub.status.idle": "2024-02-29T05:39:55.489459Z",
     "shell.execute_reply": "2024-02-29T05:39:55.488292Z"
    },
    "papermill": {
     "duration": 0.058048,
     "end_time": "2024-02-29T05:39:55.492510",
     "exception": false,
     "start_time": "2024-02-29T05:39:55.434462",
     "status": "completed"
    },
    "tags": []
   },
   "outputs": [],
   "source": [
    "df.dropna(inplace = True)"
   ]
  },
  {
   "cell_type": "code",
   "execution_count": 14,
   "id": "fb2cba51",
   "metadata": {
    "execution": {
     "iopub.execute_input": "2024-02-29T05:39:55.523108Z",
     "iopub.status.busy": "2024-02-29T05:39:55.522652Z",
     "iopub.status.idle": "2024-02-29T05:39:55.818570Z",
     "shell.execute_reply": "2024-02-29T05:39:55.814244Z"
    },
    "papermill": {
     "duration": 0.31683,
     "end_time": "2024-02-29T05:39:55.823625",
     "exception": false,
     "start_time": "2024-02-29T05:39:55.506795",
     "status": "completed"
    },
    "tags": []
   },
   "outputs": [
    {
     "data": {
      "image/png": "[encoded data removed]",
      "text/plain": [
       "<Figure size 640x480 with 1 Axes>"
      ]
     },
     "metadata": {},
     "output_type": "display_data"
    }
   ],
   "source": [
    "sns.countplot(x='label', data=df)\n",
    "plt.show()"
   ]
  },
  {
   "cell_type": "markdown",
   "id": "bec29dc5",
   "metadata": {
    "papermill": {
     "duration": 0.018564,
     "end_time": "2024-02-29T05:39:55.863445",
     "exception": false,
     "start_time": "2024-02-29T05:39:55.844881",
     "status": "completed"
    },
    "tags": []
   },
   "source": [
    "## **Ensemble Machine Learning algorithm**"
   ]
  },
  {
   "cell_type": "code",
   "execution_count": 15,
   "id": "2047054e",
   "metadata": {
    "execution": {
     "iopub.execute_input": "2024-02-29T05:39:55.896931Z",
     "iopub.status.busy": "2024-02-29T05:39:55.895795Z",
     "iopub.status.idle": "2024-02-29T05:39:55.902802Z",
     "shell.execute_reply": "2024-02-29T05:39:55.901417Z"
    },
    "papermill": {
     "duration": 0.026934,
     "end_time": "2024-02-29T05:39:55.905626",
     "exception": false,
     "start_time": "2024-02-29T05:39:55.878692",
     "status": "completed"
    },
    "tags": []
   },
   "outputs": [],
   "source": [
    "predictorNames = ['dt', 'switch', 'pktcount', 'bytecount', 'dur',\n",
    "       'dur_nsec', 'tot_dur', 'flows', 'packetins', 'pktperflow',\n",
    "       'byteperflow', 'pktrate', 'Pairflow', 'Protocol', 'port_no', 'tx_bytes',\n",
    "       'rx_bytes', 'tx_kbps', 'rx_kbps', 'tot_kbps']"
   ]
  },
  {
   "cell_type": "code",
   "execution_count": 16,
   "id": "0f6a70f1",
   "metadata": {
    "execution": {
     "iopub.execute_input": "2024-02-29T05:39:55.937544Z",
     "iopub.status.busy": "2024-02-29T05:39:55.937028Z",
     "iopub.status.idle": "2024-02-29T05:39:55.965411Z",
     "shell.execute_reply": "2024-02-29T05:39:55.963653Z"
    },
    "papermill": {
     "duration": 0.051526,
     "end_time": "2024-02-29T05:39:55.972472",
     "exception": false,
     "start_time": "2024-02-29T05:39:55.920946",
     "status": "completed"
    },
    "tags": []
   },
   "outputs": [],
   "source": [
    "predictors = df[predictorNames]"
   ]
  },
  {
   "cell_type": "code",
   "execution_count": 17,
   "id": "e1ff1910",
   "metadata": {
    "execution": {
     "iopub.execute_input": "2024-02-29T05:39:56.009307Z",
     "iopub.status.busy": "2024-02-29T05:39:56.008788Z",
     "iopub.status.idle": "2024-02-29T05:39:56.015199Z",
     "shell.execute_reply": "2024-02-29T05:39:56.013512Z"
    },
    "papermill": {
     "duration": 0.028302,
     "end_time": "2024-02-29T05:39:56.018147",
     "exception": false,
     "start_time": "2024-02-29T05:39:55.989845",
     "status": "completed"
    },
    "tags": []
   },
   "outputs": [],
   "source": [
    "response = df['label']"
   ]
  },
  {
   "cell_type": "code",
   "execution_count": 18,
   "id": "c5fb53c5",
   "metadata": {
    "execution": {
     "iopub.execute_input": "2024-02-29T05:39:56.055135Z",
     "iopub.status.busy": "2024-02-29T05:39:56.054643Z",
     "iopub.status.idle": "2024-02-29T05:39:56.110959Z",
     "shell.execute_reply": "2024-02-29T05:39:56.109554Z"
    },
    "papermill": {
     "duration": 0.080088,
     "end_time": "2024-02-29T05:39:56.114152",
     "exception": false,
     "start_time": "2024-02-29T05:39:56.034064",
     "status": "completed"
    },
    "tags": []
   },
   "outputs": [],
   "source": [
    "X_train, X_test, y_train, y_test = train_test_split(predictors, response, test_size=0.2, random_state=42)"
   ]
  },
  {
   "cell_type": "markdown",
   "id": "cb7de27c",
   "metadata": {
    "papermill": {
     "duration": 0.014146,
     "end_time": "2024-02-29T05:39:56.143017",
     "exception": false,
     "start_time": "2024-02-29T05:39:56.128871",
     "status": "completed"
    },
    "tags": []
   },
   "source": [
    "# **Boasting (Adaboast Classifier) {1}** #"
   ]
  },
  {
   "cell_type": "code",
   "execution_count": 19,
   "id": "c8cf7174",
   "metadata": {
    "execution": {
     "iopub.execute_input": "2024-02-29T05:39:56.175706Z",
     "iopub.status.busy": "2024-02-29T05:39:56.174442Z",
     "iopub.status.idle": "2024-02-29T05:39:56.181209Z",
     "shell.execute_reply": "2024-02-29T05:39:56.179960Z"
    },
    "papermill": {
     "duration": 0.026274,
     "end_time": "2024-02-29T05:39:56.184108",
     "exception": false,
     "start_time": "2024-02-29T05:39:56.157834",
     "status": "completed"
    },
    "tags": []
   },
   "outputs": [],
   "source": [
    "template = DecisionTreeClassifier(max_depth=5)"
   ]
  },
  {
   "cell_type": "code",
   "execution_count": 20,
   "id": "b88de7b6",
   "metadata": {
    "execution": {
     "iopub.execute_input": "2024-02-29T05:39:56.216179Z",
     "iopub.status.busy": "2024-02-29T05:39:56.215675Z",
     "iopub.status.idle": "2024-02-29T05:39:56.221553Z",
     "shell.execute_reply": "2024-02-29T05:39:56.220158Z"
    },
    "papermill": {
     "duration": 0.025254,
     "end_time": "2024-02-29T05:39:56.224140",
     "exception": false,
     "start_time": "2024-02-29T05:39:56.198886",
     "status": "completed"
    },
    "tags": []
   },
   "outputs": [],
   "source": [
    "classificationEnsemble = AdaBoostClassifier(estimator=template,\n",
    "                                             n_estimators=100,\n",
    "                                             learning_rate=0.1)"
   ]
  },
  {
   "cell_type": "code",
   "execution_count": 21,
   "id": "c2957390",
   "metadata": {
    "execution": {
     "iopub.execute_input": "2024-02-29T05:39:56.255636Z",
     "iopub.status.busy": "2024-02-29T05:39:56.255223Z",
     "iopub.status.idle": "2024-02-29T05:40:57.336013Z",
     "shell.execute_reply": "2024-02-29T05:40:57.334811Z"
    },
    "papermill": {
     "duration": 61.115125,
     "end_time": "2024-02-29T05:40:57.353816",
     "exception": false,
     "start_time": "2024-02-29T05:39:56.238691",
     "status": "completed"
    },
    "tags": []
   },
   "outputs": [
    {
     "data": {
      "text/html": [
       "<style>#sk-container-id-1 {color: black;background-color: white;}#sk-container-id-1 pre{padding: 0;}#sk-container-id-1 div.sk-toggleable {background-color: white;}#sk-container-id-1 label.sk-toggleable__label {cursor: pointer;display: block;width: 100%;margin-bottom: 0;padding: 0.3em;box-sizing: border-box;text-align: center;}#sk-container-id-1 label.sk-toggleable__label-arrow:before {content: \"▸\";float: left;margin-right: 0.25em;color: #696969;}#sk-container-id-1 label.sk-toggleable__label-arrow:hover:before {color: black;}#sk-container-id-1 div.sk-estimator:hover label.sk-toggleable__label-arrow:before {color: black;}#sk-container-id-1 div.sk-toggleable__content {max-height: 0;max-width: 0;overflow: hidden;text-align: left;background-color: #f0f8ff;}#sk-container-id-1 div.sk-toggleable__content pre {margin: 0.2em;color: black;border-radius: 0.25em;background-color: #f0f8ff;}#sk-container-id-1 input.sk-toggleable__control:checked~div.sk-toggleable__content {max-height: 200px;max-width: 100%;overflow: auto;}#sk-container-id-1 input.sk-toggleable__control:checked~label.sk-toggleable__label-arrow:before {content: \"▾\";}#sk-container-id-1 div.sk-estimator input.sk-toggleable__control:checked~label.sk-toggleable__label {background-color: #d4ebff;}#sk-container-id-1 div.sk-label input.sk-toggleable__control:checked~label.sk-toggleable__label {background-color: #d4ebff;}#sk-container-id-1 input.sk-hidden--visually {border: 0;clip: rect(1px 1px 1px 1px);clip: rect(1px, 1px, 1px, 1px);height: 1px;margin: -1px;overflow: hidden;padding: 0;position: absolute;width: 1px;}#sk-container-id-1 div.sk-estimator {font-family: monospace;background-color: #f0f8ff;border: 1px dotted black;border-radius: 0.25em;box-sizing: border-box;margin-bottom: 0.5em;}#sk-container-id-1 div.sk-estimator:hover {background-color: #d4ebff;}#sk-container-id-1 div.sk-parallel-item::after {content: \"\";width: 100%;border-bottom: 1px solid gray;flex-grow: 1;}#sk-container-id-1 div.sk-label:hover label.sk-toggleable__label {background-color: #d4ebff;}#sk-container-id-1 div.sk-serial::before {content: \"\";position: absolute;border-left: 1px solid gray;box-sizing: border-box;top: 0;bottom: 0;left: 50%;z-index: 0;}#sk-container-id-1 div.sk-serial {display: flex;flex-direction: column;align-items: center;background-color: white;padding-right: 0.2em;padding-left: 0.2em;position: relative;}#sk-container-id-1 div.sk-item {position: relative;z-index: 1;}#sk-container-id-1 div.sk-parallel {display: flex;align-items: stretch;justify-content: center;background-color: white;position: relative;}#sk-container-id-1 div.sk-item::before, #sk-container-id-1 div.sk-parallel-item::before {content: \"\";position: absolute;border-left: 1px solid gray;box-sizing: border-box;top: 0;bottom: 0;left: 50%;z-index: -1;}#sk-container-id-1 div.sk-parallel-item {display: flex;flex-direction: column;z-index: 1;position: relative;background-color: white;}#sk-container-id-1 div.sk-parallel-item:first-child::after {align-self: flex-end;width: 50%;}#sk-container-id-1 div.sk-parallel-item:last-child::after {align-self: flex-start;width: 50%;}#sk-container-id-1 div.sk-parallel-item:only-child::after {width: 0;}#sk-container-id-1 div.sk-dashed-wrapped {border: 1px dashed gray;margin: 0 0.4em 0.5em 0.4em;box-sizing: border-box;padding-bottom: 0.4em;background-color: white;}#sk-container-id-1 div.sk-label label {font-family: monospace;font-weight: bold;display: inline-block;line-height: 1.2em;}#sk-container-id-1 div.sk-label-container {text-align: center;}#sk-container-id-1 div.sk-container {/* jupyter's `normalize.less` sets `[hidden] { display: none; }` but bootstrap.min.css set `[hidden] { display: none !important; }` so we also need the `!important` here to be able to override the default hidden behavior on the sphinx rendered scikit-learn.org. See: https://github.com/scikit-learn/scikit-learn/issues/21755 */display: inline-block !important;position: relative;}#sk-container-id-1 div.sk-text-repr-fallback {display: none;}</style><div id=\"sk-container-id-1\" class=\"sk-top-container\"><div class=\"sk-text-repr-fallback\"><pre>AdaBoostClassifier(estimator=DecisionTreeClassifier(max_depth=5),\n",
       "                   learning_rate=0.1, n_estimators=100)</pre><b>In a Jupyter environment, please rerun this cell to show the HTML representation or trust the notebook. <br />On GitHub, the HTML representation is unable to render, please try loading this page with nbviewer.org.</b></div><div class=\"sk-container\" hidden><div class=\"sk-item sk-dashed-wrapped\"><div class=\"sk-label-container\"><div class=\"sk-label sk-toggleable\"><input class=\"sk-toggleable__control sk-hidden--visually\" id=\"sk-estimator-id-1\" type=\"checkbox\" ><label for=\"sk-estimator-id-1\" class=\"sk-toggleable__label sk-toggleable__label-arrow\">AdaBoostClassifier</label><div class=\"sk-toggleable__content\"><pre>AdaBoostClassifier(estimator=DecisionTreeClassifier(max_depth=5),\n",
       "                   learning_rate=0.1, n_estimators=100)</pre></div></div></div><div class=\"sk-parallel\"><div class=\"sk-parallel-item\"><div class=\"sk-item\"><div class=\"sk-label-container\"><div class=\"sk-label sk-toggleable\"><input class=\"sk-toggleable__control sk-hidden--visually\" id=\"sk-estimator-id-2\" type=\"checkbox\" ><label for=\"sk-estimator-id-2\" class=\"sk-toggleable__label sk-toggleable__label-arrow\">estimator: DecisionTreeClassifier</label><div class=\"sk-toggleable__content\"><pre>DecisionTreeClassifier(max_depth=5)</pre></div></div></div><div class=\"sk-serial\"><div class=\"sk-item\"><div class=\"sk-estimator sk-toggleable\"><input class=\"sk-toggleable__control sk-hidden--visually\" id=\"sk-estimator-id-3\" type=\"checkbox\" ><label for=\"sk-estimator-id-3\" class=\"sk-toggleable__label sk-toggleable__label-arrow\">DecisionTreeClassifier</label><div class=\"sk-toggleable__content\"><pre>DecisionTreeClassifier(max_depth=5)</pre></div></div></div></div></div></div></div></div></div></div>"
      ],
      "text/plain": [
       "AdaBoostClassifier(estimator=DecisionTreeClassifier(max_depth=5),\n",
       "                   learning_rate=0.1, n_estimators=100)"
      ]
     },
     "execution_count": 21,
     "metadata": {},
     "output_type": "execute_result"
    }
   ],
   "source": [
    "classificationEnsemble.fit(X_train, y_train)"
   ]
  },
  {
   "cell_type": "code",
   "execution_count": 22,
   "id": "7a4a24ba",
   "metadata": {
    "execution": {
     "iopub.execute_input": "2024-02-29T05:40:57.386877Z",
     "iopub.status.busy": "2024-02-29T05:40:57.386418Z",
     "iopub.status.idle": "2024-02-29T05:40:57.760460Z",
     "shell.execute_reply": "2024-02-29T05:40:57.759100Z"
    },
    "papermill": {
     "duration": 0.394664,
     "end_time": "2024-02-29T05:40:57.763824",
     "exception": false,
     "start_time": "2024-02-29T05:40:57.369160",
     "status": "completed"
    },
    "tags": []
   },
   "outputs": [],
   "source": [
    "y_pred1 = classificationEnsemble.predict(X_test)"
   ]
  },
  {
   "cell_type": "code",
   "execution_count": 23,
   "id": "ea7da963",
   "metadata": {
    "execution": {
     "iopub.execute_input": "2024-02-29T05:40:57.796195Z",
     "iopub.status.busy": "2024-02-29T05:40:57.795704Z",
     "iopub.status.idle": "2024-02-29T05:40:57.848265Z",
     "shell.execute_reply": "2024-02-29T05:40:57.846889Z"
    },
    "papermill": {
     "duration": 0.072986,
     "end_time": "2024-02-29T05:40:57.851777",
     "exception": false,
     "start_time": "2024-02-29T05:40:57.778791",
     "status": "completed"
    },
    "tags": []
   },
   "outputs": [],
   "source": [
    "Accuracy1 = accuracy_score(y_test, y_pred1)\n",
    "recall1 = recall_score(y_test, y_pred1)\n",
    "precision1 = precision_score(y_test, y_pred1)\n",
    "f11 = f1_score(y_test, y_pred1)\n",
    "mcc1 = matthews_corrcoef(y_test, y_pred1)"
   ]
  },
  {
   "cell_type": "code",
   "execution_count": 24,
   "id": "c53f2ce4",
   "metadata": {
    "execution": {
     "iopub.execute_input": "2024-02-29T05:40:57.885383Z",
     "iopub.status.busy": "2024-02-29T05:40:57.884866Z",
     "iopub.status.idle": "2024-02-29T05:40:57.892186Z",
     "shell.execute_reply": "2024-02-29T05:40:57.890954Z"
    },
    "papermill": {
     "duration": 0.027746,
     "end_time": "2024-02-29T05:40:57.894789",
     "exception": false,
     "start_time": "2024-02-29T05:40:57.867043",
     "status": "completed"
    },
    "tags": []
   },
   "outputs": [
    {
     "name": "stdout",
     "output_type": "stream",
     "text": [
      "Nisha Ahuja Dataset Boasting\n",
      "Accuracy: 99.98555469953774\n",
      "Recall: 99.9877375843041\n",
      "Precision: 99.97547817557626\n",
      "F1 Score: 99.98160750413831\n",
      "MCC Score: 99.96971505028814\n"
     ]
    }
   ],
   "source": [
    "print(\"Nisha Ahuja Dataset Boasting\")\n",
    "print('Accuracy:', Accuracy1*100)\n",
    "print('Recall:', recall1*100)\n",
    "print('Precision:', precision1*100)\n",
    "print('F1 Score:', f11*100)\n",
    "print('MCC Score:', mcc1*100)"
   ]
  },
  {
   "cell_type": "code",
   "execution_count": 25,
   "id": "151f7b48",
   "metadata": {
    "execution": {
     "iopub.execute_input": "2024-02-29T05:40:57.926593Z",
     "iopub.status.busy": "2024-02-29T05:40:57.926150Z",
     "iopub.status.idle": "2024-02-29T05:40:58.323374Z",
     "shell.execute_reply": "2024-02-29T05:40:58.322091Z"
    },
    "papermill": {
     "duration": 0.416483,
     "end_time": "2024-02-29T05:40:58.326068",
     "exception": false,
     "start_time": "2024-02-29T05:40:57.909585",
     "status": "completed"
    },
    "tags": []
   },
   "outputs": [
    {
     "name": "stderr",
     "output_type": "stream",
     "text": [
      "/opt/conda/lib/python3.10/site-packages/seaborn/_oldcore.py:1765: FutureWarning: unique with argument that is not not a Series, Index, ExtensionArray, or np.ndarray is deprecated and will raise in a future version.\n",
      "  order = pd.unique(vector)\n"
     ]
    },
    {
     "data": {
      "image/png": "[encoded data removed]",
      "text/plain": [
       "<Figure size 800x300 with 1 Axes>"
      ]
     },
     "metadata": {},
     "output_type": "display_data"
    }
   ],
   "source": [
    "labels = ['Accuracy', 'Recall', 'Precision', 'F1 score', 'MCC']\n",
    "scores = [Accuracy1, recall1, precision1, f11,mcc1]  \n",
    "\n",
    "sns.set(style='whitegrid')\n",
    "sns.set_color_codes('pastel')\n",
    "palette = sns.color_palette('Set1')\n",
    "\n",
    "fig, ax = plt.subplots(figsize=(8, 3))\n",
    "sns.barplot(x=scores, y=labels, palette=palette)\n",
    "\n",
    "for i, v in enumerate(scores):\n",
    "    ax.text(v + 0.01, i, f'{v * 100:.2f}%', color='black', fontweight='bold')\n",
    "\n",
    "ax.set_xlim(0, 1)\n",
    "ax.set_xlabel('Score')\n",
    "ax.set_ylabel('Metric')\n",
    "ax.set_title(\"Model performance on Nisha Ahuja's Datasets Boasting\")\n",
    "\n",
    "plt.show()"
   ]
  },
  {
   "cell_type": "code",
   "execution_count": 26,
   "id": "a72a11fb",
   "metadata": {
    "execution": {
     "iopub.execute_input": "2024-02-29T05:40:58.360967Z",
     "iopub.status.busy": "2024-02-29T05:40:58.359481Z",
     "iopub.status.idle": "2024-02-29T05:40:58.716917Z",
     "shell.execute_reply": "2024-02-29T05:40:58.715635Z"
    },
    "papermill": {
     "duration": 0.377993,
     "end_time": "2024-02-29T05:40:58.719587",
     "exception": false,
     "start_time": "2024-02-29T05:40:58.341594",
     "status": "completed"
    },
    "tags": []
   },
   "outputs": [
    {
     "data": {
      "image/png": "[encoded data removed]",
      "text/plain": [
       "<Figure size 800x600 with 2 Axes>"
      ]
     },
     "metadata": {},
     "output_type": "display_data"
    }
   ],
   "source": [
    "cm = confusion_matrix(y_test, y_pred1)\n",
    "plt.figure(figsize=(8,6))\n",
    "sns.heatmap(cm, annot=True, cmap='Blues', fmt='g', \n",
    "            xticklabels=['BENIGN', 'DDos'], yticklabels=['BENIGN', 'DDos'])\n",
    "plt.xlabel('Predicted labels')\n",
    "plt.ylabel('True labels')\n",
    "plt.show()"
   ]
  },
  {
   "cell_type": "markdown",
   "id": "754be0d1",
   "metadata": {
    "papermill": {
     "duration": 0.016048,
     "end_time": "2024-02-29T05:40:58.751901",
     "exception": false,
     "start_time": "2024-02-29T05:40:58.735853",
     "status": "completed"
    },
    "tags": []
   },
   "source": [
    "# **Bagging** #"
   ]
  },
  {
   "cell_type": "code",
   "execution_count": 27,
   "id": "dbe0c52f",
   "metadata": {
    "execution": {
     "iopub.execute_input": "2024-02-29T05:40:58.786611Z",
     "iopub.status.busy": "2024-02-29T05:40:58.786175Z",
     "iopub.status.idle": "2024-02-29T05:40:58.792332Z",
     "shell.execute_reply": "2024-02-29T05:40:58.790928Z"
    },
    "papermill": {
     "duration": 0.026475,
     "end_time": "2024-02-29T05:40:58.794637",
     "exception": false,
     "start_time": "2024-02-29T05:40:58.768162",
     "status": "completed"
    },
    "tags": []
   },
   "outputs": [],
   "source": [
    "rfc = RandomForestClassifier(n_estimators=100, max_depth=5)"
   ]
  },
  {
   "cell_type": "code",
   "execution_count": 28,
   "id": "a3a376bf",
   "metadata": {
    "execution": {
     "iopub.execute_input": "2024-02-29T05:40:58.830578Z",
     "iopub.status.busy": "2024-02-29T05:40:58.829355Z",
     "iopub.status.idle": "2024-02-29T05:40:58.835801Z",
     "shell.execute_reply": "2024-02-29T05:40:58.834407Z"
    },
    "papermill": {
     "duration": 0.026778,
     "end_time": "2024-02-29T05:40:58.838254",
     "exception": false,
     "start_time": "2024-02-29T05:40:58.811476",
     "status": "completed"
    },
    "tags": []
   },
   "outputs": [],
   "source": [
    "bagging = BaggingClassifier(estimator=rfc, n_estimators=100, max_samples=0.8, max_features=0.8)"
   ]
  },
  {
   "cell_type": "code",
   "execution_count": 29,
   "id": "2b621999",
   "metadata": {
    "execution": {
     "iopub.execute_input": "2024-02-29T05:40:58.873597Z",
     "iopub.status.busy": "2024-02-29T05:40:58.872787Z",
     "iopub.status.idle": "2024-02-29T05:50:11.449837Z",
     "shell.execute_reply": "2024-02-29T05:50:11.448641Z"
    },
    "papermill": {
     "duration": 552.621356,
     "end_time": "2024-02-29T05:50:11.475743",
     "exception": false,
     "start_time": "2024-02-29T05:40:58.854387",
     "status": "completed"
    },
    "tags": []
   },
   "outputs": [
    {
     "data": {
      "text/html": [
       "<style>#sk-container-id-2 {color: black;background-color: white;}#sk-container-id-2 pre{padding: 0;}#sk-container-id-2 div.sk-toggleable {background-color: white;}#sk-container-id-2 label.sk-toggleable__label {cursor: pointer;display: block;width: 100%;margin-bottom: 0;padding: 0.3em;box-sizing: border-box;text-align: center;}#sk-container-id-2 label.sk-toggleable__label-arrow:before {content: \"▸\";float: left;margin-right: 0.25em;color: #696969;}#sk-container-id-2 label.sk-toggleable__label-arrow:hover:before {color: black;}#sk-container-id-2 div.sk-estimator:hover label.sk-toggleable__label-arrow:before {color: black;}#sk-container-id-2 div.sk-toggleable__content {max-height: 0;max-width: 0;overflow: hidden;text-align: left;background-color: #f0f8ff;}#sk-container-id-2 div.sk-toggleable__content pre {margin: 0.2em;color: black;border-radius: 0.25em;background-color: #f0f8ff;}#sk-container-id-2 input.sk-toggleable__control:checked~div.sk-toggleable__content {max-height: 200px;max-width: 100%;overflow: auto;}#sk-container-id-2 input.sk-toggleable__control:checked~label.sk-toggleable__label-arrow:before {content: \"▾\";}#sk-container-id-2 div.sk-estimator input.sk-toggleable__control:checked~label.sk-toggleable__label {background-color: #d4ebff;}#sk-container-id-2 div.sk-label input.sk-toggleable__control:checked~label.sk-toggleable__label {background-color: #d4ebff;}#sk-container-id-2 input.sk-hidden--visually {border: 0;clip: rect(1px 1px 1px 1px);clip: rect(1px, 1px, 1px, 1px);height: 1px;margin: -1px;overflow: hidden;padding: 0;position: absolute;width: 1px;}#sk-container-id-2 div.sk-estimator {font-family: monospace;background-color: #f0f8ff;border: 1px dotted black;border-radius: 0.25em;box-sizing: border-box;margin-bottom: 0.5em;}#sk-container-id-2 div.sk-estimator:hover {background-color: #d4ebff;}#sk-container-id-2 div.sk-parallel-item::after {content: \"\";width: 100%;border-bottom: 1px solid gray;flex-grow: 1;}#sk-container-id-2 div.sk-label:hover label.sk-toggleable__label {background-color: #d4ebff;}#sk-container-id-2 div.sk-serial::before {content: \"\";position: absolute;border-left: 1px solid gray;box-sizing: border-box;top: 0;bottom: 0;left: 50%;z-index: 0;}#sk-container-id-2 div.sk-serial {display: flex;flex-direction: column;align-items: center;background-color: white;padding-right: 0.2em;padding-left: 0.2em;position: relative;}#sk-container-id-2 div.sk-item {position: relative;z-index: 1;}#sk-container-id-2 div.sk-parallel {display: flex;align-items: stretch;justify-content: center;background-color: white;position: relative;}#sk-container-id-2 div.sk-item::before, #sk-container-id-2 div.sk-parallel-item::before {content: \"\";position: absolute;border-left: 1px solid gray;box-sizing: border-box;top: 0;bottom: 0;left: 50%;z-index: -1;}#sk-container-id-2 div.sk-parallel-item {display: flex;flex-direction: column;z-index: 1;position: relative;background-color: white;}#sk-container-id-2 div.sk-parallel-item:first-child::after {align-self: flex-end;width: 50%;}#sk-container-id-2 div.sk-parallel-item:last-child::after {align-self: flex-start;width: 50%;}#sk-container-id-2 div.sk-parallel-item:only-child::after {width: 0;}#sk-container-id-2 div.sk-dashed-wrapped {border: 1px dashed gray;margin: 0 0.4em 0.5em 0.4em;box-sizing: border-box;padding-bottom: 0.4em;background-color: white;}#sk-container-id-2 div.sk-label label {font-family: monospace;font-weight: bold;display: inline-block;line-height: 1.2em;}#sk-container-id-2 div.sk-label-container {text-align: center;}#sk-container-id-2 div.sk-container {/* jupyter's `normalize.less` sets `[hidden] { display: none; }` but bootstrap.min.css set `[hidden] { display: none !important; }` so we also need the `!important` here to be able to override the default hidden behavior on the sphinx rendered scikit-learn.org. See: https://github.com/scikit-learn/scikit-learn/issues/21755 */display: inline-block !important;position: relative;}#sk-container-id-2 div.sk-text-repr-fallback {display: none;}</style><div id=\"sk-container-id-2\" class=\"sk-top-container\"><div class=\"sk-text-repr-fallback\"><pre>BaggingClassifier(estimator=RandomForestClassifier(max_depth=5),\n",
       "                  max_features=0.8, max_samples=0.8, n_estimators=100)</pre><b>In a Jupyter environment, please rerun this cell to show the HTML representation or trust the notebook. <br />On GitHub, the HTML representation is unable to render, please try loading this page with nbviewer.org.</b></div><div class=\"sk-container\" hidden><div class=\"sk-item sk-dashed-wrapped\"><div class=\"sk-label-container\"><div class=\"sk-label sk-toggleable\"><input class=\"sk-toggleable__control sk-hidden--visually\" id=\"sk-estimator-id-4\" type=\"checkbox\" ><label for=\"sk-estimator-id-4\" class=\"sk-toggleable__label sk-toggleable__label-arrow\">BaggingClassifier</label><div class=\"sk-toggleable__content\"><pre>BaggingClassifier(estimator=RandomForestClassifier(max_depth=5),\n",
       "                  max_features=0.8, max_samples=0.8, n_estimators=100)</pre></div></div></div><div class=\"sk-parallel\"><div class=\"sk-parallel-item\"><div class=\"sk-item\"><div class=\"sk-label-container\"><div class=\"sk-label sk-toggleable\"><input class=\"sk-toggleable__control sk-hidden--visually\" id=\"sk-estimator-id-5\" type=\"checkbox\" ><label for=\"sk-estimator-id-5\" class=\"sk-toggleable__label sk-toggleable__label-arrow\">estimator: RandomForestClassifier</label><div class=\"sk-toggleable__content\"><pre>RandomForestClassifier(max_depth=5)</pre></div></div></div><div class=\"sk-serial\"><div class=\"sk-item\"><div class=\"sk-estimator sk-toggleable\"><input class=\"sk-toggleable__control sk-hidden--visually\" id=\"sk-estimator-id-6\" type=\"checkbox\" ><label for=\"sk-estimator-id-6\" class=\"sk-toggleable__label sk-toggleable__label-arrow\">RandomForestClassifier</label><div class=\"sk-toggleable__content\"><pre>RandomForestClassifier(max_depth=5)</pre></div></div></div></div></div></div></div></div></div></div>"
      ],
      "text/plain": [
       "BaggingClassifier(estimator=RandomForestClassifier(max_depth=5),\n",
       "                  max_features=0.8, max_samples=0.8, n_estimators=100)"
      ]
     },
     "execution_count": 29,
     "metadata": {},
     "output_type": "execute_result"
    }
   ],
   "source": [
    "bagging.fit(X_train, y_train)"
   ]
  },
  {
   "cell_type": "code",
   "execution_count": 30,
   "id": "ef607655",
   "metadata": {
    "execution": {
     "iopub.execute_input": "2024-02-29T05:50:11.512987Z",
     "iopub.status.busy": "2024-02-29T05:50:11.511395Z",
     "iopub.status.idle": "2024-02-29T05:50:26.979288Z",
     "shell.execute_reply": "2024-02-29T05:50:26.977877Z"
    },
    "papermill": {
     "duration": 15.489393,
     "end_time": "2024-02-29T05:50:26.982243",
     "exception": false,
     "start_time": "2024-02-29T05:50:11.492850",
     "status": "completed"
    },
    "tags": []
   },
   "outputs": [],
   "source": [
    "y_pred2 = bagging.predict(X_test)"
   ]
  },
  {
   "cell_type": "code",
   "execution_count": 31,
   "id": "53362066",
   "metadata": {
    "execution": {
     "iopub.execute_input": "2024-02-29T05:50:27.017936Z",
     "iopub.status.busy": "2024-02-29T05:50:27.016476Z",
     "iopub.status.idle": "2024-02-29T05:50:27.067526Z",
     "shell.execute_reply": "2024-02-29T05:50:27.066426Z"
    },
    "papermill": {
     "duration": 0.071869,
     "end_time": "2024-02-29T05:50:27.070579",
     "exception": false,
     "start_time": "2024-02-29T05:50:26.998710",
     "status": "completed"
    },
    "tags": []
   },
   "outputs": [],
   "source": [
    "Accuracy2 = accuracy_score(y_test, y_pred2)\n",
    "recall2 = recall_score(y_test, y_pred2)\n",
    "precision2 = precision_score(y_test, y_pred2)\n",
    "f12 = f1_score(y_test, y_pred2)\n",
    "mcc2 = matthews_corrcoef(y_test, y_pred2)"
   ]
  },
  {
   "cell_type": "code",
   "execution_count": 32,
   "id": "b8dc63b7",
   "metadata": {
    "execution": {
     "iopub.execute_input": "2024-02-29T05:50:27.105205Z",
     "iopub.status.busy": "2024-02-29T05:50:27.104410Z",
     "iopub.status.idle": "2024-02-29T05:50:27.112054Z",
     "shell.execute_reply": "2024-02-29T05:50:27.110789Z"
    },
    "papermill": {
     "duration": 0.028069,
     "end_time": "2024-02-29T05:50:27.114786",
     "exception": false,
     "start_time": "2024-02-29T05:50:27.086717",
     "status": "completed"
    },
    "tags": []
   },
   "outputs": [
    {
     "name": "stdout",
     "output_type": "stream",
     "text": [
      "Nisha Ahuja Dataset Bagging\n",
      "Accuracy: 97.53948382126349\n",
      "Recall: 99.77927651747395\n",
      "Precision: 94.28736964078794\n",
      "F1 Score: 96.95561513255882\n",
      "MCC Score: 95.00089803967134\n"
     ]
    }
   ],
   "source": [
    "print(\"Nisha Ahuja Dataset Bagging\")\n",
    "print('Accuracy:', Accuracy2*100)\n",
    "print('Recall:', recall2*100)\n",
    "print('Precision:', precision2*100)\n",
    "print('F1 Score:', f12*100)\n",
    "print('MCC Score:', mcc2*100)"
   ]
  },
  {
   "cell_type": "code",
   "execution_count": 33,
   "id": "48ca7bc7",
   "metadata": {
    "execution": {
     "iopub.execute_input": "2024-02-29T05:50:27.150581Z",
     "iopub.status.busy": "2024-02-29T05:50:27.150137Z",
     "iopub.status.idle": "2024-02-29T05:50:27.537191Z",
     "shell.execute_reply": "2024-02-29T05:50:27.535795Z"
    },
    "papermill": {
     "duration": 0.407926,
     "end_time": "2024-02-29T05:50:27.540120",
     "exception": false,
     "start_time": "2024-02-29T05:50:27.132194",
     "status": "completed"
    },
    "tags": []
   },
   "outputs": [
    {
     "name": "stderr",
     "output_type": "stream",
     "text": [
      "/opt/conda/lib/python3.10/site-packages/seaborn/_oldcore.py:1765: FutureWarning: unique with argument that is not not a Series, Index, ExtensionArray, or np.ndarray is deprecated and will raise in a future version.\n",
      "  order = pd.unique(vector)\n"
     ]
    },
    {
     "data": {
      "image/png": "[encoded data removed]",
      "text/plain": [
       "<Figure size 800x300 with 1 Axes>"
      ]
     },
     "metadata": {},
     "output_type": "display_data"
    }
   ],
   "source": [
    "labels = ['Accuracy', 'Recall', 'Precision', 'F1 score', 'MCC']\n",
    "scores = [Accuracy2, recall2, precision2, f12,mcc2]  \n",
    "\n",
    "sns.set(style='whitegrid')\n",
    "sns.set_color_codes('pastel')\n",
    "palette = sns.color_palette('Set1')\n",
    "\n",
    "fig, ax = plt.subplots(figsize=(8, 3))\n",
    "sns.barplot(x=scores, y=labels, palette=palette)\n",
    "\n",
    "for i, v in enumerate(scores):\n",
    "    ax.text(v + 0.01, i, f'{v * 100:.2f}%', color='black', fontweight='bold')\n",
    "\n",
    "ax.set_xlim(0, 1)\n",
    "ax.set_xlabel('Score')\n",
    "ax.set_ylabel('Metric')\n",
    "ax.set_title(\"Model performance on Nisha Ahuja's Datasets Bagging\")\n",
    "\n",
    "plt.show()\n"
   ]
  },
  {
   "cell_type": "code",
   "execution_count": 34,
   "id": "23ff4286",
   "metadata": {
    "execution": {
     "iopub.execute_input": "2024-02-29T05:50:27.677056Z",
     "iopub.status.busy": "2024-02-29T05:50:27.676594Z",
     "iopub.status.idle": "2024-02-29T05:50:28.045245Z",
     "shell.execute_reply": "2024-02-29T05:50:28.043947Z"
    },
    "papermill": {
     "duration": 0.390922,
     "end_time": "2024-02-29T05:50:28.048209",
     "exception": false,
     "start_time": "2024-02-29T05:50:27.657287",
     "status": "completed"
    },
    "tags": []
   },
   "outputs": [
    {
     "data": {
      "image/png": "[encoded data removed]",
      "text/plain": [
       "<Figure size 800x600 with 2 Axes>"
      ]
     },
     "metadata": {},
     "output_type": "display_data"
    }
   ],
   "source": [
    "cm = confusion_matrix(y_test, y_pred2)\n",
    "plt.figure(figsize=(8,6))\n",
    "sns.heatmap(cm, annot=True, cmap='Blues', fmt='g', \n",
    "            xticklabels=['BENIGN', 'DDos'], yticklabels=['BENIGN', 'DDos'])\n",
    "plt.xlabel('Predicted labels')\n",
    "plt.ylabel('True labels')\n",
    "plt.show()"
   ]
  }
 ],
 "metadata": {
  "kaggle": {
   "accelerator": "none",
   "dataSources": [
    {
     "datasetId": 3648694,
     "sourceId": 6337932,
     "sourceType": "datasetVersion"
    }
   ],
   "dockerImageVersionId": 30664,
   "isGpuEnabled": false,
   "isInternetEnabled": true,
   "language": "python",
   "sourceType": "notebook"
  },
  "kernelspec": {
   "display_name": "Python 3",
   "language": "python",
   "name": "python3"
  },
  "language_info": {
   "codemirror_mode": {
    "name": "ipython",
    "version": 3
   },
   "file_extension": ".py",
   "mimetype": "text/x-python",
   "name": "python",
   "nbconvert_exporter": "python",
   "pygments_lexer": "ipython3",
   "version": "3.10.13"
  },
  "papermill": {
   "default_parameters": {},
   "duration": 641.551656,
   "end_time": "2024-02-29T05:50:28.792991",
   "environment_variables": {},
   "exception": null,
   "input_path": "__notebook__.ipynb",
   "output_path": "__notebook__.ipynb",
   "parameters": {},
   "start_time": "2024-02-29T05:39:47.241335",
   "version": "2.5.0"
  }
 },
 "nbformat": 4,
 "nbformat_minor": 5
}
