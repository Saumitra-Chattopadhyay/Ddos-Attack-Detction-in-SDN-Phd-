{
 "cells": [
  {
   "cell_type": "code",
   "execution_count": 1,
   "id": "2efe70dc",
   "metadata": {
    "execution": {
     "iopub.execute_input": "2024-02-29T07:56:16.495858Z",
     "iopub.status.busy": "2024-02-29T07:56:16.495354Z",
     "iopub.status.idle": "2024-02-29T07:56:20.114487Z",
     "shell.execute_reply": "2024-02-29T07:56:20.113019Z"
    },
    "papermill": {
     "duration": 3.638949,
     "end_time": "2024-02-29T07:56:20.117536",
     "exception": false,
     "start_time": "2024-02-29T07:56:16.478587",
     "status": "completed"
    },
    "tags": []
   },
   "outputs": [],
   "source": [
    "import pandas as pd\n",
    "import seaborn as sns\n",
    "from scipy.io import arff\n",
    "import numpy as np\n",
    "import matplotlib.pyplot as plt\n",
    "from sklearn.ensemble import BaggingClassifier, GradientBoostingClassifier, AdaBoostClassifier, RandomForestClassifier\n",
    "from sklearn.tree import DecisionTreeClassifier\n",
    "from sklearn.metrics import precision_recall_curve, accuracy_score, recall_score, precision_score, f1_score,log_loss ,matthews_corrcoef, confusion_matrix, accuracy_score, log_loss, roc_curve, auc, precision_recall_curve\n",
    "from sklearn.model_selection import train_test_split\n",
    "from sklearn.preprocessing import LabelBinarizer,LabelEncoder, StandardScaler\n",
    "from sklearn.linear_model import LinearRegression\n",
    "from sklearn.decomposition import PCA\n",
    "from sklearn.impute import SimpleImputer\n",
    "import IPython.display as ipd\n",
    "import warnings\n",
    "%matplotlib inline\n",
    "pd.set_option('display.max_columns', None)"
   ]
  },
  {
   "cell_type": "code",
   "execution_count": 2,
   "id": "64fe47cb",
   "metadata": {
    "execution": {
     "iopub.execute_input": "2024-02-29T07:56:20.149273Z",
     "iopub.status.busy": "2024-02-29T07:56:20.148268Z",
     "iopub.status.idle": "2024-02-29T07:57:40.009927Z",
     "shell.execute_reply": "2024-02-29T07:57:40.006823Z"
    },
    "papermill": {
     "duration": 79.884073,
     "end_time": "2024-02-29T07:57:40.016934",
     "exception": false,
     "start_time": "2024-02-29T07:56:20.132861",
     "status": "completed"
    },
    "tags": []
   },
   "outputs": [],
   "source": [
    "data, meta = arff.loadarff(\"/kaggle/input/mhd-ahmed-dataset/final dataset.arff\")"
   ]
  },
  {
   "cell_type": "code",
   "execution_count": 3,
   "id": "24338b16",
   "metadata": {
    "execution": {
     "iopub.execute_input": "2024-02-29T07:57:40.053607Z",
     "iopub.status.busy": "2024-02-29T07:57:40.053118Z",
     "iopub.status.idle": "2024-02-29T07:57:43.471365Z",
     "shell.execute_reply": "2024-02-29T07:57:43.469560Z"
    },
    "papermill": {
     "duration": 3.439726,
     "end_time": "2024-02-29T07:57:43.474868",
     "exception": false,
     "start_time": "2024-02-29T07:57:40.035142",
     "status": "completed"
    },
    "tags": []
   },
   "outputs": [],
   "source": [
    "df = pd.DataFrame(data)"
   ]
  },
  {
   "cell_type": "code",
   "execution_count": 4,
   "id": "3b929806",
   "metadata": {
    "execution": {
     "iopub.execute_input": "2024-02-29T07:57:43.511409Z",
     "iopub.status.busy": "2024-02-29T07:57:43.510982Z",
     "iopub.status.idle": "2024-02-29T07:57:43.572622Z",
     "shell.execute_reply": "2024-02-29T07:57:43.571246Z"
    },
    "papermill": {
     "duration": 0.087575,
     "end_time": "2024-02-29T07:57:43.575539",
     "exception": false,
     "start_time": "2024-02-29T07:57:43.487964",
     "status": "completed"
    },
    "tags": []
   },
   "outputs": [
    {
     "data": {
      "text/html": [
       "<div>\n",
       "<style scoped>\n",
       "    .dataframe tbody tr th:only-of-type {\n",
       "        vertical-align: middle;\n",
       "    }\n",
       "\n",
       "    .dataframe tbody tr th {\n",
       "        vertical-align: top;\n",
       "    }\n",
       "\n",
       "    .dataframe thead th {\n",
       "        text-align: right;\n",
       "    }\n",
       "</style>\n",
       "<table border=\"1\" class=\"dataframe\">\n",
       "  <thead>\n",
       "    <tr style=\"text-align: right;\">\n",
       "      <th></th>\n",
       "      <th>SRC_ADD</th>\n",
       "      <th>DES_ADD</th>\n",
       "      <th>PKT_ID</th>\n",
       "      <th>FROM_NODE</th>\n",
       "      <th>TO_NODE</th>\n",
       "      <th>PKT_TYPE</th>\n",
       "      <th>PKT_SIZE</th>\n",
       "      <th>FLAGS</th>\n",
       "      <th>FID</th>\n",
       "      <th>SEQ_NUMBER</th>\n",
       "      <th>NUMBER_OF_PKT</th>\n",
       "      <th>NUMBER_OF_BYTE</th>\n",
       "      <th>NODE_NAME_FROM</th>\n",
       "      <th>NODE_NAME_TO</th>\n",
       "      <th>PKT_IN</th>\n",
       "      <th>PKT_OUT</th>\n",
       "      <th>PKT_R</th>\n",
       "      <th>PKT_DELAY_NODE</th>\n",
       "      <th>PKT_RATE</th>\n",
       "      <th>BYTE_RATE</th>\n",
       "      <th>PKT_AVG_SIZE</th>\n",
       "      <th>UTILIZATION</th>\n",
       "      <th>PKT_DELAY</th>\n",
       "      <th>PKT_SEND_TIME</th>\n",
       "      <th>PKT_RESEVED_TIME</th>\n",
       "      <th>FIRST_PKT_SENT</th>\n",
       "      <th>LAST_PKT_RESEVED</th>\n",
       "      <th>PKT_CLASS</th>\n",
       "    </tr>\n",
       "  </thead>\n",
       "  <tbody>\n",
       "    <tr>\n",
       "      <th>0</th>\n",
       "      <td>3.00</td>\n",
       "      <td>24.30</td>\n",
       "      <td>389693.0</td>\n",
       "      <td>21.0</td>\n",
       "      <td>23.0</td>\n",
       "      <td>b'tcp'</td>\n",
       "      <td>1540.0</td>\n",
       "      <td>b'-------'</td>\n",
       "      <td>4.0</td>\n",
       "      <td>11339.0</td>\n",
       "      <td>16091.0</td>\n",
       "      <td>24780100.0</td>\n",
       "      <td>b'Switch1'</td>\n",
       "      <td>b'Router'</td>\n",
       "      <td>35.529786</td>\n",
       "      <td>35.529786</td>\n",
       "      <td>35.539909</td>\n",
       "      <td>0.0</td>\n",
       "      <td>328.240918</td>\n",
       "      <td>505490.0</td>\n",
       "      <td>1540.0</td>\n",
       "      <td>0.236321</td>\n",
       "      <td>0.0</td>\n",
       "      <td>35.519662</td>\n",
       "      <td>35.550032</td>\n",
       "      <td>1.000000</td>\n",
       "      <td>50.021920</td>\n",
       "      <td>b'Normal'</td>\n",
       "    </tr>\n",
       "    <tr>\n",
       "      <th>1</th>\n",
       "      <td>15.00</td>\n",
       "      <td>24.15</td>\n",
       "      <td>201196.0</td>\n",
       "      <td>23.0</td>\n",
       "      <td>24.0</td>\n",
       "      <td>b'tcp'</td>\n",
       "      <td>1540.0</td>\n",
       "      <td>b'-------'</td>\n",
       "      <td>16.0</td>\n",
       "      <td>6274.0</td>\n",
       "      <td>16092.0</td>\n",
       "      <td>24781700.0</td>\n",
       "      <td>b'Router'</td>\n",
       "      <td>b'server1'</td>\n",
       "      <td>20.176725</td>\n",
       "      <td>20.176725</td>\n",
       "      <td>20.186848</td>\n",
       "      <td>0.0</td>\n",
       "      <td>328.205808</td>\n",
       "      <td>505437.0</td>\n",
       "      <td>1540.0</td>\n",
       "      <td>0.236337</td>\n",
       "      <td>0.0</td>\n",
       "      <td>20.156478</td>\n",
       "      <td>20.186848</td>\n",
       "      <td>1.000000</td>\n",
       "      <td>50.030211</td>\n",
       "      <td>b'Normal'</td>\n",
       "    </tr>\n",
       "    <tr>\n",
       "      <th>2</th>\n",
       "      <td>24.15</td>\n",
       "      <td>15.00</td>\n",
       "      <td>61905.0</td>\n",
       "      <td>23.0</td>\n",
       "      <td>22.0</td>\n",
       "      <td>b'ack'</td>\n",
       "      <td>55.0</td>\n",
       "      <td>b'-------'</td>\n",
       "      <td>16.0</td>\n",
       "      <td>1930.0</td>\n",
       "      <td>16092.0</td>\n",
       "      <td>885060.0</td>\n",
       "      <td>b'Router'</td>\n",
       "      <td>b'Switch2'</td>\n",
       "      <td>7.049955</td>\n",
       "      <td>7.049955</td>\n",
       "      <td>7.059958</td>\n",
       "      <td>0.0</td>\n",
       "      <td>328.206042</td>\n",
       "      <td>18051.3</td>\n",
       "      <td>55.0</td>\n",
       "      <td>0.008441</td>\n",
       "      <td>0.0</td>\n",
       "      <td>7.039952</td>\n",
       "      <td>7.069962</td>\n",
       "      <td>1.030045</td>\n",
       "      <td>50.060221</td>\n",
       "      <td>b'UDP-Flood'</td>\n",
       "    </tr>\n",
       "    <tr>\n",
       "      <th>3</th>\n",
       "      <td>24.90</td>\n",
       "      <td>9.00</td>\n",
       "      <td>443135.0</td>\n",
       "      <td>23.0</td>\n",
       "      <td>21.0</td>\n",
       "      <td>b'ack'</td>\n",
       "      <td>55.0</td>\n",
       "      <td>b'-------'</td>\n",
       "      <td>10.0</td>\n",
       "      <td>12670.0</td>\n",
       "      <td>16085.0</td>\n",
       "      <td>884675.0</td>\n",
       "      <td>b'Router'</td>\n",
       "      <td>b'Switch1'</td>\n",
       "      <td>39.627970</td>\n",
       "      <td>39.627970</td>\n",
       "      <td>39.637973</td>\n",
       "      <td>0.0</td>\n",
       "      <td>328.064183</td>\n",
       "      <td>18043.5</td>\n",
       "      <td>55.0</td>\n",
       "      <td>0.008437</td>\n",
       "      <td>0.0</td>\n",
       "      <td>39.617967</td>\n",
       "      <td>39.647976</td>\n",
       "      <td>1.030058</td>\n",
       "      <td>50.060098</td>\n",
       "      <td>b'Normal'</td>\n",
       "    </tr>\n",
       "    <tr>\n",
       "      <th>4</th>\n",
       "      <td>24.80</td>\n",
       "      <td>8.00</td>\n",
       "      <td>157335.0</td>\n",
       "      <td>23.0</td>\n",
       "      <td>21.0</td>\n",
       "      <td>b'ack'</td>\n",
       "      <td>55.0</td>\n",
       "      <td>b'-------'</td>\n",
       "      <td>9.0</td>\n",
       "      <td>4901.0</td>\n",
       "      <td>16088.0</td>\n",
       "      <td>884840.0</td>\n",
       "      <td>b'Router'</td>\n",
       "      <td>b'Switch1'</td>\n",
       "      <td>16.039806</td>\n",
       "      <td>16.039806</td>\n",
       "      <td>16.049810</td>\n",
       "      <td>0.0</td>\n",
       "      <td>328.113525</td>\n",
       "      <td>18046.2</td>\n",
       "      <td>55.0</td>\n",
       "      <td>0.008438</td>\n",
       "      <td>0.0</td>\n",
       "      <td>16.029803</td>\n",
       "      <td>16.059813</td>\n",
       "      <td>1.030054</td>\n",
       "      <td>50.061864</td>\n",
       "      <td>b'Normal'</td>\n",
       "    </tr>\n",
       "  </tbody>\n",
       "</table>\n",
       "</div>"
      ],
      "text/plain": [
       "   SRC_ADD  DES_ADD    PKT_ID  FROM_NODE  TO_NODE PKT_TYPE  PKT_SIZE  \\\n",
       "0     3.00    24.30  389693.0       21.0     23.0   b'tcp'    1540.0   \n",
       "1    15.00    24.15  201196.0       23.0     24.0   b'tcp'    1540.0   \n",
       "2    24.15    15.00   61905.0       23.0     22.0   b'ack'      55.0   \n",
       "3    24.90     9.00  443135.0       23.0     21.0   b'ack'      55.0   \n",
       "4    24.80     8.00  157335.0       23.0     21.0   b'ack'      55.0   \n",
       "\n",
       "        FLAGS   FID  SEQ_NUMBER  NUMBER_OF_PKT  NUMBER_OF_BYTE NODE_NAME_FROM  \\\n",
       "0  b'-------'   4.0     11339.0        16091.0      24780100.0     b'Switch1'   \n",
       "1  b'-------'  16.0      6274.0        16092.0      24781700.0      b'Router'   \n",
       "2  b'-------'  16.0      1930.0        16092.0        885060.0      b'Router'   \n",
       "3  b'-------'  10.0     12670.0        16085.0        884675.0      b'Router'   \n",
       "4  b'-------'   9.0      4901.0        16088.0        884840.0      b'Router'   \n",
       "\n",
       "  NODE_NAME_TO     PKT_IN    PKT_OUT      PKT_R  PKT_DELAY_NODE    PKT_RATE  \\\n",
       "0    b'Router'  35.529786  35.529786  35.539909             0.0  328.240918   \n",
       "1   b'server1'  20.176725  20.176725  20.186848             0.0  328.205808   \n",
       "2   b'Switch2'   7.049955   7.049955   7.059958             0.0  328.206042   \n",
       "3   b'Switch1'  39.627970  39.627970  39.637973             0.0  328.064183   \n",
       "4   b'Switch1'  16.039806  16.039806  16.049810             0.0  328.113525   \n",
       "\n",
       "   BYTE_RATE  PKT_AVG_SIZE  UTILIZATION  PKT_DELAY  PKT_SEND_TIME  \\\n",
       "0   505490.0        1540.0     0.236321        0.0      35.519662   \n",
       "1   505437.0        1540.0     0.236337        0.0      20.156478   \n",
       "2    18051.3          55.0     0.008441        0.0       7.039952   \n",
       "3    18043.5          55.0     0.008437        0.0      39.617967   \n",
       "4    18046.2          55.0     0.008438        0.0      16.029803   \n",
       "\n",
       "   PKT_RESEVED_TIME  FIRST_PKT_SENT  LAST_PKT_RESEVED     PKT_CLASS  \n",
       "0         35.550032        1.000000         50.021920     b'Normal'  \n",
       "1         20.186848        1.000000         50.030211     b'Normal'  \n",
       "2          7.069962        1.030045         50.060221  b'UDP-Flood'  \n",
       "3         39.647976        1.030058         50.060098     b'Normal'  \n",
       "4         16.059813        1.030054         50.061864     b'Normal'  "
      ]
     },
     "execution_count": 4,
     "metadata": {},
     "output_type": "execute_result"
    }
   ],
   "source": [
    "df.head()"
   ]
  },
  {
   "cell_type": "code",
   "execution_count": 5,
   "id": "06310435",
   "metadata": {
    "execution": {
     "iopub.execute_input": "2024-02-29T07:57:43.605294Z",
     "iopub.status.busy": "2024-02-29T07:57:43.604862Z",
     "iopub.status.idle": "2024-02-29T07:57:43.644489Z",
     "shell.execute_reply": "2024-02-29T07:57:43.643247Z"
    },
    "papermill": {
     "duration": 0.057375,
     "end_time": "2024-02-29T07:57:43.647224",
     "exception": false,
     "start_time": "2024-02-29T07:57:43.589849",
     "status": "completed"
    },
    "tags": []
   },
   "outputs": [
    {
     "data": {
      "text/html": [
       "<div>\n",
       "<style scoped>\n",
       "    .dataframe tbody tr th:only-of-type {\n",
       "        vertical-align: middle;\n",
       "    }\n",
       "\n",
       "    .dataframe tbody tr th {\n",
       "        vertical-align: top;\n",
       "    }\n",
       "\n",
       "    .dataframe thead th {\n",
       "        text-align: right;\n",
       "    }\n",
       "</style>\n",
       "<table border=\"1\" class=\"dataframe\">\n",
       "  <thead>\n",
       "    <tr style=\"text-align: right;\">\n",
       "      <th></th>\n",
       "      <th>SRC_ADD</th>\n",
       "      <th>DES_ADD</th>\n",
       "      <th>PKT_ID</th>\n",
       "      <th>FROM_NODE</th>\n",
       "      <th>TO_NODE</th>\n",
       "      <th>PKT_TYPE</th>\n",
       "      <th>PKT_SIZE</th>\n",
       "      <th>FLAGS</th>\n",
       "      <th>FID</th>\n",
       "      <th>SEQ_NUMBER</th>\n",
       "      <th>NUMBER_OF_PKT</th>\n",
       "      <th>NUMBER_OF_BYTE</th>\n",
       "      <th>NODE_NAME_FROM</th>\n",
       "      <th>NODE_NAME_TO</th>\n",
       "      <th>PKT_IN</th>\n",
       "      <th>PKT_OUT</th>\n",
       "      <th>PKT_R</th>\n",
       "      <th>PKT_DELAY_NODE</th>\n",
       "      <th>PKT_RATE</th>\n",
       "      <th>BYTE_RATE</th>\n",
       "      <th>PKT_AVG_SIZE</th>\n",
       "      <th>UTILIZATION</th>\n",
       "      <th>PKT_DELAY</th>\n",
       "      <th>PKT_SEND_TIME</th>\n",
       "      <th>PKT_RESEVED_TIME</th>\n",
       "      <th>FIRST_PKT_SENT</th>\n",
       "      <th>LAST_PKT_RESEVED</th>\n",
       "      <th>PKT_CLASS</th>\n",
       "    </tr>\n",
       "  </thead>\n",
       "  <tbody>\n",
       "    <tr>\n",
       "      <th>2160663</th>\n",
       "      <td>24.10</td>\n",
       "      <td>10.00</td>\n",
       "      <td>43184.0</td>\n",
       "      <td>22.0</td>\n",
       "      <td>10.0</td>\n",
       "      <td>b'ack'</td>\n",
       "      <td>55.0</td>\n",
       "      <td>b'-------'</td>\n",
       "      <td>11.0</td>\n",
       "      <td>1343.0</td>\n",
       "      <td>16103.0</td>\n",
       "      <td>885665.0</td>\n",
       "      <td>b'Switch2'</td>\n",
       "      <td>b'clien-10'</td>\n",
       "      <td>5.295040</td>\n",
       "      <td>5.295040</td>\n",
       "      <td>5.305043</td>\n",
       "      <td>0.0</td>\n",
       "      <td>328.561918</td>\n",
       "      <td>18070.9</td>\n",
       "      <td>55.0</td>\n",
       "      <td>0.008446</td>\n",
       "      <td>0.0</td>\n",
       "      <td>5.275034</td>\n",
       "      <td>5.305043</td>\n",
       "      <td>1.030013</td>\n",
       "      <td>50.040562</td>\n",
       "      <td>b'Normal'</td>\n",
       "    </tr>\n",
       "    <tr>\n",
       "      <th>2160664</th>\n",
       "      <td>24.12</td>\n",
       "      <td>12.00</td>\n",
       "      <td>376386.0</td>\n",
       "      <td>23.0</td>\n",
       "      <td>22.0</td>\n",
       "      <td>b'ack'</td>\n",
       "      <td>55.0</td>\n",
       "      <td>b'-------'</td>\n",
       "      <td>13.0</td>\n",
       "      <td>10991.0</td>\n",
       "      <td>16103.0</td>\n",
       "      <td>885665.0</td>\n",
       "      <td>b'Router'</td>\n",
       "      <td>b'Switch2'</td>\n",
       "      <td>34.508649</td>\n",
       "      <td>34.508649</td>\n",
       "      <td>34.518652</td>\n",
       "      <td>0.0</td>\n",
       "      <td>328.491596</td>\n",
       "      <td>18067.0</td>\n",
       "      <td>55.0</td>\n",
       "      <td>0.008446</td>\n",
       "      <td>0.0</td>\n",
       "      <td>34.498646</td>\n",
       "      <td>34.528655</td>\n",
       "      <td>1.030026</td>\n",
       "      <td>50.051067</td>\n",
       "      <td>b'Normal'</td>\n",
       "    </tr>\n",
       "    <tr>\n",
       "      <th>2160665</th>\n",
       "      <td>1.00</td>\n",
       "      <td>24.10</td>\n",
       "      <td>140121.0</td>\n",
       "      <td>21.0</td>\n",
       "      <td>23.0</td>\n",
       "      <td>b'tcp'</td>\n",
       "      <td>1540.0</td>\n",
       "      <td>b'-------'</td>\n",
       "      <td>2.0</td>\n",
       "      <td>4374.0</td>\n",
       "      <td>16091.0</td>\n",
       "      <td>24780100.0</td>\n",
       "      <td>b'Switch1'</td>\n",
       "      <td>b'Router'</td>\n",
       "      <td>14.418011</td>\n",
       "      <td>14.418011</td>\n",
       "      <td>14.428134</td>\n",
       "      <td>0.0</td>\n",
       "      <td>328.297855</td>\n",
       "      <td>505578.0</td>\n",
       "      <td>1540.0</td>\n",
       "      <td>0.236321</td>\n",
       "      <td>0.0</td>\n",
       "      <td>14.407888</td>\n",
       "      <td>14.438258</td>\n",
       "      <td>1.000000</td>\n",
       "      <td>50.013418</td>\n",
       "      <td>b'Normal'</td>\n",
       "    </tr>\n",
       "    <tr>\n",
       "      <th>2160666</th>\n",
       "      <td>5.00</td>\n",
       "      <td>24.50</td>\n",
       "      <td>26800.0</td>\n",
       "      <td>5.0</td>\n",
       "      <td>21.0</td>\n",
       "      <td>b'tcp'</td>\n",
       "      <td>1540.0</td>\n",
       "      <td>b'-------'</td>\n",
       "      <td>6.0</td>\n",
       "      <td>832.0</td>\n",
       "      <td>16091.0</td>\n",
       "      <td>24780100.0</td>\n",
       "      <td>b'clien-5'</td>\n",
       "      <td>b'Switch1'</td>\n",
       "      <td>3.732227</td>\n",
       "      <td>3.732227</td>\n",
       "      <td>3.742350</td>\n",
       "      <td>0.0</td>\n",
       "      <td>328.204637</td>\n",
       "      <td>505434.0</td>\n",
       "      <td>1540.0</td>\n",
       "      <td>0.236321</td>\n",
       "      <td>0.0</td>\n",
       "      <td>3.732227</td>\n",
       "      <td>3.762597</td>\n",
       "      <td>1.000000</td>\n",
       "      <td>50.027339</td>\n",
       "      <td>b'Normal'</td>\n",
       "    </tr>\n",
       "    <tr>\n",
       "      <th>2160667</th>\n",
       "      <td>15.00</td>\n",
       "      <td>24.15</td>\n",
       "      <td>549560.0</td>\n",
       "      <td>22.0</td>\n",
       "      <td>23.0</td>\n",
       "      <td>b'tcp'</td>\n",
       "      <td>1540.0</td>\n",
       "      <td>b'-------'</td>\n",
       "      <td>16.0</td>\n",
       "      <td>15367.0</td>\n",
       "      <td>16092.0</td>\n",
       "      <td>24781700.0</td>\n",
       "      <td>b'Switch2'</td>\n",
       "      <td>b'Router'</td>\n",
       "      <td>47.792490</td>\n",
       "      <td>47.792490</td>\n",
       "      <td>47.802613</td>\n",
       "      <td>0.0</td>\n",
       "      <td>328.205808</td>\n",
       "      <td>505437.0</td>\n",
       "      <td>1540.0</td>\n",
       "      <td>0.236337</td>\n",
       "      <td>0.0</td>\n",
       "      <td>47.782367</td>\n",
       "      <td>47.812736</td>\n",
       "      <td>1.000000</td>\n",
       "      <td>50.030211</td>\n",
       "      <td>b'Normal'</td>\n",
       "    </tr>\n",
       "  </tbody>\n",
       "</table>\n",
       "</div>"
      ],
      "text/plain": [
       "         SRC_ADD  DES_ADD    PKT_ID  FROM_NODE  TO_NODE PKT_TYPE  PKT_SIZE  \\\n",
       "2160663    24.10    10.00   43184.0       22.0     10.0   b'ack'      55.0   \n",
       "2160664    24.12    12.00  376386.0       23.0     22.0   b'ack'      55.0   \n",
       "2160665     1.00    24.10  140121.0       21.0     23.0   b'tcp'    1540.0   \n",
       "2160666     5.00    24.50   26800.0        5.0     21.0   b'tcp'    1540.0   \n",
       "2160667    15.00    24.15  549560.0       22.0     23.0   b'tcp'    1540.0   \n",
       "\n",
       "              FLAGS   FID  SEQ_NUMBER  NUMBER_OF_PKT  NUMBER_OF_BYTE  \\\n",
       "2160663  b'-------'  11.0      1343.0        16103.0        885665.0   \n",
       "2160664  b'-------'  13.0     10991.0        16103.0        885665.0   \n",
       "2160665  b'-------'   2.0      4374.0        16091.0      24780100.0   \n",
       "2160666  b'-------'   6.0       832.0        16091.0      24780100.0   \n",
       "2160667  b'-------'  16.0     15367.0        16092.0      24781700.0   \n",
       "\n",
       "        NODE_NAME_FROM NODE_NAME_TO     PKT_IN    PKT_OUT      PKT_R  \\\n",
       "2160663     b'Switch2'  b'clien-10'   5.295040   5.295040   5.305043   \n",
       "2160664      b'Router'   b'Switch2'  34.508649  34.508649  34.518652   \n",
       "2160665     b'Switch1'    b'Router'  14.418011  14.418011  14.428134   \n",
       "2160666     b'clien-5'   b'Switch1'   3.732227   3.732227   3.742350   \n",
       "2160667     b'Switch2'    b'Router'  47.792490  47.792490  47.802613   \n",
       "\n",
       "         PKT_DELAY_NODE    PKT_RATE  BYTE_RATE  PKT_AVG_SIZE  UTILIZATION  \\\n",
       "2160663             0.0  328.561918    18070.9          55.0     0.008446   \n",
       "2160664             0.0  328.491596    18067.0          55.0     0.008446   \n",
       "2160665             0.0  328.297855   505578.0        1540.0     0.236321   \n",
       "2160666             0.0  328.204637   505434.0        1540.0     0.236321   \n",
       "2160667             0.0  328.205808   505437.0        1540.0     0.236337   \n",
       "\n",
       "         PKT_DELAY  PKT_SEND_TIME  PKT_RESEVED_TIME  FIRST_PKT_SENT  \\\n",
       "2160663        0.0       5.275034          5.305043        1.030013   \n",
       "2160664        0.0      34.498646         34.528655        1.030026   \n",
       "2160665        0.0      14.407888         14.438258        1.000000   \n",
       "2160666        0.0       3.732227          3.762597        1.000000   \n",
       "2160667        0.0      47.782367         47.812736        1.000000   \n",
       "\n",
       "         LAST_PKT_RESEVED  PKT_CLASS  \n",
       "2160663         50.040562  b'Normal'  \n",
       "2160664         50.051067  b'Normal'  \n",
       "2160665         50.013418  b'Normal'  \n",
       "2160666         50.027339  b'Normal'  \n",
       "2160667         50.030211  b'Normal'  "
      ]
     },
     "execution_count": 5,
     "metadata": {},
     "output_type": "execute_result"
    }
   ],
   "source": [
    "df.tail()"
   ]
  },
  {
   "cell_type": "code",
   "execution_count": 6,
   "id": "a7f6e280",
   "metadata": {
    "execution": {
     "iopub.execute_input": "2024-02-29T07:57:43.678099Z",
     "iopub.status.busy": "2024-02-29T07:57:43.677648Z",
     "iopub.status.idle": "2024-02-29T07:57:43.715459Z",
     "shell.execute_reply": "2024-02-29T07:57:43.714094Z"
    },
    "papermill": {
     "duration": 0.055988,
     "end_time": "2024-02-29T07:57:43.718047",
     "exception": false,
     "start_time": "2024-02-29T07:57:43.662059",
     "status": "completed"
    },
    "tags": []
   },
   "outputs": [
    {
     "name": "stdout",
     "output_type": "stream",
     "text": [
      "<class 'pandas.core.frame.DataFrame'>\n",
      "RangeIndex: 2160668 entries, 0 to 2160667\n",
      "Data columns (total 28 columns):\n",
      " #   Column            Dtype  \n",
      "---  ------            -----  \n",
      " 0   SRC_ADD           float64\n",
      " 1   DES_ADD           float64\n",
      " 2   PKT_ID            float64\n",
      " 3   FROM_NODE         float64\n",
      " 4   TO_NODE           float64\n",
      " 5   PKT_TYPE          object \n",
      " 6   PKT_SIZE          float64\n",
      " 7   FLAGS             object \n",
      " 8   FID               float64\n",
      " 9   SEQ_NUMBER        float64\n",
      " 10  NUMBER_OF_PKT     float64\n",
      " 11  NUMBER_OF_BYTE    float64\n",
      " 12  NODE_NAME_FROM    object \n",
      " 13  NODE_NAME_TO      object \n",
      " 14  PKT_IN            float64\n",
      " 15  PKT_OUT           float64\n",
      " 16  PKT_R             float64\n",
      " 17  PKT_DELAY_NODE    float64\n",
      " 18  PKT_RATE          float64\n",
      " 19  BYTE_RATE         float64\n",
      " 20  PKT_AVG_SIZE      float64\n",
      " 21  UTILIZATION       float64\n",
      " 22  PKT_DELAY         float64\n",
      " 23  PKT_SEND_TIME     float64\n",
      " 24  PKT_RESEVED_TIME  float64\n",
      " 25  FIRST_PKT_SENT    float64\n",
      " 26  LAST_PKT_RESEVED  float64\n",
      " 27  PKT_CLASS         object \n",
      "dtypes: float64(23), object(5)\n",
      "memory usage: 461.6+ MB\n"
     ]
    }
   ],
   "source": [
    "df.info()"
   ]
  },
  {
   "cell_type": "code",
   "execution_count": 7,
   "id": "2d226da6",
   "metadata": {
    "execution": {
     "iopub.execute_input": "2024-02-29T07:57:43.748502Z",
     "iopub.status.busy": "2024-02-29T07:57:43.747824Z",
     "iopub.status.idle": "2024-02-29T07:57:46.769056Z",
     "shell.execute_reply": "2024-02-29T07:57:46.767962Z"
    },
    "papermill": {
     "duration": 3.039521,
     "end_time": "2024-02-29T07:57:46.771732",
     "exception": false,
     "start_time": "2024-02-29T07:57:43.732211",
     "status": "completed"
    },
    "tags": []
   },
   "outputs": [],
   "source": [
    "label_encoder = LabelEncoder()\n",
    "df['PKT_TYPE'] = label_encoder.fit_transform(df['PKT_TYPE'])\n",
    "df['FLAGS'] = label_encoder.fit_transform(df['FLAGS'])\n",
    "df['NODE_NAME_FROM'] = label_encoder.fit_transform(df['NODE_NAME_FROM'])\n",
    "df['NODE_NAME_TO'] = label_encoder.fit_transform(df['NODE_NAME_TO'])"
   ]
  },
  {
   "cell_type": "code",
   "execution_count": 8,
   "id": "c2fec1ce",
   "metadata": {
    "execution": {
     "iopub.execute_input": "2024-02-29T07:57:46.802376Z",
     "iopub.status.busy": "2024-02-29T07:57:46.801167Z",
     "iopub.status.idle": "2024-02-29T07:57:47.238354Z",
     "shell.execute_reply": "2024-02-29T07:57:47.237116Z"
    },
    "papermill": {
     "duration": 0.455055,
     "end_time": "2024-02-29T07:57:47.240932",
     "exception": false,
     "start_time": "2024-02-29T07:57:46.785877",
     "status": "completed"
    },
    "tags": []
   },
   "outputs": [
    {
     "data": {
      "text/plain": [
       "PKT_CLASS\n",
       "b'Normal'        1935959\n",
       "b'UDP-Flood'      201344\n",
       "b'Smurf'           12590\n",
       "b'SIDDOS'           6665\n",
       "b'HTTP-FLOOD'       4110\n",
       "Name: count, dtype: int64"
      ]
     },
     "execution_count": 8,
     "metadata": {},
     "output_type": "execute_result"
    }
   ],
   "source": [
    "df['PKT_CLASS'].value_counts()"
   ]
  },
  {
   "cell_type": "code",
   "execution_count": 9,
   "id": "c69165a8",
   "metadata": {
    "execution": {
     "iopub.execute_input": "2024-02-29T07:57:47.270820Z",
     "iopub.status.busy": "2024-02-29T07:57:47.270320Z",
     "iopub.status.idle": "2024-02-29T07:57:49.042454Z",
     "shell.execute_reply": "2024-02-29T07:57:49.041147Z"
    },
    "papermill": {
     "duration": 1.790536,
     "end_time": "2024-02-29T07:57:49.045577",
     "exception": false,
     "start_time": "2024-02-29T07:57:47.255041",
     "status": "completed"
    },
    "tags": []
   },
   "outputs": [],
   "source": [
    "df['PKT_CLASS'] = df['PKT_CLASS'].str.decode('utf-8')  \n",
    "df['PKT_CLASS'] = df['PKT_CLASS'].str.strip(\"b'\")    "
   ]
  },
  {
   "cell_type": "code",
   "execution_count": 10,
   "id": "ceaba3cf",
   "metadata": {
    "execution": {
     "iopub.execute_input": "2024-02-29T07:57:49.077428Z",
     "iopub.status.busy": "2024-02-29T07:57:49.076560Z",
     "iopub.status.idle": "2024-02-29T07:57:49.392957Z",
     "shell.execute_reply": "2024-02-29T07:57:49.391826Z"
    },
    "papermill": {
     "duration": 0.335021,
     "end_time": "2024-02-29T07:57:49.395754",
     "exception": false,
     "start_time": "2024-02-29T07:57:49.060733",
     "status": "completed"
    },
    "tags": []
   },
   "outputs": [],
   "source": [
    "label_mapping = {\"Normal\": 0, \"UDP-Flood\": 1, \"Smurf\": 1, \"SIDDOS\": 1, \"HTTP-FLOOD\": 1}\n",
    "df['PKT_CLASS'] = df['PKT_CLASS'].map(label_mapping)"
   ]
  },
  {
   "cell_type": "code",
   "execution_count": 11,
   "id": "e5fca4e9",
   "metadata": {
    "execution": {
     "iopub.execute_input": "2024-02-29T07:57:49.427630Z",
     "iopub.status.busy": "2024-02-29T07:57:49.426897Z",
     "iopub.status.idle": "2024-02-29T07:57:49.435471Z",
     "shell.execute_reply": "2024-02-29T07:57:49.434107Z"
    },
    "papermill": {
     "duration": 0.026931,
     "end_time": "2024-02-29T07:57:49.438087",
     "exception": false,
     "start_time": "2024-02-29T07:57:49.411156",
     "status": "completed"
    },
    "tags": []
   },
   "outputs": [
    {
     "data": {
      "text/plain": [
       "Index(['SRC_ADD', 'DES_ADD', 'PKT_ID', 'FROM_NODE', 'TO_NODE', 'PKT_TYPE',\n",
       "       'PKT_SIZE', 'FLAGS', 'FID', 'SEQ_NUMBER', 'NUMBER_OF_PKT',\n",
       "       'NUMBER_OF_BYTE', 'NODE_NAME_FROM', 'NODE_NAME_TO', 'PKT_IN', 'PKT_OUT',\n",
       "       'PKT_R', 'PKT_DELAY_NODE', 'PKT_RATE', 'BYTE_RATE', 'PKT_AVG_SIZE',\n",
       "       'UTILIZATION', 'PKT_DELAY', 'PKT_SEND_TIME', 'PKT_RESEVED_TIME',\n",
       "       'FIRST_PKT_SENT', 'LAST_PKT_RESEVED', 'PKT_CLASS'],\n",
       "      dtype='object')"
      ]
     },
     "execution_count": 11,
     "metadata": {},
     "output_type": "execute_result"
    }
   ],
   "source": [
    "df.keys()"
   ]
  },
  {
   "cell_type": "code",
   "execution_count": 12,
   "id": "c6cbcc9a",
   "metadata": {
    "execution": {
     "iopub.execute_input": "2024-02-29T07:57:49.468940Z",
     "iopub.status.busy": "2024-02-29T07:57:49.468519Z",
     "iopub.status.idle": "2024-02-29T07:57:49.582804Z",
     "shell.execute_reply": "2024-02-29T07:57:49.581410Z"
    },
    "papermill": {
     "duration": 0.133185,
     "end_time": "2024-02-29T07:57:49.585680",
     "exception": false,
     "start_time": "2024-02-29T07:57:49.452495",
     "status": "completed"
    },
    "tags": []
   },
   "outputs": [
    {
     "data": {
      "text/plain": [
       "[]"
      ]
     },
     "execution_count": 12,
     "metadata": {},
     "output_type": "execute_result"
    }
   ],
   "source": [
    "[features for features in df.columns if df[features].isnull().sum()>0]"
   ]
  },
  {
   "cell_type": "code",
   "execution_count": 13,
   "id": "20e257d5",
   "metadata": {
    "execution": {
     "iopub.execute_input": "2024-02-29T07:57:49.617107Z",
     "iopub.status.busy": "2024-02-29T07:57:49.616695Z",
     "iopub.status.idle": "2024-02-29T07:57:50.190262Z",
     "shell.execute_reply": "2024-02-29T07:57:50.188864Z"
    },
    "papermill": {
     "duration": 0.592603,
     "end_time": "2024-02-29T07:57:50.193394",
     "exception": false,
     "start_time": "2024-02-29T07:57:49.600791",
     "status": "completed"
    },
    "tags": []
   },
   "outputs": [],
   "source": [
    "df.dropna(inplace = True)"
   ]
  },
  {
   "cell_type": "code",
   "execution_count": 14,
   "id": "43df5e58",
   "metadata": {
    "execution": {
     "iopub.execute_input": "2024-02-29T07:57:50.224349Z",
     "iopub.status.busy": "2024-02-29T07:57:50.223906Z",
     "iopub.status.idle": "2024-02-29T08:00:04.592464Z",
     "shell.execute_reply": "2024-02-29T08:00:04.590798Z"
    },
    "papermill": {
     "duration": 134.389422,
     "end_time": "2024-02-29T08:00:04.597403",
     "exception": false,
     "start_time": "2024-02-29T07:57:50.207981",
     "status": "completed"
    },
    "tags": []
   },
   "outputs": [],
   "source": [
    "has_inf_rows = df.map(np.isinf).any(axis=1)\n",
    "df.drop(index=df[has_inf_rows].index, inplace=True)"
   ]
  },
  {
   "cell_type": "code",
   "execution_count": 15,
   "id": "ab8cbd07",
   "metadata": {
    "execution": {
     "iopub.execute_input": "2024-02-29T08:00:04.636387Z",
     "iopub.status.busy": "2024-02-29T08:00:04.634243Z",
     "iopub.status.idle": "2024-02-29T08:02:19.052820Z",
     "shell.execute_reply": "2024-02-29T08:02:19.051096Z"
    },
    "papermill": {
     "duration": 134.453899,
     "end_time": "2024-02-29T08:02:19.069998",
     "exception": false,
     "start_time": "2024-02-29T08:00:04.616099",
     "status": "completed"
    },
    "tags": []
   },
   "outputs": [
    {
     "name": "stdout",
     "output_type": "stream",
     "text": [
      "No Infinte Values\n",
      "No NaN Values\n"
     ]
    }
   ],
   "source": [
    "has_inf = df.map(np.isinf).any().any()\n",
    "has_nan = df.isnull().values.any()\n",
    "if has_inf:\n",
    "    print(\"The DataFrame contains infinite values.\")\n",
    "else:\n",
    "    print(\"No Infinte Values\")\n",
    "if has_nan:\n",
    "    print(\"The DataFrame contains NaN values.\")\n",
    "else:\n",
    "    print(\"No NaN Values\")"
   ]
  },
  {
   "cell_type": "code",
   "execution_count": 16,
   "id": "936d91c0",
   "metadata": {
    "execution": {
     "iopub.execute_input": "2024-02-29T08:02:19.101271Z",
     "iopub.status.busy": "2024-02-29T08:02:19.100823Z",
     "iopub.status.idle": "2024-02-29T08:02:19.108204Z",
     "shell.execute_reply": "2024-02-29T08:02:19.106886Z"
    },
    "papermill": {
     "duration": 0.026411,
     "end_time": "2024-02-29T08:02:19.110903",
     "exception": false,
     "start_time": "2024-02-29T08:02:19.084492",
     "status": "completed"
    },
    "tags": []
   },
   "outputs": [],
   "source": [
    "def correlation(df):\n",
    "    df = df.select_dtypes(exclude=['object']) \n",
    "    df = df[[col for col in df if df[col].nunique() > 1]]\n",
    "    corr = df.corr()\n",
    "    fig, ax = plt.subplots(figsize=(15,12))\n",
    "    ax = sns.heatmap(corr)\n",
    "    plt.show()"
   ]
  },
  {
   "cell_type": "code",
   "execution_count": 17,
   "id": "3c12bd1d",
   "metadata": {
    "execution": {
     "iopub.execute_input": "2024-02-29T08:02:19.141588Z",
     "iopub.status.busy": "2024-02-29T08:02:19.141123Z",
     "iopub.status.idle": "2024-02-29T08:02:28.481422Z",
     "shell.execute_reply": "2024-02-29T08:02:28.480057Z"
    },
    "papermill": {
     "duration": 9.361047,
     "end_time": "2024-02-29T08:02:28.486578",
     "exception": false,
     "start_time": "2024-02-29T08:02:19.125531",
     "status": "completed"
    },
    "tags": []
   },
   "outputs": [
    {
     "data": {
      "image/png": "[encoded data removed]",
      "text/plain": [
       "<Figure size 1500x1200 with 2 Axes>"
      ]
     },
     "metadata": {},
     "output_type": "display_data"
    }
   ],
   "source": [
    "correlation(df)"
   ]
  },
  {
   "cell_type": "code",
   "execution_count": 18,
   "id": "f5d88f37",
   "metadata": {
    "execution": {
     "iopub.execute_input": "2024-02-29T08:02:28.522201Z",
     "iopub.status.busy": "2024-02-29T08:02:28.521390Z",
     "iopub.status.idle": "2024-02-29T08:02:28.536158Z",
     "shell.execute_reply": "2024-02-29T08:02:28.534892Z"
    },
    "papermill": {
     "duration": 0.036167,
     "end_time": "2024-02-29T08:02:28.539717",
     "exception": false,
     "start_time": "2024-02-29T08:02:28.503550",
     "status": "completed"
    },
    "tags": []
   },
   "outputs": [
    {
     "name": "stdout",
     "output_type": "stream",
     "text": [
      "<class 'pandas.core.frame.DataFrame'>\n",
      "RangeIndex: 2160668 entries, 0 to 2160667\n",
      "Data columns (total 28 columns):\n",
      " #   Column            Dtype  \n",
      "---  ------            -----  \n",
      " 0   SRC_ADD           float64\n",
      " 1   DES_ADD           float64\n",
      " 2   PKT_ID            float64\n",
      " 3   FROM_NODE         float64\n",
      " 4   TO_NODE           float64\n",
      " 5   PKT_TYPE          int64  \n",
      " 6   PKT_SIZE          float64\n",
      " 7   FLAGS             int64  \n",
      " 8   FID               float64\n",
      " 9   SEQ_NUMBER        float64\n",
      " 10  NUMBER_OF_PKT     float64\n",
      " 11  NUMBER_OF_BYTE    float64\n",
      " 12  NODE_NAME_FROM    int64  \n",
      " 13  NODE_NAME_TO      int64  \n",
      " 14  PKT_IN            float64\n",
      " 15  PKT_OUT           float64\n",
      " 16  PKT_R             float64\n",
      " 17  PKT_DELAY_NODE    float64\n",
      " 18  PKT_RATE          float64\n",
      " 19  BYTE_RATE         float64\n",
      " 20  PKT_AVG_SIZE      float64\n",
      " 21  UTILIZATION       float64\n",
      " 22  PKT_DELAY         float64\n",
      " 23  PKT_SEND_TIME     float64\n",
      " 24  PKT_RESEVED_TIME  float64\n",
      " 25  FIRST_PKT_SENT    float64\n",
      " 26  LAST_PKT_RESEVED  float64\n",
      " 27  PKT_CLASS         int64  \n",
      "dtypes: float64(23), int64(5)\n",
      "memory usage: 461.6 MB\n"
     ]
    }
   ],
   "source": [
    "df.info()"
   ]
  },
  {
   "cell_type": "markdown",
   "id": "3e137c01",
   "metadata": {
    "papermill": {
     "duration": 0.016546,
     "end_time": "2024-02-29T08:02:28.573087",
     "exception": false,
     "start_time": "2024-02-29T08:02:28.556541",
     "status": "completed"
    },
    "tags": []
   },
   "source": [
    "## **Ensemble Machine Learning algorithm**"
   ]
  },
  {
   "cell_type": "code",
   "execution_count": 19,
   "id": "fb0dd1df",
   "metadata": {
    "execution": {
     "iopub.execute_input": "2024-02-29T08:02:28.607246Z",
     "iopub.status.busy": "2024-02-29T08:02:28.606817Z",
     "iopub.status.idle": "2024-02-29T08:02:28.614386Z",
     "shell.execute_reply": "2024-02-29T08:02:28.612982Z"
    },
    "papermill": {
     "duration": 0.027612,
     "end_time": "2024-02-29T08:02:28.617018",
     "exception": false,
     "start_time": "2024-02-29T08:02:28.589406",
     "status": "completed"
    },
    "tags": []
   },
   "outputs": [],
   "source": [
    "predictorNames = ['SRC_ADD', 'DES_ADD', 'PKT_ID', 'FROM_NODE', 'TO_NODE', 'PKT_TYPE',\n",
    "       'PKT_SIZE', 'FLAGS', 'FID', 'SEQ_NUMBER', 'NUMBER_OF_PKT',\n",
    "       'NUMBER_OF_BYTE', 'NODE_NAME_FROM', 'NODE_NAME_TO', 'PKT_IN', 'PKT_OUT',\n",
    "       'PKT_R', 'PKT_DELAY_NODE', 'PKT_RATE', 'BYTE_RATE', 'PKT_AVG_SIZE',\n",
    "       'UTILIZATION', 'PKT_DELAY', 'PKT_SEND_TIME', 'PKT_RESEVED_TIME',\n",
    "       'FIRST_PKT_SENT', 'LAST_PKT_RESEVED']"
   ]
  },
  {
   "cell_type": "code",
   "execution_count": 20,
   "id": "16019e04",
   "metadata": {
    "execution": {
     "iopub.execute_input": "2024-02-29T08:02:28.652771Z",
     "iopub.status.busy": "2024-02-29T08:02:28.652277Z",
     "iopub.status.idle": "2024-02-29T08:02:28.907545Z",
     "shell.execute_reply": "2024-02-29T08:02:28.906252Z"
    },
    "papermill": {
     "duration": 0.277215,
     "end_time": "2024-02-29T08:02:28.910579",
     "exception": false,
     "start_time": "2024-02-29T08:02:28.633364",
     "status": "completed"
    },
    "tags": []
   },
   "outputs": [],
   "source": [
    "predictors = df[predictorNames]"
   ]
  },
  {
   "cell_type": "code",
   "execution_count": 21,
   "id": "c6e16106",
   "metadata": {
    "execution": {
     "iopub.execute_input": "2024-02-29T08:02:28.944945Z",
     "iopub.status.busy": "2024-02-29T08:02:28.944505Z",
     "iopub.status.idle": "2024-02-29T08:02:28.950381Z",
     "shell.execute_reply": "2024-02-29T08:02:28.949075Z"
    },
    "papermill": {
     "duration": 0.026108,
     "end_time": "2024-02-29T08:02:28.953022",
     "exception": false,
     "start_time": "2024-02-29T08:02:28.926914",
     "status": "completed"
    },
    "tags": []
   },
   "outputs": [],
   "source": [
    "response = df['PKT_CLASS']"
   ]
  },
  {
   "cell_type": "code",
   "execution_count": 22,
   "id": "3ab9cbc4",
   "metadata": {
    "execution": {
     "iopub.execute_input": "2024-02-29T08:02:28.987519Z",
     "iopub.status.busy": "2024-02-29T08:02:28.987031Z",
     "iopub.status.idle": "2024-02-29T08:02:30.519933Z",
     "shell.execute_reply": "2024-02-29T08:02:30.518780Z"
    },
    "papermill": {
     "duration": 1.553967,
     "end_time": "2024-02-29T08:02:30.523538",
     "exception": false,
     "start_time": "2024-02-29T08:02:28.969571",
     "status": "completed"
    },
    "tags": []
   },
   "outputs": [],
   "source": [
    "X_train, X_test, y_train, y_test = train_test_split(predictors, response, test_size=0.2, random_state=42)"
   ]
  },
  {
   "cell_type": "markdown",
   "id": "0907b9b3",
   "metadata": {
    "papermill": {
     "duration": 0.021514,
     "end_time": "2024-02-29T08:02:30.569241",
     "exception": false,
     "start_time": "2024-02-29T08:02:30.547727",
     "status": "completed"
    },
    "tags": []
   },
   "source": [
    "# **Boasting (Adaboast Classifier) {1}** #"
   ]
  },
  {
   "cell_type": "code",
   "execution_count": 23,
   "id": "c849fa58",
   "metadata": {
    "execution": {
     "iopub.execute_input": "2024-02-29T08:02:30.606243Z",
     "iopub.status.busy": "2024-02-29T08:02:30.605475Z",
     "iopub.status.idle": "2024-02-29T08:02:30.611430Z",
     "shell.execute_reply": "2024-02-29T08:02:30.610473Z"
    },
    "papermill": {
     "duration": 0.026698,
     "end_time": "2024-02-29T08:02:30.614023",
     "exception": false,
     "start_time": "2024-02-29T08:02:30.587325",
     "status": "completed"
    },
    "tags": []
   },
   "outputs": [],
   "source": [
    "template = DecisionTreeClassifier(max_depth=5)"
   ]
  },
  {
   "cell_type": "code",
   "execution_count": 24,
   "id": "679b4a0d",
   "metadata": {
    "execution": {
     "iopub.execute_input": "2024-02-29T08:02:30.649986Z",
     "iopub.status.busy": "2024-02-29T08:02:30.648982Z",
     "iopub.status.idle": "2024-02-29T08:02:30.657097Z",
     "shell.execute_reply": "2024-02-29T08:02:30.655874Z"
    },
    "papermill": {
     "duration": 0.029444,
     "end_time": "2024-02-29T08:02:30.660551",
     "exception": false,
     "start_time": "2024-02-29T08:02:30.631107",
     "status": "completed"
    },
    "tags": []
   },
   "outputs": [],
   "source": [
    "classificationEnsemble = AdaBoostClassifier(estimator=template,\n",
    "                                             n_estimators=100,\n",
    "                                             learning_rate=0.1)"
   ]
  },
  {
   "cell_type": "code",
   "execution_count": 25,
   "id": "e0429bb4",
   "metadata": {
    "execution": {
     "iopub.execute_input": "2024-02-29T08:02:30.697618Z",
     "iopub.status.busy": "2024-02-29T08:02:30.697140Z",
     "iopub.status.idle": "2024-02-29T09:26:32.475660Z",
     "shell.execute_reply": "2024-02-29T09:26:32.473849Z"
    },
    "papermill": {
     "duration": 5041.831632,
     "end_time": "2024-02-29T09:26:32.510379",
     "exception": false,
     "start_time": "2024-02-29T08:02:30.678747",
     "status": "completed"
    },
    "tags": []
   },
   "outputs": [
    {
     "data": {
      "text/html": [
       "<style>#sk-container-id-1 {color: black;background-color: white;}#sk-container-id-1 pre{padding: 0;}#sk-container-id-1 div.sk-toggleable {background-color: white;}#sk-container-id-1 label.sk-toggleable__label {cursor: pointer;display: block;width: 100%;margin-bottom: 0;padding: 0.3em;box-sizing: border-box;text-align: center;}#sk-container-id-1 label.sk-toggleable__label-arrow:before {content: \"▸\";float: left;margin-right: 0.25em;color: #696969;}#sk-container-id-1 label.sk-toggleable__label-arrow:hover:before {color: black;}#sk-container-id-1 div.sk-estimator:hover label.sk-toggleable__label-arrow:before {color: black;}#sk-container-id-1 div.sk-toggleable__content {max-height: 0;max-width: 0;overflow: hidden;text-align: left;background-color: #f0f8ff;}#sk-container-id-1 div.sk-toggleable__content pre {margin: 0.2em;color: black;border-radius: 0.25em;background-color: #f0f8ff;}#sk-container-id-1 input.sk-toggleable__control:checked~div.sk-toggleable__content {max-height: 200px;max-width: 100%;overflow: auto;}#sk-container-id-1 input.sk-toggleable__control:checked~label.sk-toggleable__label-arrow:before {content: \"▾\";}#sk-container-id-1 div.sk-estimator input.sk-toggleable__control:checked~label.sk-toggleable__label {background-color: #d4ebff;}#sk-container-id-1 div.sk-label input.sk-toggleable__control:checked~label.sk-toggleable__label {background-color: #d4ebff;}#sk-container-id-1 input.sk-hidden--visually {border: 0;clip: rect(1px 1px 1px 1px);clip: rect(1px, 1px, 1px, 1px);height: 1px;margin: -1px;overflow: hidden;padding: 0;position: absolute;width: 1px;}#sk-container-id-1 div.sk-estimator {font-family: monospace;background-color: #f0f8ff;border: 1px dotted black;border-radius: 0.25em;box-sizing: border-box;margin-bottom: 0.5em;}#sk-container-id-1 div.sk-estimator:hover {background-color: #d4ebff;}#sk-container-id-1 div.sk-parallel-item::after {content: \"\";width: 100%;border-bottom: 1px solid gray;flex-grow: 1;}#sk-container-id-1 div.sk-label:hover label.sk-toggleable__label {background-color: #d4ebff;}#sk-container-id-1 div.sk-serial::before {content: \"\";position: absolute;border-left: 1px solid gray;box-sizing: border-box;top: 0;bottom: 0;left: 50%;z-index: 0;}#sk-container-id-1 div.sk-serial {display: flex;flex-direction: column;align-items: center;background-color: white;padding-right: 0.2em;padding-left: 0.2em;position: relative;}#sk-container-id-1 div.sk-item {position: relative;z-index: 1;}#sk-container-id-1 div.sk-parallel {display: flex;align-items: stretch;justify-content: center;background-color: white;position: relative;}#sk-container-id-1 div.sk-item::before, #sk-container-id-1 div.sk-parallel-item::before {content: \"\";position: absolute;border-left: 1px solid gray;box-sizing: border-box;top: 0;bottom: 0;left: 50%;z-index: -1;}#sk-container-id-1 div.sk-parallel-item {display: flex;flex-direction: column;z-index: 1;position: relative;background-color: white;}#sk-container-id-1 div.sk-parallel-item:first-child::after {align-self: flex-end;width: 50%;}#sk-container-id-1 div.sk-parallel-item:last-child::after {align-self: flex-start;width: 50%;}#sk-container-id-1 div.sk-parallel-item:only-child::after {width: 0;}#sk-container-id-1 div.sk-dashed-wrapped {border: 1px dashed gray;margin: 0 0.4em 0.5em 0.4em;box-sizing: border-box;padding-bottom: 0.4em;background-color: white;}#sk-container-id-1 div.sk-label label {font-family: monospace;font-weight: bold;display: inline-block;line-height: 1.2em;}#sk-container-id-1 div.sk-label-container {text-align: center;}#sk-container-id-1 div.sk-container {/* jupyter's `normalize.less` sets `[hidden] { display: none; }` but bootstrap.min.css set `[hidden] { display: none !important; }` so we also need the `!important` here to be able to override the default hidden behavior on the sphinx rendered scikit-learn.org. See: https://github.com/scikit-learn/scikit-learn/issues/21755 */display: inline-block !important;position: relative;}#sk-container-id-1 div.sk-text-repr-fallback {display: none;}</style><div id=\"sk-container-id-1\" class=\"sk-top-container\"><div class=\"sk-text-repr-fallback\"><pre>AdaBoostClassifier(estimator=DecisionTreeClassifier(max_depth=5),\n",
       "                   learning_rate=0.1, n_estimators=100)</pre><b>In a Jupyter environment, please rerun this cell to show the HTML representation or trust the notebook. <br />On GitHub, the HTML representation is unable to render, please try loading this page with nbviewer.org.</b></div><div class=\"sk-container\" hidden><div class=\"sk-item sk-dashed-wrapped\"><div class=\"sk-label-container\"><div class=\"sk-label sk-toggleable\"><input class=\"sk-toggleable__control sk-hidden--visually\" id=\"sk-estimator-id-1\" type=\"checkbox\" ><label for=\"sk-estimator-id-1\" class=\"sk-toggleable__label sk-toggleable__label-arrow\">AdaBoostClassifier</label><div class=\"sk-toggleable__content\"><pre>AdaBoostClassifier(estimator=DecisionTreeClassifier(max_depth=5),\n",
       "                   learning_rate=0.1, n_estimators=100)</pre></div></div></div><div class=\"sk-parallel\"><div class=\"sk-parallel-item\"><div class=\"sk-item\"><div class=\"sk-label-container\"><div class=\"sk-label sk-toggleable\"><input class=\"sk-toggleable__control sk-hidden--visually\" id=\"sk-estimator-id-2\" type=\"checkbox\" ><label for=\"sk-estimator-id-2\" class=\"sk-toggleable__label sk-toggleable__label-arrow\">estimator: DecisionTreeClassifier</label><div class=\"sk-toggleable__content\"><pre>DecisionTreeClassifier(max_depth=5)</pre></div></div></div><div class=\"sk-serial\"><div class=\"sk-item\"><div class=\"sk-estimator sk-toggleable\"><input class=\"sk-toggleable__control sk-hidden--visually\" id=\"sk-estimator-id-3\" type=\"checkbox\" ><label for=\"sk-estimator-id-3\" class=\"sk-toggleable__label sk-toggleable__label-arrow\">DecisionTreeClassifier</label><div class=\"sk-toggleable__content\"><pre>DecisionTreeClassifier(max_depth=5)</pre></div></div></div></div></div></div></div></div></div></div>"
      ],
      "text/plain": [
       "AdaBoostClassifier(estimator=DecisionTreeClassifier(max_depth=5),\n",
       "                   learning_rate=0.1, n_estimators=100)"
      ]
     },
     "execution_count": 25,
     "metadata": {},
     "output_type": "execute_result"
    }
   ],
   "source": [
    "classificationEnsemble.fit(X_train, y_train)"
   ]
  },
  {
   "cell_type": "code",
   "execution_count": 26,
   "id": "733cee06",
   "metadata": {
    "execution": {
     "iopub.execute_input": "2024-02-29T09:26:32.552262Z",
     "iopub.status.busy": "2024-02-29T09:26:32.550760Z",
     "iopub.status.idle": "2024-02-29T09:26:41.835781Z",
     "shell.execute_reply": "2024-02-29T09:26:41.834099Z"
    },
    "papermill": {
     "duration": 9.311246,
     "end_time": "2024-02-29T09:26:41.839107",
     "exception": false,
     "start_time": "2024-02-29T09:26:32.527861",
     "status": "completed"
    },
    "tags": []
   },
   "outputs": [],
   "source": [
    "y_pred1 = classificationEnsemble.predict(X_test)"
   ]
  },
  {
   "cell_type": "code",
   "execution_count": 27,
   "id": "7a702763",
   "metadata": {
    "execution": {
     "iopub.execute_input": "2024-02-29T09:26:41.877901Z",
     "iopub.status.busy": "2024-02-29T09:26:41.877421Z",
     "iopub.status.idle": "2024-02-29T09:26:42.712315Z",
     "shell.execute_reply": "2024-02-29T09:26:42.710971Z"
    },
    "papermill": {
     "duration": 0.858625,
     "end_time": "2024-02-29T09:26:42.715633",
     "exception": false,
     "start_time": "2024-02-29T09:26:41.857008",
     "status": "completed"
    },
    "tags": []
   },
   "outputs": [],
   "source": [
    "Accuracy1 = accuracy_score(y_test, y_pred1)\n",
    "recall1 = recall_score(y_test, y_pred1)\n",
    "precision1 = precision_score(y_test, y_pred1)\n",
    "f11 = f1_score(y_test, y_pred1)\n",
    "mcc1 = matthews_corrcoef(y_test, y_pred1)"
   ]
  },
  {
   "cell_type": "code",
   "execution_count": 28,
   "id": "c6f85135",
   "metadata": {
    "execution": {
     "iopub.execute_input": "2024-02-29T09:26:42.753008Z",
     "iopub.status.busy": "2024-02-29T09:26:42.752529Z",
     "iopub.status.idle": "2024-02-29T09:26:42.760378Z",
     "shell.execute_reply": "2024-02-29T09:26:42.758970Z"
    },
    "papermill": {
     "duration": 0.030693,
     "end_time": "2024-02-29T09:26:42.764078",
     "exception": false,
     "start_time": "2024-02-29T09:26:42.733385",
     "status": "completed"
    },
    "tags": []
   },
   "outputs": [
    {
     "name": "stdout",
     "output_type": "stream",
     "text": [
      "Mhd Ahmed Dataset Boasting\n",
      "Accuracy: 98.65203848806158\n",
      "Recall: 87.14018358435077\n",
      "Precision: 99.86467509255714\n",
      "F1 Score: 93.0695189710764\n",
      "MCC Score: 92.58988264170539\n"
     ]
    }
   ],
   "source": [
    "print(\"Mhd Ahmed Dataset Boasting\")\n",
    "print('Accuracy:', Accuracy1*100)\n",
    "print('Recall:', recall1*100)\n",
    "print('Precision:', precision1*100)\n",
    "print('F1 Score:', f11*100)\n",
    "print('MCC Score:', mcc1*100)"
   ]
  },
  {
   "cell_type": "code",
   "execution_count": 29,
   "id": "b1dec962",
   "metadata": {
    "execution": {
     "iopub.execute_input": "2024-02-29T09:26:42.801670Z",
     "iopub.status.busy": "2024-02-29T09:26:42.800789Z",
     "iopub.status.idle": "2024-02-29T09:26:43.258965Z",
     "shell.execute_reply": "2024-02-29T09:26:43.257522Z"
    },
    "papermill": {
     "duration": 0.48033,
     "end_time": "2024-02-29T09:26:43.261805",
     "exception": false,
     "start_time": "2024-02-29T09:26:42.781475",
     "status": "completed"
    },
    "tags": []
   },
   "outputs": [
    {
     "name": "stderr",
     "output_type": "stream",
     "text": [
      "/opt/conda/lib/python3.10/site-packages/seaborn/_oldcore.py:1765: FutureWarning: unique with argument that is not not a Series, Index, ExtensionArray, or np.ndarray is deprecated and will raise in a future version.\n",
      "  order = pd.unique(vector)\n"
     ]
    },
    {
     "data": {
      "image/png": "[encoded data removed]",
      "text/plain": [
       "<Figure size 800x300 with 1 Axes>"
      ]
     },
     "metadata": {},
     "output_type": "display_data"
    }
   ],
   "source": [
    "labels = ['Accuracy', 'Recall', 'Precision', 'F1 score', 'MCC']\n",
    "scores = [Accuracy1, recall1, precision1, f11,mcc1]  \n",
    "\n",
    "sns.set(style='whitegrid')\n",
    "sns.set_color_codes('pastel')\n",
    "palette = sns.color_palette('Set1')\n",
    "\n",
    "fig, ax = plt.subplots(figsize=(8, 3))\n",
    "sns.barplot(x=scores, y=labels, palette=palette)\n",
    "\n",
    "for i, v in enumerate(scores):\n",
    "    ax.text(v + 0.01, i, f'{v * 100:.2f}%', color='black', fontweight='bold')\n",
    "\n",
    "ax.set_xlim(0, 1)\n",
    "ax.set_xlabel('Score')\n",
    "ax.set_ylabel('Metric')\n",
    "ax.set_title(\"Model performance on Mhd Ahmed Datasets Boasting\")\n",
    "\n",
    "plt.show()\n"
   ]
  },
  {
   "cell_type": "code",
   "execution_count": 30,
   "id": "c8f512ff",
   "metadata": {
    "execution": {
     "iopub.execute_input": "2024-02-29T09:26:43.304352Z",
     "iopub.status.busy": "2024-02-29T09:26:43.303901Z",
     "iopub.status.idle": "2024-02-29T09:26:43.812456Z",
     "shell.execute_reply": "2024-02-29T09:26:43.810883Z"
    },
    "papermill": {
     "duration": 0.533817,
     "end_time": "2024-02-29T09:26:43.815927",
     "exception": false,
     "start_time": "2024-02-29T09:26:43.282110",
     "status": "completed"
    },
    "tags": []
   },
   "outputs": [
    {
     "data": {
      "image/png": "[encoded data removed]",
      "text/plain": [
       "<Figure size 800x600 with 2 Axes>"
      ]
     },
     "metadata": {},
     "output_type": "display_data"
    }
   ],
   "source": [
    "cm = confusion_matrix(y_test, y_pred1)\n",
    "plt.figure(figsize=(8,6))\n",
    "sns.heatmap(cm, annot=True, cmap='Blues', fmt='g', \n",
    "            xticklabels=['BENIGN', 'DDos'], yticklabels=['BENIGN', 'DDos'])\n",
    "plt.xlabel('Predicted labels')\n",
    "plt.ylabel('True labels')\n",
    "plt.show()"
   ]
  },
  {
   "cell_type": "markdown",
   "id": "3ab50465",
   "metadata": {
    "papermill": {
     "duration": 0.018935,
     "end_time": "2024-02-29T09:26:43.857098",
     "exception": false,
     "start_time": "2024-02-29T09:26:43.838163",
     "status": "completed"
    },
    "tags": []
   },
   "source": [
    "# **Bagging** #"
   ]
  },
  {
   "cell_type": "code",
   "execution_count": 31,
   "id": "46641c98",
   "metadata": {
    "execution": {
     "iopub.execute_input": "2024-02-29T09:26:43.904785Z",
     "iopub.status.busy": "2024-02-29T09:26:43.903757Z",
     "iopub.status.idle": "2024-02-29T09:26:43.910240Z",
     "shell.execute_reply": "2024-02-29T09:26:43.909205Z"
    },
    "papermill": {
     "duration": 0.036472,
     "end_time": "2024-02-29T09:26:43.913089",
     "exception": false,
     "start_time": "2024-02-29T09:26:43.876617",
     "status": "completed"
    },
    "tags": []
   },
   "outputs": [],
   "source": [
    "rfc = RandomForestClassifier(n_estimators=100, max_depth=5)"
   ]
  },
  {
   "cell_type": "code",
   "execution_count": 32,
   "id": "9fecbadd",
   "metadata": {
    "execution": {
     "iopub.execute_input": "2024-02-29T09:26:43.956121Z",
     "iopub.status.busy": "2024-02-29T09:26:43.954983Z",
     "iopub.status.idle": "2024-02-29T09:26:43.961808Z",
     "shell.execute_reply": "2024-02-29T09:26:43.960427Z"
    },
    "papermill": {
     "duration": 0.030836,
     "end_time": "2024-02-29T09:26:43.964492",
     "exception": false,
     "start_time": "2024-02-29T09:26:43.933656",
     "status": "completed"
    },
    "tags": []
   },
   "outputs": [],
   "source": [
    "bagging = BaggingClassifier(estimator=rfc, n_estimators=100, max_samples=0.8, max_features=0.8)"
   ]
  },
  {
   "cell_type": "code",
   "execution_count": 33,
   "id": "604c2610",
   "metadata": {
    "execution": {
     "iopub.execute_input": "2024-02-29T09:26:44.008252Z",
     "iopub.status.busy": "2024-02-29T09:26:44.007151Z",
     "iopub.status.idle": "2024-02-29T18:20:04.080949Z",
     "shell.execute_reply": "2024-02-29T18:20:04.079709Z"
    },
    "papermill": {
     "duration": 32000.124881,
     "end_time": "2024-02-29T18:20:04.108907",
     "exception": false,
     "start_time": "2024-02-29T09:26:43.984026",
     "status": "completed"
    },
    "tags": []
   },
   "outputs": [
    {
     "data": {
      "text/html": [
       "<style>#sk-container-id-2 {color: black;background-color: white;}#sk-container-id-2 pre{padding: 0;}#sk-container-id-2 div.sk-toggleable {background-color: white;}#sk-container-id-2 label.sk-toggleable__label {cursor: pointer;display: block;width: 100%;margin-bottom: 0;padding: 0.3em;box-sizing: border-box;text-align: center;}#sk-container-id-2 label.sk-toggleable__label-arrow:before {content: \"▸\";float: left;margin-right: 0.25em;color: #696969;}#sk-container-id-2 label.sk-toggleable__label-arrow:hover:before {color: black;}#sk-container-id-2 div.sk-estimator:hover label.sk-toggleable__label-arrow:before {color: black;}#sk-container-id-2 div.sk-toggleable__content {max-height: 0;max-width: 0;overflow: hidden;text-align: left;background-color: #f0f8ff;}#sk-container-id-2 div.sk-toggleable__content pre {margin: 0.2em;color: black;border-radius: 0.25em;background-color: #f0f8ff;}#sk-container-id-2 input.sk-toggleable__control:checked~div.sk-toggleable__content {max-height: 200px;max-width: 100%;overflow: auto;}#sk-container-id-2 input.sk-toggleable__control:checked~label.sk-toggleable__label-arrow:before {content: \"▾\";}#sk-container-id-2 div.sk-estimator input.sk-toggleable__control:checked~label.sk-toggleable__label {background-color: #d4ebff;}#sk-container-id-2 div.sk-label input.sk-toggleable__control:checked~label.sk-toggleable__label {background-color: #d4ebff;}#sk-container-id-2 input.sk-hidden--visually {border: 0;clip: rect(1px 1px 1px 1px);clip: rect(1px, 1px, 1px, 1px);height: 1px;margin: -1px;overflow: hidden;padding: 0;position: absolute;width: 1px;}#sk-container-id-2 div.sk-estimator {font-family: monospace;background-color: #f0f8ff;border: 1px dotted black;border-radius: 0.25em;box-sizing: border-box;margin-bottom: 0.5em;}#sk-container-id-2 div.sk-estimator:hover {background-color: #d4ebff;}#sk-container-id-2 div.sk-parallel-item::after {content: \"\";width: 100%;border-bottom: 1px solid gray;flex-grow: 1;}#sk-container-id-2 div.sk-label:hover label.sk-toggleable__label {background-color: #d4ebff;}#sk-container-id-2 div.sk-serial::before {content: \"\";position: absolute;border-left: 1px solid gray;box-sizing: border-box;top: 0;bottom: 0;left: 50%;z-index: 0;}#sk-container-id-2 div.sk-serial {display: flex;flex-direction: column;align-items: center;background-color: white;padding-right: 0.2em;padding-left: 0.2em;position: relative;}#sk-container-id-2 div.sk-item {position: relative;z-index: 1;}#sk-container-id-2 div.sk-parallel {display: flex;align-items: stretch;justify-content: center;background-color: white;position: relative;}#sk-container-id-2 div.sk-item::before, #sk-container-id-2 div.sk-parallel-item::before {content: \"\";position: absolute;border-left: 1px solid gray;box-sizing: border-box;top: 0;bottom: 0;left: 50%;z-index: -1;}#sk-container-id-2 div.sk-parallel-item {display: flex;flex-direction: column;z-index: 1;position: relative;background-color: white;}#sk-container-id-2 div.sk-parallel-item:first-child::after {align-self: flex-end;width: 50%;}#sk-container-id-2 div.sk-parallel-item:last-child::after {align-self: flex-start;width: 50%;}#sk-container-id-2 div.sk-parallel-item:only-child::after {width: 0;}#sk-container-id-2 div.sk-dashed-wrapped {border: 1px dashed gray;margin: 0 0.4em 0.5em 0.4em;box-sizing: border-box;padding-bottom: 0.4em;background-color: white;}#sk-container-id-2 div.sk-label label {font-family: monospace;font-weight: bold;display: inline-block;line-height: 1.2em;}#sk-container-id-2 div.sk-label-container {text-align: center;}#sk-container-id-2 div.sk-container {/* jupyter's `normalize.less` sets `[hidden] { display: none; }` but bootstrap.min.css set `[hidden] { display: none !important; }` so we also need the `!important` here to be able to override the default hidden behavior on the sphinx rendered scikit-learn.org. See: https://github.com/scikit-learn/scikit-learn/issues/21755 */display: inline-block !important;position: relative;}#sk-container-id-2 div.sk-text-repr-fallback {display: none;}</style><div id=\"sk-container-id-2\" class=\"sk-top-container\"><div class=\"sk-text-repr-fallback\"><pre>BaggingClassifier(estimator=RandomForestClassifier(max_depth=5),\n",
       "                  max_features=0.8, max_samples=0.8, n_estimators=100)</pre><b>In a Jupyter environment, please rerun this cell to show the HTML representation or trust the notebook. <br />On GitHub, the HTML representation is unable to render, please try loading this page with nbviewer.org.</b></div><div class=\"sk-container\" hidden><div class=\"sk-item sk-dashed-wrapped\"><div class=\"sk-label-container\"><div class=\"sk-label sk-toggleable\"><input class=\"sk-toggleable__control sk-hidden--visually\" id=\"sk-estimator-id-4\" type=\"checkbox\" ><label for=\"sk-estimator-id-4\" class=\"sk-toggleable__label sk-toggleable__label-arrow\">BaggingClassifier</label><div class=\"sk-toggleable__content\"><pre>BaggingClassifier(estimator=RandomForestClassifier(max_depth=5),\n",
       "                  max_features=0.8, max_samples=0.8, n_estimators=100)</pre></div></div></div><div class=\"sk-parallel\"><div class=\"sk-parallel-item\"><div class=\"sk-item\"><div class=\"sk-label-container\"><div class=\"sk-label sk-toggleable\"><input class=\"sk-toggleable__control sk-hidden--visually\" id=\"sk-estimator-id-5\" type=\"checkbox\" ><label for=\"sk-estimator-id-5\" class=\"sk-toggleable__label sk-toggleable__label-arrow\">estimator: RandomForestClassifier</label><div class=\"sk-toggleable__content\"><pre>RandomForestClassifier(max_depth=5)</pre></div></div></div><div class=\"sk-serial\"><div class=\"sk-item\"><div class=\"sk-estimator sk-toggleable\"><input class=\"sk-toggleable__control sk-hidden--visually\" id=\"sk-estimator-id-6\" type=\"checkbox\" ><label for=\"sk-estimator-id-6\" class=\"sk-toggleable__label sk-toggleable__label-arrow\">RandomForestClassifier</label><div class=\"sk-toggleable__content\"><pre>RandomForestClassifier(max_depth=5)</pre></div></div></div></div></div></div></div></div></div></div>"
      ],
      "text/plain": [
       "BaggingClassifier(estimator=RandomForestClassifier(max_depth=5),\n",
       "                  max_features=0.8, max_samples=0.8, n_estimators=100)"
      ]
     },
     "execution_count": 33,
     "metadata": {},
     "output_type": "execute_result"
    }
   ],
   "source": [
    "bagging.fit(X_train, y_train)"
   ]
  },
  {
   "cell_type": "code",
   "execution_count": 34,
   "id": "273d942c",
   "metadata": {
    "execution": {
     "iopub.execute_input": "2024-02-29T18:20:04.152189Z",
     "iopub.status.busy": "2024-02-29T18:20:04.151682Z",
     "iopub.status.idle": "2024-02-29T18:24:53.004598Z",
     "shell.execute_reply": "2024-02-29T18:24:53.002867Z"
    },
    "papermill": {
     "duration": 288.879612,
     "end_time": "2024-02-29T18:24:53.008030",
     "exception": false,
     "start_time": "2024-02-29T18:20:04.128418",
     "status": "completed"
    },
    "tags": []
   },
   "outputs": [],
   "source": [
    "y_pred2 =bagging.predict(X_test)"
   ]
  },
  {
   "cell_type": "code",
   "execution_count": 35,
   "id": "a0781559",
   "metadata": {
    "execution": {
     "iopub.execute_input": "2024-02-29T18:24:53.049154Z",
     "iopub.status.busy": "2024-02-29T18:24:53.048448Z",
     "iopub.status.idle": "2024-02-29T18:24:53.834590Z",
     "shell.execute_reply": "2024-02-29T18:24:53.833099Z"
    },
    "papermill": {
     "duration": 0.810033,
     "end_time": "2024-02-29T18:24:53.837579",
     "exception": false,
     "start_time": "2024-02-29T18:24:53.027546",
     "status": "completed"
    },
    "tags": []
   },
   "outputs": [],
   "source": [
    "Accuracy2 = accuracy_score(y_test, y_pred2)\n",
    "recall2 = recall_score(y_test, y_pred2)\n",
    "precision2 = precision_score(y_test, y_pred2)\n",
    "f12 = f1_score(y_test, y_pred2)\n",
    "mcc2 = matthews_corrcoef(y_test, y_pred2)"
   ]
  },
  {
   "cell_type": "code",
   "execution_count": 36,
   "id": "696c9db3",
   "metadata": {
    "execution": {
     "iopub.execute_input": "2024-02-29T18:24:53.879283Z",
     "iopub.status.busy": "2024-02-29T18:24:53.878636Z",
     "iopub.status.idle": "2024-02-29T18:24:53.887942Z",
     "shell.execute_reply": "2024-02-29T18:24:53.885435Z"
    },
    "papermill": {
     "duration": 0.033701,
     "end_time": "2024-02-29T18:24:53.890922",
     "exception": false,
     "start_time": "2024-02-29T18:24:53.857221",
     "status": "completed"
    },
    "tags": []
   },
   "outputs": [
    {
     "name": "stdout",
     "output_type": "stream",
     "text": [
      "Mhd Ahmed Dataset Bagging\n",
      "Accuracy: 98.65435258507777\n",
      "Recall: 87.14463951519473\n",
      "Precision: 99.8850838887612\n",
      "F1 Score: 93.08092286091643\n",
      "MCC Score: 92.60320006957366\n"
     ]
    }
   ],
   "source": [
    "print(\"Mhd Ahmed Dataset Bagging\")\n",
    "print('Accuracy:', Accuracy2*100)\n",
    "print('Recall:', recall2*100)\n",
    "print('Precision:', precision2*100)\n",
    "print('F1 Score:', f12*100)\n",
    "print('MCC Score:', mcc2*100)"
   ]
  },
  {
   "cell_type": "code",
   "execution_count": 37,
   "id": "8276c871",
   "metadata": {
    "execution": {
     "iopub.execute_input": "2024-02-29T18:24:53.934608Z",
     "iopub.status.busy": "2024-02-29T18:24:53.934143Z",
     "iopub.status.idle": "2024-02-29T18:24:54.330835Z",
     "shell.execute_reply": "2024-02-29T18:24:54.329578Z"
    },
    "papermill": {
     "duration": 0.422263,
     "end_time": "2024-02-29T18:24:54.333954",
     "exception": false,
     "start_time": "2024-02-29T18:24:53.911691",
     "status": "completed"
    },
    "tags": []
   },
   "outputs": [
    {
     "name": "stderr",
     "output_type": "stream",
     "text": [
      "/opt/conda/lib/python3.10/site-packages/seaborn/_oldcore.py:1765: FutureWarning: unique with argument that is not not a Series, Index, ExtensionArray, or np.ndarray is deprecated and will raise in a future version.\n",
      "  order = pd.unique(vector)\n"
     ]
    },
    {
     "data": {
      "image/png": "[encoded data removed]",
      "text/plain": [
       "<Figure size 800x300 with 1 Axes>"
      ]
     },
     "metadata": {},
     "output_type": "display_data"
    }
   ],
   "source": [
    "labels = ['Accuracy', 'Recall', 'Precision', 'F1 score', 'MCC']\n",
    "scores = [Accuracy2, recall2, precision2, f12,mcc2]  \n",
    "\n",
    "sns.set(style='whitegrid')\n",
    "sns.set_color_codes('pastel')\n",
    "palette = sns.color_palette('Set1')\n",
    "\n",
    "fig, ax = plt.subplots(figsize=(8, 3))\n",
    "sns.barplot(x=scores, y=labels, palette=palette)\n",
    "\n",
    "for i, v in enumerate(scores):\n",
    "    ax.text(v + 0.01, i, f'{v * 100:.2f}%', color='black', fontweight='bold')\n",
    "\n",
    "ax.set_xlim(0, 1)\n",
    "ax.set_xlabel('Score')\n",
    "ax.set_ylabel('Metric')\n",
    "ax.set_title(\"Model performance on Mhd Ahmed Datasets Bagging\")\n",
    "\n",
    "plt.show()\n"
   ]
  },
  {
   "cell_type": "code",
   "execution_count": 38,
   "id": "3816e563",
   "metadata": {
    "execution": {
     "iopub.execute_input": "2024-02-29T18:24:54.378302Z",
     "iopub.status.busy": "2024-02-29T18:24:54.377869Z",
     "iopub.status.idle": "2024-02-29T18:24:54.840756Z",
     "shell.execute_reply": "2024-02-29T18:24:54.839433Z"
    },
    "papermill": {
     "duration": 0.487966,
     "end_time": "2024-02-29T18:24:54.844070",
     "exception": false,
     "start_time": "2024-02-29T18:24:54.356104",
     "status": "completed"
    },
    "tags": []
   },
   "outputs": [
    {
     "data": {
      "image/png": "[encoded data removed]",
      "text/plain": [
       "<Figure size 800x600 with 2 Axes>"
      ]
     },
     "metadata": {},
     "output_type": "display_data"
    }
   ],
   "source": [
    "cm = confusion_matrix(y_test, y_pred2)\n",
    "plt.figure(figsize=(8,6))\n",
    "sns.heatmap(cm, annot=True, cmap='Blues', fmt='g', \n",
    "            xticklabels=['BENIGN', 'DDos'], yticklabels=['BENIGN', 'DDos'])\n",
    "plt.xlabel('Predicted labels')\n",
    "plt.ylabel('True labels')\n",
    "plt.show()"
   ]
  },
  {
   "cell_type": "code",
   "execution_count": null,
   "id": "a2e2803c",
   "metadata": {
    "papermill": {
     "duration": 0.021579,
     "end_time": "2024-02-29T18:24:54.888941",
     "exception": false,
     "start_time": "2024-02-29T18:24:54.867362",
     "status": "completed"
    },
    "tags": []
   },
   "outputs": [],
   "source": []
  },
  {
   "cell_type": "code",
   "execution_count": null,
   "id": "242e0d54",
   "metadata": {
    "papermill": {
     "duration": 0.020873,
     "end_time": "2024-02-29T18:24:54.930582",
     "exception": false,
     "start_time": "2024-02-29T18:24:54.909709",
     "status": "completed"
    },
    "tags": []
   },
   "outputs": [],
   "source": []
  }
 ],
 "metadata": {
  "kaggle": {
   "accelerator": "none",
   "dataSources": [
    {
     "datasetId": 4513832,
     "sourceId": 7726126,
     "sourceType": "datasetVersion"
    }
   ],
   "dockerImageVersionId": 30664,
   "isGpuEnabled": false,
   "isInternetEnabled": true,
   "language": "python",
   "sourceType": "notebook"
  },
  "kernelspec": {
   "display_name": "Python 3",
   "language": "python",
   "name": "python3"
  },
  "language_info": {
   "codemirror_mode": {
    "name": "ipython",
    "version": 3
   },
   "file_extension": ".py",
   "mimetype": "text/x-python",
   "name": "python",
   "nbconvert_exporter": "python",
   "pygments_lexer": "ipython3",
   "version": "3.10.13"
  },
  "papermill": {
   "default_parameters": {},
   "duration": 37723.479624,
   "end_time": "2024-02-29T18:24:56.572348",
   "environment_variables": {},
   "exception": null,
   "input_path": "__notebook__.ipynb",
   "output_path": "__notebook__.ipynb",
   "parameters": {},
   "start_time": "2024-02-29T07:56:13.092724",
   "version": "2.5.0"
  }
 },
 "nbformat": 4,
 "nbformat_minor": 5
}
